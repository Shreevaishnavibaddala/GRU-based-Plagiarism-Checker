{
  "nbformat": 4,
  "nbformat_minor": 0,
  "metadata": {
    "colab": {
      "provenance": [],
      "gpuType": "T4"
    },
    "kernelspec": {
      "name": "python3",
      "display_name": "Python 3"
    },
    "language_info": {
      "name": "python"
    },
    "accelerator": "GPU",
    "widgets": {
      "application/vnd.jupyter.widget-state+json": {
        "041c62aadbfe44b6a662a429de990123": {
          "model_module": "@jupyter-widgets/controls",
          "model_name": "HBoxModel",
          "model_module_version": "1.5.0",
          "state": {
            "_dom_classes": [],
            "_model_module": "@jupyter-widgets/controls",
            "_model_module_version": "1.5.0",
            "_model_name": "HBoxModel",
            "_view_count": null,
            "_view_module": "@jupyter-widgets/controls",
            "_view_module_version": "1.5.0",
            "_view_name": "HBoxView",
            "box_style": "",
            "children": [
              "IPY_MODEL_0b3b381ec76445aaa136adb8726222fc",
              "IPY_MODEL_ceb1c9d1513c4ae8962e2245d29ffd45",
              "IPY_MODEL_1de64da0bb4d40328d20c7ae1c5eb826"
            ],
            "layout": "IPY_MODEL_689a5b2b0c1f43619275a2f6a2983c45"
          }
        },
        "0b3b381ec76445aaa136adb8726222fc": {
          "model_module": "@jupyter-widgets/controls",
          "model_name": "HTMLModel",
          "model_module_version": "1.5.0",
          "state": {
            "_dom_classes": [],
            "_model_module": "@jupyter-widgets/controls",
            "_model_module_version": "1.5.0",
            "_model_name": "HTMLModel",
            "_view_count": null,
            "_view_module": "@jupyter-widgets/controls",
            "_view_module_version": "1.5.0",
            "_view_name": "HTMLView",
            "description": "",
            "description_tooltip": null,
            "layout": "IPY_MODEL_c93478f2562841429cc6fcea95bb2b2a",
            "placeholder": "​",
            "style": "IPY_MODEL_85250ea9778e4572867bf30c8a8ff3b9",
            "value": "100%"
          }
        },
        "ceb1c9d1513c4ae8962e2245d29ffd45": {
          "model_module": "@jupyter-widgets/controls",
          "model_name": "FloatProgressModel",
          "model_module_version": "1.5.0",
          "state": {
            "_dom_classes": [],
            "_model_module": "@jupyter-widgets/controls",
            "_model_module_version": "1.5.0",
            "_model_name": "FloatProgressModel",
            "_view_count": null,
            "_view_module": "@jupyter-widgets/controls",
            "_view_module_version": "1.5.0",
            "_view_name": "ProgressView",
            "bar_style": "success",
            "description": "",
            "description_tooltip": null,
            "layout": "IPY_MODEL_760717d215764da3a04c0509317715e0",
            "max": 367373,
            "min": 0,
            "orientation": "horizontal",
            "style": "IPY_MODEL_9d30cc1283e640bd94ee57511e2533ee",
            "value": 367373
          }
        },
        "1de64da0bb4d40328d20c7ae1c5eb826": {
          "model_module": "@jupyter-widgets/controls",
          "model_name": "HTMLModel",
          "model_module_version": "1.5.0",
          "state": {
            "_dom_classes": [],
            "_model_module": "@jupyter-widgets/controls",
            "_model_module_version": "1.5.0",
            "_model_name": "HTMLModel",
            "_view_count": null,
            "_view_module": "@jupyter-widgets/controls",
            "_view_module_version": "1.5.0",
            "_view_name": "HTMLView",
            "description": "",
            "description_tooltip": null,
            "layout": "IPY_MODEL_43a99569023c44179bdd865c59506e32",
            "placeholder": "​",
            "style": "IPY_MODEL_5112772526494b66a80d8a9bb856cef6",
            "value": " 367373/367373 [00:01&lt;00:00, 279641.54it/s]"
          }
        },
        "689a5b2b0c1f43619275a2f6a2983c45": {
          "model_module": "@jupyter-widgets/base",
          "model_name": "LayoutModel",
          "model_module_version": "1.2.0",
          "state": {
            "_model_module": "@jupyter-widgets/base",
            "_model_module_version": "1.2.0",
            "_model_name": "LayoutModel",
            "_view_count": null,
            "_view_module": "@jupyter-widgets/base",
            "_view_module_version": "1.2.0",
            "_view_name": "LayoutView",
            "align_content": null,
            "align_items": null,
            "align_self": null,
            "border": null,
            "bottom": null,
            "display": null,
            "flex": null,
            "flex_flow": null,
            "grid_area": null,
            "grid_auto_columns": null,
            "grid_auto_flow": null,
            "grid_auto_rows": null,
            "grid_column": null,
            "grid_gap": null,
            "grid_row": null,
            "grid_template_areas": null,
            "grid_template_columns": null,
            "grid_template_rows": null,
            "height": null,
            "justify_content": null,
            "justify_items": null,
            "left": null,
            "margin": null,
            "max_height": null,
            "max_width": null,
            "min_height": null,
            "min_width": null,
            "object_fit": null,
            "object_position": null,
            "order": null,
            "overflow": null,
            "overflow_x": null,
            "overflow_y": null,
            "padding": null,
            "right": null,
            "top": null,
            "visibility": null,
            "width": null
          }
        },
        "c93478f2562841429cc6fcea95bb2b2a": {
          "model_module": "@jupyter-widgets/base",
          "model_name": "LayoutModel",
          "model_module_version": "1.2.0",
          "state": {
            "_model_module": "@jupyter-widgets/base",
            "_model_module_version": "1.2.0",
            "_model_name": "LayoutModel",
            "_view_count": null,
            "_view_module": "@jupyter-widgets/base",
            "_view_module_version": "1.2.0",
            "_view_name": "LayoutView",
            "align_content": null,
            "align_items": null,
            "align_self": null,
            "border": null,
            "bottom": null,
            "display": null,
            "flex": null,
            "flex_flow": null,
            "grid_area": null,
            "grid_auto_columns": null,
            "grid_auto_flow": null,
            "grid_auto_rows": null,
            "grid_column": null,
            "grid_gap": null,
            "grid_row": null,
            "grid_template_areas": null,
            "grid_template_columns": null,
            "grid_template_rows": null,
            "height": null,
            "justify_content": null,
            "justify_items": null,
            "left": null,
            "margin": null,
            "max_height": null,
            "max_width": null,
            "min_height": null,
            "min_width": null,
            "object_fit": null,
            "object_position": null,
            "order": null,
            "overflow": null,
            "overflow_x": null,
            "overflow_y": null,
            "padding": null,
            "right": null,
            "top": null,
            "visibility": null,
            "width": null
          }
        },
        "85250ea9778e4572867bf30c8a8ff3b9": {
          "model_module": "@jupyter-widgets/controls",
          "model_name": "DescriptionStyleModel",
          "model_module_version": "1.5.0",
          "state": {
            "_model_module": "@jupyter-widgets/controls",
            "_model_module_version": "1.5.0",
            "_model_name": "DescriptionStyleModel",
            "_view_count": null,
            "_view_module": "@jupyter-widgets/base",
            "_view_module_version": "1.2.0",
            "_view_name": "StyleView",
            "description_width": ""
          }
        },
        "760717d215764da3a04c0509317715e0": {
          "model_module": "@jupyter-widgets/base",
          "model_name": "LayoutModel",
          "model_module_version": "1.2.0",
          "state": {
            "_model_module": "@jupyter-widgets/base",
            "_model_module_version": "1.2.0",
            "_model_name": "LayoutModel",
            "_view_count": null,
            "_view_module": "@jupyter-widgets/base",
            "_view_module_version": "1.2.0",
            "_view_name": "LayoutView",
            "align_content": null,
            "align_items": null,
            "align_self": null,
            "border": null,
            "bottom": null,
            "display": null,
            "flex": null,
            "flex_flow": null,
            "grid_area": null,
            "grid_auto_columns": null,
            "grid_auto_flow": null,
            "grid_auto_rows": null,
            "grid_column": null,
            "grid_gap": null,
            "grid_row": null,
            "grid_template_areas": null,
            "grid_template_columns": null,
            "grid_template_rows": null,
            "height": null,
            "justify_content": null,
            "justify_items": null,
            "left": null,
            "margin": null,
            "max_height": null,
            "max_width": null,
            "min_height": null,
            "min_width": null,
            "object_fit": null,
            "object_position": null,
            "order": null,
            "overflow": null,
            "overflow_x": null,
            "overflow_y": null,
            "padding": null,
            "right": null,
            "top": null,
            "visibility": null,
            "width": null
          }
        },
        "9d30cc1283e640bd94ee57511e2533ee": {
          "model_module": "@jupyter-widgets/controls",
          "model_name": "ProgressStyleModel",
          "model_module_version": "1.5.0",
          "state": {
            "_model_module": "@jupyter-widgets/controls",
            "_model_module_version": "1.5.0",
            "_model_name": "ProgressStyleModel",
            "_view_count": null,
            "_view_module": "@jupyter-widgets/base",
            "_view_module_version": "1.2.0",
            "_view_name": "StyleView",
            "bar_color": null,
            "description_width": ""
          }
        },
        "43a99569023c44179bdd865c59506e32": {
          "model_module": "@jupyter-widgets/base",
          "model_name": "LayoutModel",
          "model_module_version": "1.2.0",
          "state": {
            "_model_module": "@jupyter-widgets/base",
            "_model_module_version": "1.2.0",
            "_model_name": "LayoutModel",
            "_view_count": null,
            "_view_module": "@jupyter-widgets/base",
            "_view_module_version": "1.2.0",
            "_view_name": "LayoutView",
            "align_content": null,
            "align_items": null,
            "align_self": null,
            "border": null,
            "bottom": null,
            "display": null,
            "flex": null,
            "flex_flow": null,
            "grid_area": null,
            "grid_auto_columns": null,
            "grid_auto_flow": null,
            "grid_auto_rows": null,
            "grid_column": null,
            "grid_gap": null,
            "grid_row": null,
            "grid_template_areas": null,
            "grid_template_columns": null,
            "grid_template_rows": null,
            "height": null,
            "justify_content": null,
            "justify_items": null,
            "left": null,
            "margin": null,
            "max_height": null,
            "max_width": null,
            "min_height": null,
            "min_width": null,
            "object_fit": null,
            "object_position": null,
            "order": null,
            "overflow": null,
            "overflow_x": null,
            "overflow_y": null,
            "padding": null,
            "right": null,
            "top": null,
            "visibility": null,
            "width": null
          }
        },
        "5112772526494b66a80d8a9bb856cef6": {
          "model_module": "@jupyter-widgets/controls",
          "model_name": "DescriptionStyleModel",
          "model_module_version": "1.5.0",
          "state": {
            "_model_module": "@jupyter-widgets/controls",
            "_model_module_version": "1.5.0",
            "_model_name": "DescriptionStyleModel",
            "_view_count": null,
            "_view_module": "@jupyter-widgets/base",
            "_view_module_version": "1.2.0",
            "_view_name": "StyleView",
            "description_width": ""
          }
        },
        "ad06a9a26bd743689a5f6eeade091fcc": {
          "model_module": "@jupyter-widgets/controls",
          "model_name": "HBoxModel",
          "model_module_version": "1.5.0",
          "state": {
            "_dom_classes": [],
            "_model_module": "@jupyter-widgets/controls",
            "_model_module_version": "1.5.0",
            "_model_name": "HBoxModel",
            "_view_count": null,
            "_view_module": "@jupyter-widgets/controls",
            "_view_module_version": "1.5.0",
            "_view_name": "HBoxView",
            "box_style": "",
            "children": [
              "IPY_MODEL_e91c6f7cac594826b14f2711169ca3e5",
              "IPY_MODEL_0da4787da00f4c65ac58553cb0f1d155",
              "IPY_MODEL_9e93a4e258714878b8760e66c802cb11"
            ],
            "layout": "IPY_MODEL_282ce36706ff4a63aeff45bedaf0422f"
          }
        },
        "e91c6f7cac594826b14f2711169ca3e5": {
          "model_module": "@jupyter-widgets/controls",
          "model_name": "HTMLModel",
          "model_module_version": "1.5.0",
          "state": {
            "_dom_classes": [],
            "_model_module": "@jupyter-widgets/controls",
            "_model_module_version": "1.5.0",
            "_model_name": "HTMLModel",
            "_view_count": null,
            "_view_module": "@jupyter-widgets/controls",
            "_view_module_version": "1.5.0",
            "_view_name": "HTMLView",
            "description": "",
            "description_tooltip": null,
            "layout": "IPY_MODEL_f3fc502a7be2454a9ff7beba94604d3c",
            "placeholder": "​",
            "style": "IPY_MODEL_361ce5543f6a41caa86b9834c886b61e",
            "value": "100%"
          }
        },
        "0da4787da00f4c65ac58553cb0f1d155": {
          "model_module": "@jupyter-widgets/controls",
          "model_name": "FloatProgressModel",
          "model_module_version": "1.5.0",
          "state": {
            "_dom_classes": [],
            "_model_module": "@jupyter-widgets/controls",
            "_model_module_version": "1.5.0",
            "_model_name": "FloatProgressModel",
            "_view_count": null,
            "_view_module": "@jupyter-widgets/controls",
            "_view_module_version": "1.5.0",
            "_view_name": "ProgressView",
            "bar_style": "success",
            "description": "",
            "description_tooltip": null,
            "layout": "IPY_MODEL_38feca7091e54a9bb0d5926ac4a0f477",
            "max": 50000,
            "min": 0,
            "orientation": "horizontal",
            "style": "IPY_MODEL_29e2cd295a194f748b4050c6d43bbf3b",
            "value": 50000
          }
        },
        "9e93a4e258714878b8760e66c802cb11": {
          "model_module": "@jupyter-widgets/controls",
          "model_name": "HTMLModel",
          "model_module_version": "1.5.0",
          "state": {
            "_dom_classes": [],
            "_model_module": "@jupyter-widgets/controls",
            "_model_module_version": "1.5.0",
            "_model_name": "HTMLModel",
            "_view_count": null,
            "_view_module": "@jupyter-widgets/controls",
            "_view_module_version": "1.5.0",
            "_view_name": "HTMLView",
            "description": "",
            "description_tooltip": null,
            "layout": "IPY_MODEL_8ce15765eb3f4ee484ef383cc0711219",
            "placeholder": "​",
            "style": "IPY_MODEL_2da523755de340b39d3ebb3c053c644e",
            "value": " 50000/50000 [03:32&lt;00:00, 261.37it/s]"
          }
        },
        "282ce36706ff4a63aeff45bedaf0422f": {
          "model_module": "@jupyter-widgets/base",
          "model_name": "LayoutModel",
          "model_module_version": "1.2.0",
          "state": {
            "_model_module": "@jupyter-widgets/base",
            "_model_module_version": "1.2.0",
            "_model_name": "LayoutModel",
            "_view_count": null,
            "_view_module": "@jupyter-widgets/base",
            "_view_module_version": "1.2.0",
            "_view_name": "LayoutView",
            "align_content": null,
            "align_items": null,
            "align_self": null,
            "border": null,
            "bottom": null,
            "display": null,
            "flex": null,
            "flex_flow": null,
            "grid_area": null,
            "grid_auto_columns": null,
            "grid_auto_flow": null,
            "grid_auto_rows": null,
            "grid_column": null,
            "grid_gap": null,
            "grid_row": null,
            "grid_template_areas": null,
            "grid_template_columns": null,
            "grid_template_rows": null,
            "height": null,
            "justify_content": null,
            "justify_items": null,
            "left": null,
            "margin": null,
            "max_height": null,
            "max_width": null,
            "min_height": null,
            "min_width": null,
            "object_fit": null,
            "object_position": null,
            "order": null,
            "overflow": null,
            "overflow_x": null,
            "overflow_y": null,
            "padding": null,
            "right": null,
            "top": null,
            "visibility": null,
            "width": null
          }
        },
        "f3fc502a7be2454a9ff7beba94604d3c": {
          "model_module": "@jupyter-widgets/base",
          "model_name": "LayoutModel",
          "model_module_version": "1.2.0",
          "state": {
            "_model_module": "@jupyter-widgets/base",
            "_model_module_version": "1.2.0",
            "_model_name": "LayoutModel",
            "_view_count": null,
            "_view_module": "@jupyter-widgets/base",
            "_view_module_version": "1.2.0",
            "_view_name": "LayoutView",
            "align_content": null,
            "align_items": null,
            "align_self": null,
            "border": null,
            "bottom": null,
            "display": null,
            "flex": null,
            "flex_flow": null,
            "grid_area": null,
            "grid_auto_columns": null,
            "grid_auto_flow": null,
            "grid_auto_rows": null,
            "grid_column": null,
            "grid_gap": null,
            "grid_row": null,
            "grid_template_areas": null,
            "grid_template_columns": null,
            "grid_template_rows": null,
            "height": null,
            "justify_content": null,
            "justify_items": null,
            "left": null,
            "margin": null,
            "max_height": null,
            "max_width": null,
            "min_height": null,
            "min_width": null,
            "object_fit": null,
            "object_position": null,
            "order": null,
            "overflow": null,
            "overflow_x": null,
            "overflow_y": null,
            "padding": null,
            "right": null,
            "top": null,
            "visibility": null,
            "width": null
          }
        },
        "361ce5543f6a41caa86b9834c886b61e": {
          "model_module": "@jupyter-widgets/controls",
          "model_name": "DescriptionStyleModel",
          "model_module_version": "1.5.0",
          "state": {
            "_model_module": "@jupyter-widgets/controls",
            "_model_module_version": "1.5.0",
            "_model_name": "DescriptionStyleModel",
            "_view_count": null,
            "_view_module": "@jupyter-widgets/base",
            "_view_module_version": "1.2.0",
            "_view_name": "StyleView",
            "description_width": ""
          }
        },
        "38feca7091e54a9bb0d5926ac4a0f477": {
          "model_module": "@jupyter-widgets/base",
          "model_name": "LayoutModel",
          "model_module_version": "1.2.0",
          "state": {
            "_model_module": "@jupyter-widgets/base",
            "_model_module_version": "1.2.0",
            "_model_name": "LayoutModel",
            "_view_count": null,
            "_view_module": "@jupyter-widgets/base",
            "_view_module_version": "1.2.0",
            "_view_name": "LayoutView",
            "align_content": null,
            "align_items": null,
            "align_self": null,
            "border": null,
            "bottom": null,
            "display": null,
            "flex": null,
            "flex_flow": null,
            "grid_area": null,
            "grid_auto_columns": null,
            "grid_auto_flow": null,
            "grid_auto_rows": null,
            "grid_column": null,
            "grid_gap": null,
            "grid_row": null,
            "grid_template_areas": null,
            "grid_template_columns": null,
            "grid_template_rows": null,
            "height": null,
            "justify_content": null,
            "justify_items": null,
            "left": null,
            "margin": null,
            "max_height": null,
            "max_width": null,
            "min_height": null,
            "min_width": null,
            "object_fit": null,
            "object_position": null,
            "order": null,
            "overflow": null,
            "overflow_x": null,
            "overflow_y": null,
            "padding": null,
            "right": null,
            "top": null,
            "visibility": null,
            "width": null
          }
        },
        "29e2cd295a194f748b4050c6d43bbf3b": {
          "model_module": "@jupyter-widgets/controls",
          "model_name": "ProgressStyleModel",
          "model_module_version": "1.5.0",
          "state": {
            "_model_module": "@jupyter-widgets/controls",
            "_model_module_version": "1.5.0",
            "_model_name": "ProgressStyleModel",
            "_view_count": null,
            "_view_module": "@jupyter-widgets/base",
            "_view_module_version": "1.2.0",
            "_view_name": "StyleView",
            "bar_color": null,
            "description_width": ""
          }
        },
        "8ce15765eb3f4ee484ef383cc0711219": {
          "model_module": "@jupyter-widgets/base",
          "model_name": "LayoutModel",
          "model_module_version": "1.2.0",
          "state": {
            "_model_module": "@jupyter-widgets/base",
            "_model_module_version": "1.2.0",
            "_model_name": "LayoutModel",
            "_view_count": null,
            "_view_module": "@jupyter-widgets/base",
            "_view_module_version": "1.2.0",
            "_view_name": "LayoutView",
            "align_content": null,
            "align_items": null,
            "align_self": null,
            "border": null,
            "bottom": null,
            "display": null,
            "flex": null,
            "flex_flow": null,
            "grid_area": null,
            "grid_auto_columns": null,
            "grid_auto_flow": null,
            "grid_auto_rows": null,
            "grid_column": null,
            "grid_gap": null,
            "grid_row": null,
            "grid_template_areas": null,
            "grid_template_columns": null,
            "grid_template_rows": null,
            "height": null,
            "justify_content": null,
            "justify_items": null,
            "left": null,
            "margin": null,
            "max_height": null,
            "max_width": null,
            "min_height": null,
            "min_width": null,
            "object_fit": null,
            "object_position": null,
            "order": null,
            "overflow": null,
            "overflow_x": null,
            "overflow_y": null,
            "padding": null,
            "right": null,
            "top": null,
            "visibility": null,
            "width": null
          }
        },
        "2da523755de340b39d3ebb3c053c644e": {
          "model_module": "@jupyter-widgets/controls",
          "model_name": "DescriptionStyleModel",
          "model_module_version": "1.5.0",
          "state": {
            "_model_module": "@jupyter-widgets/controls",
            "_model_module_version": "1.5.0",
            "_model_name": "DescriptionStyleModel",
            "_view_count": null,
            "_view_module": "@jupyter-widgets/base",
            "_view_module_version": "1.2.0",
            "_view_name": "StyleView",
            "description_width": ""
          }
        },
        "cdd7ad65e7554ef0b3c11669971e58b4": {
          "model_module": "@jupyter-widgets/controls",
          "model_name": "HBoxModel",
          "model_module_version": "1.5.0",
          "state": {
            "_dom_classes": [],
            "_model_module": "@jupyter-widgets/controls",
            "_model_module_version": "1.5.0",
            "_model_name": "HBoxModel",
            "_view_count": null,
            "_view_module": "@jupyter-widgets/controls",
            "_view_module_version": "1.5.0",
            "_view_name": "HBoxView",
            "box_style": "",
            "children": [
              "IPY_MODEL_63b223057fb245508fcaf00669a15768",
              "IPY_MODEL_1dc1881c4cd94a9d87efe0d5bb4f59d6",
              "IPY_MODEL_0b91698290144bc38623e37f0da117af"
            ],
            "layout": "IPY_MODEL_9f82942db2a2473892eb97af1c351e9a"
          }
        },
        "63b223057fb245508fcaf00669a15768": {
          "model_module": "@jupyter-widgets/controls",
          "model_name": "HTMLModel",
          "model_module_version": "1.5.0",
          "state": {
            "_dom_classes": [],
            "_model_module": "@jupyter-widgets/controls",
            "_model_module_version": "1.5.0",
            "_model_name": "HTMLModel",
            "_view_count": null,
            "_view_module": "@jupyter-widgets/controls",
            "_view_module_version": "1.5.0",
            "_view_name": "HTMLView",
            "description": "",
            "description_tooltip": null,
            "layout": "IPY_MODEL_84d3c3e7d5d04a71bf77b5938dc5766f",
            "placeholder": "​",
            "style": "IPY_MODEL_fc603ff3467840f99b20ad2665aecc5a",
            "value": "100%"
          }
        },
        "1dc1881c4cd94a9d87efe0d5bb4f59d6": {
          "model_module": "@jupyter-widgets/controls",
          "model_name": "FloatProgressModel",
          "model_module_version": "1.5.0",
          "state": {
            "_dom_classes": [],
            "_model_module": "@jupyter-widgets/controls",
            "_model_module_version": "1.5.0",
            "_model_name": "FloatProgressModel",
            "_view_count": null,
            "_view_module": "@jupyter-widgets/controls",
            "_view_module_version": "1.5.0",
            "_view_name": "ProgressView",
            "bar_style": "success",
            "description": "",
            "description_tooltip": null,
            "layout": "IPY_MODEL_eb6a7cf0404e4369bb9cd7222ce09f79",
            "max": 50000,
            "min": 0,
            "orientation": "horizontal",
            "style": "IPY_MODEL_d28aa1a802cd4c85aff0989ab3ba6c7a",
            "value": 50000
          }
        },
        "0b91698290144bc38623e37f0da117af": {
          "model_module": "@jupyter-widgets/controls",
          "model_name": "HTMLModel",
          "model_module_version": "1.5.0",
          "state": {
            "_dom_classes": [],
            "_model_module": "@jupyter-widgets/controls",
            "_model_module_version": "1.5.0",
            "_model_name": "HTMLModel",
            "_view_count": null,
            "_view_module": "@jupyter-widgets/controls",
            "_view_module_version": "1.5.0",
            "_view_name": "HTMLView",
            "description": "",
            "description_tooltip": null,
            "layout": "IPY_MODEL_793f784c512c4e9a8d31bae315fb3493",
            "placeholder": "​",
            "style": "IPY_MODEL_e67192844391416885ddc20df0ff657a",
            "value": " 50000/50000 [03:12&lt;00:00, 265.28it/s]"
          }
        },
        "9f82942db2a2473892eb97af1c351e9a": {
          "model_module": "@jupyter-widgets/base",
          "model_name": "LayoutModel",
          "model_module_version": "1.2.0",
          "state": {
            "_model_module": "@jupyter-widgets/base",
            "_model_module_version": "1.2.0",
            "_model_name": "LayoutModel",
            "_view_count": null,
            "_view_module": "@jupyter-widgets/base",
            "_view_module_version": "1.2.0",
            "_view_name": "LayoutView",
            "align_content": null,
            "align_items": null,
            "align_self": null,
            "border": null,
            "bottom": null,
            "display": null,
            "flex": null,
            "flex_flow": null,
            "grid_area": null,
            "grid_auto_columns": null,
            "grid_auto_flow": null,
            "grid_auto_rows": null,
            "grid_column": null,
            "grid_gap": null,
            "grid_row": null,
            "grid_template_areas": null,
            "grid_template_columns": null,
            "grid_template_rows": null,
            "height": null,
            "justify_content": null,
            "justify_items": null,
            "left": null,
            "margin": null,
            "max_height": null,
            "max_width": null,
            "min_height": null,
            "min_width": null,
            "object_fit": null,
            "object_position": null,
            "order": null,
            "overflow": null,
            "overflow_x": null,
            "overflow_y": null,
            "padding": null,
            "right": null,
            "top": null,
            "visibility": null,
            "width": null
          }
        },
        "84d3c3e7d5d04a71bf77b5938dc5766f": {
          "model_module": "@jupyter-widgets/base",
          "model_name": "LayoutModel",
          "model_module_version": "1.2.0",
          "state": {
            "_model_module": "@jupyter-widgets/base",
            "_model_module_version": "1.2.0",
            "_model_name": "LayoutModel",
            "_view_count": null,
            "_view_module": "@jupyter-widgets/base",
            "_view_module_version": "1.2.0",
            "_view_name": "LayoutView",
            "align_content": null,
            "align_items": null,
            "align_self": null,
            "border": null,
            "bottom": null,
            "display": null,
            "flex": null,
            "flex_flow": null,
            "grid_area": null,
            "grid_auto_columns": null,
            "grid_auto_flow": null,
            "grid_auto_rows": null,
            "grid_column": null,
            "grid_gap": null,
            "grid_row": null,
            "grid_template_areas": null,
            "grid_template_columns": null,
            "grid_template_rows": null,
            "height": null,
            "justify_content": null,
            "justify_items": null,
            "left": null,
            "margin": null,
            "max_height": null,
            "max_width": null,
            "min_height": null,
            "min_width": null,
            "object_fit": null,
            "object_position": null,
            "order": null,
            "overflow": null,
            "overflow_x": null,
            "overflow_y": null,
            "padding": null,
            "right": null,
            "top": null,
            "visibility": null,
            "width": null
          }
        },
        "fc603ff3467840f99b20ad2665aecc5a": {
          "model_module": "@jupyter-widgets/controls",
          "model_name": "DescriptionStyleModel",
          "model_module_version": "1.5.0",
          "state": {
            "_model_module": "@jupyter-widgets/controls",
            "_model_module_version": "1.5.0",
            "_model_name": "DescriptionStyleModel",
            "_view_count": null,
            "_view_module": "@jupyter-widgets/base",
            "_view_module_version": "1.2.0",
            "_view_name": "StyleView",
            "description_width": ""
          }
        },
        "eb6a7cf0404e4369bb9cd7222ce09f79": {
          "model_module": "@jupyter-widgets/base",
          "model_name": "LayoutModel",
          "model_module_version": "1.2.0",
          "state": {
            "_model_module": "@jupyter-widgets/base",
            "_model_module_version": "1.2.0",
            "_model_name": "LayoutModel",
            "_view_count": null,
            "_view_module": "@jupyter-widgets/base",
            "_view_module_version": "1.2.0",
            "_view_name": "LayoutView",
            "align_content": null,
            "align_items": null,
            "align_self": null,
            "border": null,
            "bottom": null,
            "display": null,
            "flex": null,
            "flex_flow": null,
            "grid_area": null,
            "grid_auto_columns": null,
            "grid_auto_flow": null,
            "grid_auto_rows": null,
            "grid_column": null,
            "grid_gap": null,
            "grid_row": null,
            "grid_template_areas": null,
            "grid_template_columns": null,
            "grid_template_rows": null,
            "height": null,
            "justify_content": null,
            "justify_items": null,
            "left": null,
            "margin": null,
            "max_height": null,
            "max_width": null,
            "min_height": null,
            "min_width": null,
            "object_fit": null,
            "object_position": null,
            "order": null,
            "overflow": null,
            "overflow_x": null,
            "overflow_y": null,
            "padding": null,
            "right": null,
            "top": null,
            "visibility": null,
            "width": null
          }
        },
        "d28aa1a802cd4c85aff0989ab3ba6c7a": {
          "model_module": "@jupyter-widgets/controls",
          "model_name": "ProgressStyleModel",
          "model_module_version": "1.5.0",
          "state": {
            "_model_module": "@jupyter-widgets/controls",
            "_model_module_version": "1.5.0",
            "_model_name": "ProgressStyleModel",
            "_view_count": null,
            "_view_module": "@jupyter-widgets/base",
            "_view_module_version": "1.2.0",
            "_view_name": "StyleView",
            "bar_color": null,
            "description_width": ""
          }
        },
        "793f784c512c4e9a8d31bae315fb3493": {
          "model_module": "@jupyter-widgets/base",
          "model_name": "LayoutModel",
          "model_module_version": "1.2.0",
          "state": {
            "_model_module": "@jupyter-widgets/base",
            "_model_module_version": "1.2.0",
            "_model_name": "LayoutModel",
            "_view_count": null,
            "_view_module": "@jupyter-widgets/base",
            "_view_module_version": "1.2.0",
            "_view_name": "LayoutView",
            "align_content": null,
            "align_items": null,
            "align_self": null,
            "border": null,
            "bottom": null,
            "display": null,
            "flex": null,
            "flex_flow": null,
            "grid_area": null,
            "grid_auto_columns": null,
            "grid_auto_flow": null,
            "grid_auto_rows": null,
            "grid_column": null,
            "grid_gap": null,
            "grid_row": null,
            "grid_template_areas": null,
            "grid_template_columns": null,
            "grid_template_rows": null,
            "height": null,
            "justify_content": null,
            "justify_items": null,
            "left": null,
            "margin": null,
            "max_height": null,
            "max_width": null,
            "min_height": null,
            "min_width": null,
            "object_fit": null,
            "object_position": null,
            "order": null,
            "overflow": null,
            "overflow_x": null,
            "overflow_y": null,
            "padding": null,
            "right": null,
            "top": null,
            "visibility": null,
            "width": null
          }
        },
        "e67192844391416885ddc20df0ff657a": {
          "model_module": "@jupyter-widgets/controls",
          "model_name": "DescriptionStyleModel",
          "model_module_version": "1.5.0",
          "state": {
            "_model_module": "@jupyter-widgets/controls",
            "_model_module_version": "1.5.0",
            "_model_name": "DescriptionStyleModel",
            "_view_count": null,
            "_view_module": "@jupyter-widgets/base",
            "_view_module_version": "1.2.0",
            "_view_name": "StyleView",
            "description_width": ""
          }
        }
      }
    }
  },
  "cells": [
    {
      "cell_type": "code",
      "source": [
        "!pip install contractions"
      ],
      "metadata": {
        "colab": {
          "base_uri": "https://localhost:8080/"
        },
        "id": "RcHFavJtiBxq",
        "outputId": "7e349151-3978-4e55-9772-6080bc69f44f"
      },
      "execution_count": 2,
      "outputs": [
        {
          "output_type": "stream",
          "name": "stdout",
          "text": [
            "Collecting contractions\n",
            "  Downloading contractions-0.1.73-py2.py3-none-any.whl.metadata (1.2 kB)\n",
            "Collecting textsearch>=0.0.21 (from contractions)\n",
            "  Downloading textsearch-0.0.24-py2.py3-none-any.whl.metadata (1.2 kB)\n",
            "Collecting anyascii (from textsearch>=0.0.21->contractions)\n",
            "  Downloading anyascii-0.3.2-py3-none-any.whl.metadata (1.5 kB)\n",
            "Collecting pyahocorasick (from textsearch>=0.0.21->contractions)\n",
            "  Downloading pyahocorasick-2.1.0-cp311-cp311-manylinux_2_17_x86_64.manylinux2014_x86_64.whl.metadata (13 kB)\n",
            "Downloading contractions-0.1.73-py2.py3-none-any.whl (8.7 kB)\n",
            "Downloading textsearch-0.0.24-py2.py3-none-any.whl (7.6 kB)\n",
            "Downloading anyascii-0.3.2-py3-none-any.whl (289 kB)\n",
            "\u001b[2K   \u001b[90m━━━━━━━━━━━━━━━━━━━━━━━━━━━━━━━━━━━━━━━━\u001b[0m \u001b[32m289.9/289.9 kB\u001b[0m \u001b[31m11.8 MB/s\u001b[0m eta \u001b[36m0:00:00\u001b[0m\n",
            "\u001b[?25hDownloading pyahocorasick-2.1.0-cp311-cp311-manylinux_2_17_x86_64.manylinux2014_x86_64.whl (118 kB)\n",
            "\u001b[2K   \u001b[90m━━━━━━━━━━━━━━━━━━━━━━━━━━━━━━━━━━━━━━━━\u001b[0m \u001b[32m118.3/118.3 kB\u001b[0m \u001b[31m13.2 MB/s\u001b[0m eta \u001b[36m0:00:00\u001b[0m\n",
            "\u001b[?25hInstalling collected packages: pyahocorasick, anyascii, textsearch, contractions\n",
            "Successfully installed anyascii-0.3.2 contractions-0.1.73 pyahocorasick-2.1.0 textsearch-0.0.24\n"
          ]
        }
      ]
    },
    {
      "cell_type": "code",
      "execution_count": 72,
      "metadata": {
        "id": "5jMj-kVnfyEu"
      },
      "outputs": [],
      "source": [
        "import re\n",
        "import nltk\n",
        "import csv\n",
        "import spacy\n",
        "import numpy as np\n",
        "import pandas as pd\n",
        "import contractions\n",
        "import seaborn as sns\n",
        "from tqdm import tqdm\n",
        "import matplotlib.pyplot as plt\n",
        "from wordcloud import WordCloud\n",
        "from tqdm.notebook import tqdm\n",
        "from nltk.corpus import stopwords\n",
        "\n",
        "import tensorflow as tf\n",
        "from tensorflow.keras.preprocessing.text import Tokenizer\n",
        "from tensorflow.keras.preprocessing.sequence import pad_sequences\n",
        "from tensorflow.keras.models import Model\n",
        "from tensorflow.keras.layers import Input, Embedding, GRU\n",
        "\n",
        "from sklearn.model_selection import train_test_split\n",
        "from tensorflow.keras.models import Sequential\n",
        "from tensorflow.keras.layers import GRU, Dense, Dropout\n",
        "from tensorflow.keras.callbacks import EarlyStopping\n",
        "from tensorflow.keras.optimizers import Adam\n",
        "# import keras_tuner as kt\n",
        "from sklearn.metrics import classification_report"
      ]
    },
    {
      "cell_type": "markdown",
      "source": [
        "Prepare csv file from the txt file for ease of access"
      ],
      "metadata": {
        "id": "mzNZFYRTi5iT"
      }
    },
    {
      "cell_type": "code",
      "source": [
        "with open('/content/train_snli.txt') as file:\n",
        "    data = file.readlines()\n",
        "\n",
        "with open('data.csv', 'w', newline= '') as csvfile:\n",
        "    filenames = ['source_txt', 'plagiarism_txt', 'label']\n",
        "    writer = csv.DictWriter(csvfile, fieldnames=filenames)\n",
        "\n",
        "    writer.writeheader()\n",
        "    for line in tqdm(data):\n",
        "        parts = line.strip().split('\\t')\n",
        "        source_txt = parts[0]\n",
        "        plagiarism_txt = parts[1]\n",
        "        label = int(parts[2])\n",
        "\n",
        "        writer.writerow({\n",
        "            'source_txt' : source_txt,\n",
        "            'plagiarism_txt' : plagiarism_txt,\n",
        "            'label' : label\n",
        "        })"
      ],
      "metadata": {
        "colab": {
          "base_uri": "https://localhost:8080/",
          "height": 49,
          "referenced_widgets": [
            "041c62aadbfe44b6a662a429de990123",
            "0b3b381ec76445aaa136adb8726222fc",
            "ceb1c9d1513c4ae8962e2245d29ffd45",
            "1de64da0bb4d40328d20c7ae1c5eb826",
            "689a5b2b0c1f43619275a2f6a2983c45",
            "c93478f2562841429cc6fcea95bb2b2a",
            "85250ea9778e4572867bf30c8a8ff3b9",
            "760717d215764da3a04c0509317715e0",
            "9d30cc1283e640bd94ee57511e2533ee",
            "43a99569023c44179bdd865c59506e32",
            "5112772526494b66a80d8a9bb856cef6"
          ]
        },
        "id": "qG3Y9gSwiH-o",
        "outputId": "5caaadeb-d4be-4b93-cb0d-7de149f9a585"
      },
      "execution_count": 5,
      "outputs": [
        {
          "output_type": "display_data",
          "data": {
            "text/plain": [
              "  0%|          | 0/367373 [00:00<?, ?it/s]"
            ],
            "application/vnd.jupyter.widget-view+json": {
              "version_major": 2,
              "version_minor": 0,
              "model_id": "041c62aadbfe44b6a662a429de990123"
            }
          },
          "metadata": {}
        }
      ]
    },
    {
      "cell_type": "markdown",
      "source": [
        "Explore dataset to check any abnormalities"
      ],
      "metadata": {
        "id": "6By7y26gjYHU"
      }
    },
    {
      "cell_type": "code",
      "source": [
        "df = pd.read_csv(\"data.csv\")\n",
        "df.head()"
      ],
      "metadata": {
        "colab": {
          "base_uri": "https://localhost:8080/",
          "height": 258
        },
        "id": "7BCgk7tcjOAq",
        "outputId": "680c2c07-74ac-4e9c-d291-5232397c21a9"
      },
      "execution_count": 14,
      "outputs": [
        {
          "output_type": "execute_result",
          "data": {
            "text/plain": [
              "                                          source_txt  \\\n",
              "0  A person on a horse jumps over a broken down a...   \n",
              "1  A person on a horse jumps over a broken down a...   \n",
              "2              Children smiling and waving at camera   \n",
              "3              Children smiling and waving at camera   \n",
              "4  A boy is jumping on skateboard in the middle o...   \n",
              "\n",
              "                                  plagiarism_txt  label  \n",
              "0  A person is at a diner, ordering an omelette.      0  \n",
              "1              A person is outdoors, on a horse.      1  \n",
              "2                     There are children present      1  \n",
              "3                          The kids are frowning      0  \n",
              "4              The boy skates down the sidewalk.      0  "
            ],
            "text/html": [
              "\n",
              "  <div id=\"df-88689bc4-b012-4a10-b106-bb120cabefe6\" class=\"colab-df-container\">\n",
              "    <div>\n",
              "<style scoped>\n",
              "    .dataframe tbody tr th:only-of-type {\n",
              "        vertical-align: middle;\n",
              "    }\n",
              "\n",
              "    .dataframe tbody tr th {\n",
              "        vertical-align: top;\n",
              "    }\n",
              "\n",
              "    .dataframe thead th {\n",
              "        text-align: right;\n",
              "    }\n",
              "</style>\n",
              "<table border=\"1\" class=\"dataframe\">\n",
              "  <thead>\n",
              "    <tr style=\"text-align: right;\">\n",
              "      <th></th>\n",
              "      <th>source_txt</th>\n",
              "      <th>plagiarism_txt</th>\n",
              "      <th>label</th>\n",
              "    </tr>\n",
              "  </thead>\n",
              "  <tbody>\n",
              "    <tr>\n",
              "      <th>0</th>\n",
              "      <td>A person on a horse jumps over a broken down a...</td>\n",
              "      <td>A person is at a diner, ordering an omelette.</td>\n",
              "      <td>0</td>\n",
              "    </tr>\n",
              "    <tr>\n",
              "      <th>1</th>\n",
              "      <td>A person on a horse jumps over a broken down a...</td>\n",
              "      <td>A person is outdoors, on a horse.</td>\n",
              "      <td>1</td>\n",
              "    </tr>\n",
              "    <tr>\n",
              "      <th>2</th>\n",
              "      <td>Children smiling and waving at camera</td>\n",
              "      <td>There are children present</td>\n",
              "      <td>1</td>\n",
              "    </tr>\n",
              "    <tr>\n",
              "      <th>3</th>\n",
              "      <td>Children smiling and waving at camera</td>\n",
              "      <td>The kids are frowning</td>\n",
              "      <td>0</td>\n",
              "    </tr>\n",
              "    <tr>\n",
              "      <th>4</th>\n",
              "      <td>A boy is jumping on skateboard in the middle o...</td>\n",
              "      <td>The boy skates down the sidewalk.</td>\n",
              "      <td>0</td>\n",
              "    </tr>\n",
              "  </tbody>\n",
              "</table>\n",
              "</div>\n",
              "    <div class=\"colab-df-buttons\">\n",
              "\n",
              "  <div class=\"colab-df-container\">\n",
              "    <button class=\"colab-df-convert\" onclick=\"convertToInteractive('df-88689bc4-b012-4a10-b106-bb120cabefe6')\"\n",
              "            title=\"Convert this dataframe to an interactive table.\"\n",
              "            style=\"display:none;\">\n",
              "\n",
              "  <svg xmlns=\"http://www.w3.org/2000/svg\" height=\"24px\" viewBox=\"0 -960 960 960\">\n",
              "    <path d=\"M120-120v-720h720v720H120Zm60-500h600v-160H180v160Zm220 220h160v-160H400v160Zm0 220h160v-160H400v160ZM180-400h160v-160H180v160Zm440 0h160v-160H620v160ZM180-180h160v-160H180v160Zm440 0h160v-160H620v160Z\"/>\n",
              "  </svg>\n",
              "    </button>\n",
              "\n",
              "  <style>\n",
              "    .colab-df-container {\n",
              "      display:flex;\n",
              "      gap: 12px;\n",
              "    }\n",
              "\n",
              "    .colab-df-convert {\n",
              "      background-color: #E8F0FE;\n",
              "      border: none;\n",
              "      border-radius: 50%;\n",
              "      cursor: pointer;\n",
              "      display: none;\n",
              "      fill: #1967D2;\n",
              "      height: 32px;\n",
              "      padding: 0 0 0 0;\n",
              "      width: 32px;\n",
              "    }\n",
              "\n",
              "    .colab-df-convert:hover {\n",
              "      background-color: #E2EBFA;\n",
              "      box-shadow: 0px 1px 2px rgba(60, 64, 67, 0.3), 0px 1px 3px 1px rgba(60, 64, 67, 0.15);\n",
              "      fill: #174EA6;\n",
              "    }\n",
              "\n",
              "    .colab-df-buttons div {\n",
              "      margin-bottom: 4px;\n",
              "    }\n",
              "\n",
              "    [theme=dark] .colab-df-convert {\n",
              "      background-color: #3B4455;\n",
              "      fill: #D2E3FC;\n",
              "    }\n",
              "\n",
              "    [theme=dark] .colab-df-convert:hover {\n",
              "      background-color: #434B5C;\n",
              "      box-shadow: 0px 1px 3px 1px rgba(0, 0, 0, 0.15);\n",
              "      filter: drop-shadow(0px 1px 2px rgba(0, 0, 0, 0.3));\n",
              "      fill: #FFFFFF;\n",
              "    }\n",
              "  </style>\n",
              "\n",
              "    <script>\n",
              "      const buttonEl =\n",
              "        document.querySelector('#df-88689bc4-b012-4a10-b106-bb120cabefe6 button.colab-df-convert');\n",
              "      buttonEl.style.display =\n",
              "        google.colab.kernel.accessAllowed ? 'block' : 'none';\n",
              "\n",
              "      async function convertToInteractive(key) {\n",
              "        const element = document.querySelector('#df-88689bc4-b012-4a10-b106-bb120cabefe6');\n",
              "        const dataTable =\n",
              "          await google.colab.kernel.invokeFunction('convertToInteractive',\n",
              "                                                    [key], {});\n",
              "        if (!dataTable) return;\n",
              "\n",
              "        const docLinkHtml = 'Like what you see? Visit the ' +\n",
              "          '<a target=\"_blank\" href=https://colab.research.google.com/notebooks/data_table.ipynb>data table notebook</a>'\n",
              "          + ' to learn more about interactive tables.';\n",
              "        element.innerHTML = '';\n",
              "        dataTable['output_type'] = 'display_data';\n",
              "        await google.colab.output.renderOutput(dataTable, element);\n",
              "        const docLink = document.createElement('div');\n",
              "        docLink.innerHTML = docLinkHtml;\n",
              "        element.appendChild(docLink);\n",
              "      }\n",
              "    </script>\n",
              "  </div>\n",
              "\n",
              "\n",
              "    <div id=\"df-a4bad580-5ae6-499e-bbe3-36301c086fbc\">\n",
              "      <button class=\"colab-df-quickchart\" onclick=\"quickchart('df-a4bad580-5ae6-499e-bbe3-36301c086fbc')\"\n",
              "                title=\"Suggest charts\"\n",
              "                style=\"display:none;\">\n",
              "\n",
              "<svg xmlns=\"http://www.w3.org/2000/svg\" height=\"24px\"viewBox=\"0 0 24 24\"\n",
              "     width=\"24px\">\n",
              "    <g>\n",
              "        <path d=\"M19 3H5c-1.1 0-2 .9-2 2v14c0 1.1.9 2 2 2h14c1.1 0 2-.9 2-2V5c0-1.1-.9-2-2-2zM9 17H7v-7h2v7zm4 0h-2V7h2v10zm4 0h-2v-4h2v4z\"/>\n",
              "    </g>\n",
              "</svg>\n",
              "      </button>\n",
              "\n",
              "<style>\n",
              "  .colab-df-quickchart {\n",
              "      --bg-color: #E8F0FE;\n",
              "      --fill-color: #1967D2;\n",
              "      --hover-bg-color: #E2EBFA;\n",
              "      --hover-fill-color: #174EA6;\n",
              "      --disabled-fill-color: #AAA;\n",
              "      --disabled-bg-color: #DDD;\n",
              "  }\n",
              "\n",
              "  [theme=dark] .colab-df-quickchart {\n",
              "      --bg-color: #3B4455;\n",
              "      --fill-color: #D2E3FC;\n",
              "      --hover-bg-color: #434B5C;\n",
              "      --hover-fill-color: #FFFFFF;\n",
              "      --disabled-bg-color: #3B4455;\n",
              "      --disabled-fill-color: #666;\n",
              "  }\n",
              "\n",
              "  .colab-df-quickchart {\n",
              "    background-color: var(--bg-color);\n",
              "    border: none;\n",
              "    border-radius: 50%;\n",
              "    cursor: pointer;\n",
              "    display: none;\n",
              "    fill: var(--fill-color);\n",
              "    height: 32px;\n",
              "    padding: 0;\n",
              "    width: 32px;\n",
              "  }\n",
              "\n",
              "  .colab-df-quickchart:hover {\n",
              "    background-color: var(--hover-bg-color);\n",
              "    box-shadow: 0 1px 2px rgba(60, 64, 67, 0.3), 0 1px 3px 1px rgba(60, 64, 67, 0.15);\n",
              "    fill: var(--button-hover-fill-color);\n",
              "  }\n",
              "\n",
              "  .colab-df-quickchart-complete:disabled,\n",
              "  .colab-df-quickchart-complete:disabled:hover {\n",
              "    background-color: var(--disabled-bg-color);\n",
              "    fill: var(--disabled-fill-color);\n",
              "    box-shadow: none;\n",
              "  }\n",
              "\n",
              "  .colab-df-spinner {\n",
              "    border: 2px solid var(--fill-color);\n",
              "    border-color: transparent;\n",
              "    border-bottom-color: var(--fill-color);\n",
              "    animation:\n",
              "      spin 1s steps(1) infinite;\n",
              "  }\n",
              "\n",
              "  @keyframes spin {\n",
              "    0% {\n",
              "      border-color: transparent;\n",
              "      border-bottom-color: var(--fill-color);\n",
              "      border-left-color: var(--fill-color);\n",
              "    }\n",
              "    20% {\n",
              "      border-color: transparent;\n",
              "      border-left-color: var(--fill-color);\n",
              "      border-top-color: var(--fill-color);\n",
              "    }\n",
              "    30% {\n",
              "      border-color: transparent;\n",
              "      border-left-color: var(--fill-color);\n",
              "      border-top-color: var(--fill-color);\n",
              "      border-right-color: var(--fill-color);\n",
              "    }\n",
              "    40% {\n",
              "      border-color: transparent;\n",
              "      border-right-color: var(--fill-color);\n",
              "      border-top-color: var(--fill-color);\n",
              "    }\n",
              "    60% {\n",
              "      border-color: transparent;\n",
              "      border-right-color: var(--fill-color);\n",
              "    }\n",
              "    80% {\n",
              "      border-color: transparent;\n",
              "      border-right-color: var(--fill-color);\n",
              "      border-bottom-color: var(--fill-color);\n",
              "    }\n",
              "    90% {\n",
              "      border-color: transparent;\n",
              "      border-bottom-color: var(--fill-color);\n",
              "    }\n",
              "  }\n",
              "</style>\n",
              "\n",
              "      <script>\n",
              "        async function quickchart(key) {\n",
              "          const quickchartButtonEl =\n",
              "            document.querySelector('#' + key + ' button');\n",
              "          quickchartButtonEl.disabled = true;  // To prevent multiple clicks.\n",
              "          quickchartButtonEl.classList.add('colab-df-spinner');\n",
              "          try {\n",
              "            const charts = await google.colab.kernel.invokeFunction(\n",
              "                'suggestCharts', [key], {});\n",
              "          } catch (error) {\n",
              "            console.error('Error during call to suggestCharts:', error);\n",
              "          }\n",
              "          quickchartButtonEl.classList.remove('colab-df-spinner');\n",
              "          quickchartButtonEl.classList.add('colab-df-quickchart-complete');\n",
              "        }\n",
              "        (() => {\n",
              "          let quickchartButtonEl =\n",
              "            document.querySelector('#df-a4bad580-5ae6-499e-bbe3-36301c086fbc button');\n",
              "          quickchartButtonEl.style.display =\n",
              "            google.colab.kernel.accessAllowed ? 'block' : 'none';\n",
              "        })();\n",
              "      </script>\n",
              "    </div>\n",
              "\n",
              "    </div>\n",
              "  </div>\n"
            ],
            "application/vnd.google.colaboratory.intrinsic+json": {
              "type": "dataframe",
              "variable_name": "df"
            }
          },
          "metadata": {},
          "execution_count": 14
        }
      ]
    },
    {
      "cell_type": "code",
      "source": [
        "df.shape"
      ],
      "metadata": {
        "colab": {
          "base_uri": "https://localhost:8080/"
        },
        "id": "KvbSZYPbjg94",
        "outputId": "49464be5-8615-487a-9cda-69711810fb4a"
      },
      "execution_count": 15,
      "outputs": [
        {
          "output_type": "execute_result",
          "data": {
            "text/plain": [
              "(367373, 3)"
            ]
          },
          "metadata": {},
          "execution_count": 15
        }
      ]
    },
    {
      "cell_type": "markdown",
      "source": [
        "Remove missing values"
      ],
      "metadata": {
        "id": "iPLSQsRqjzJq"
      }
    },
    {
      "cell_type": "code",
      "source": [
        "print(\"Null values count\",df.isnull().sum())"
      ],
      "metadata": {
        "colab": {
          "base_uri": "https://localhost:8080/"
        },
        "id": "f19jw2kkjr1j",
        "outputId": "8299e4d8-3f6f-4876-c9f6-280cdb4ac82b"
      },
      "execution_count": 16,
      "outputs": [
        {
          "output_type": "stream",
          "name": "stdout",
          "text": [
            "Null values count source_txt        0\n",
            "plagiarism_txt    4\n",
            "label             0\n",
            "dtype: int64\n"
          ]
        }
      ]
    },
    {
      "cell_type": "code",
      "source": [
        "null_rows = df[df.isnull().any(axis=1)]\n",
        "print(null_rows)"
      ],
      "metadata": {
        "colab": {
          "base_uri": "https://localhost:8080/"
        },
        "id": "2mdrZNTJlTmy",
        "outputId": "9a430e07-ca29-49b0-d2bd-f986cf838a3f"
      },
      "execution_count": 18,
      "outputs": [
        {
          "output_type": "stream",
          "name": "stdout",
          "text": [
            "                                       source_txt plagiarism_txt  label\n",
            "61111             Cannot see picture to describe.            NaN      1\n",
            "61112             Cannot see picture to describe.            NaN      0\n",
            "207766  Jumping with purple balls is so much fun!            NaN      0\n",
            "207767  Jumping with purple balls is so much fun!            NaN      1\n"
          ]
        }
      ]
    },
    {
      "cell_type": "code",
      "source": [
        "df.dropna(inplace=True)\n",
        "print(\"Null values count:\",df.isnull().sum())"
      ],
      "metadata": {
        "colab": {
          "base_uri": "https://localhost:8080/"
        },
        "id": "uD5ul0i4jxfm",
        "outputId": "03c37f82-b166-41e9-b3d3-bece8e562274"
      },
      "execution_count": 19,
      "outputs": [
        {
          "output_type": "stream",
          "name": "stdout",
          "text": [
            "Null values count: source_txt        0\n",
            "plagiarism_txt    0\n",
            "label             0\n",
            "dtype: int64\n"
          ]
        }
      ]
    },
    {
      "cell_type": "markdown",
      "source": [
        "Remove duplicates"
      ],
      "metadata": {
        "id": "C5sxqv6rk4e2"
      }
    },
    {
      "cell_type": "code",
      "source": [
        "print(\"Duplicates count:\", df.duplicated().sum())\n",
        "\n"
      ],
      "metadata": {
        "colab": {
          "base_uri": "https://localhost:8080/"
        },
        "id": "RSP9Oev9kyC6",
        "outputId": "52d96cd0-4503-4133-82fa-71a854878d0e"
      },
      "execution_count": 20,
      "outputs": [
        {
          "output_type": "stream",
          "name": "stdout",
          "text": [
            "Duplicates count: 454\n"
          ]
        }
      ]
    },
    {
      "cell_type": "code",
      "source": [
        "duplicated_rows = df[df.duplicated(keep=False)]\n",
        "\n",
        "print(duplicated_rows.head())\n"
      ],
      "metadata": {
        "colab": {
          "base_uri": "https://localhost:8080/"
        },
        "id": "3gjTy32Sk7oE",
        "outputId": "b6909159-a64b-4b00-eed9-3d6717c324bb"
      },
      "execution_count": 24,
      "outputs": [
        {
          "output_type": "stream",
          "name": "stdout",
          "text": [
            "                                           source_txt          plagiarism_txt  \\\n",
            "1275      Child in red and blue shirt painting a log.  The child is painting.   \n",
            "1279      Child in red and blue shirt painting a log.  The child is painting.   \n",
            "1724       Two small dogs run across the green grass.   Two dogs are outside.   \n",
            "1726       Two small dogs run across the green grass.   Two dogs are outside.   \n",
            "1951  A young woman is drawing with a Sharpie marker.     A woman is drawing.   \n",
            "\n",
            "      label  \n",
            "1275      1  \n",
            "1279      1  \n",
            "1724      1  \n",
            "1726      1  \n",
            "1951      1  \n"
          ]
        }
      ]
    },
    {
      "cell_type": "code",
      "source": [
        "df.drop_duplicates(inplace=True)\n",
        "print(\"Duplicates count:\",df.duplicated().sum())"
      ],
      "metadata": {
        "colab": {
          "base_uri": "https://localhost:8080/"
        },
        "id": "IdOKNTlumoal",
        "outputId": "85b3b96d-f0e2-4698-e822-2132ed5e66db"
      },
      "execution_count": 25,
      "outputs": [
        {
          "output_type": "stream",
          "name": "stdout",
          "text": [
            "Duplicates count: 0\n"
          ]
        }
      ]
    },
    {
      "cell_type": "markdown",
      "source": [
        "Check data distribution"
      ],
      "metadata": {
        "id": "gMmOJeh2mznv"
      }
    },
    {
      "cell_type": "code",
      "source": [
        "print(df['label'].value_counts())\n",
        "\n",
        "df['label'].value_counts().plot.pie(labels=['No Plag', 'Plag'],\n",
        "                                    colors=['violet','green'],\n",
        "                                    autopct='%1.1f%%',\n",
        "                                    startangle=90,\n",
        "                                    textprops={'color':'black'})\n",
        "plt.title('Data Distribution')\n",
        "plt.ylabel('')\n",
        "plt.show()"
      ],
      "metadata": {
        "colab": {
          "base_uri": "https://localhost:8080/",
          "height": 497
        },
        "id": "Q_jIodwGmy8v",
        "outputId": "018a7c58-1ea5-43ac-b9ce-779ee8fb1e38"
      },
      "execution_count": 34,
      "outputs": [
        {
          "output_type": "stream",
          "name": "stdout",
          "text": [
            "label\n",
            "0    183874\n",
            "1    183041\n",
            "Name: count, dtype: int64\n"
          ]
        },
        {
          "output_type": "display_data",
          "data": {
            "text/plain": [
              "<Figure size 640x480 with 1 Axes>"
            ],
            "image/png": "[encoded data removed]"
          },
          "metadata": {}
        }
      ]
    },
    {
      "cell_type": "code",
      "source": [
        "df=df[:50000]"
      ],
      "metadata": {
        "id": "fxthpk9Ot2fl"
      },
      "execution_count": 49,
      "outputs": []
    },
    {
      "cell_type": "markdown",
      "source": [
        "The data distribution is not skewed. Hence, no need to perform any data balancing."
      ],
      "metadata": {
        "id": "BDmiywN4pJQe"
      }
    },
    {
      "cell_type": "markdown",
      "source": [
        "**Preprocessing**"
      ],
      "metadata": {
        "id": "wgIMN3oYpelr"
      }
    },
    {
      "cell_type": "markdown",
      "source": [
        "Convert to lower case"
      ],
      "metadata": {
        "id": "Cj1Yj1Y6piJD"
      }
    },
    {
      "cell_type": "code",
      "source": [
        "df['source_txt'] = df['source_txt'].str.lower()\n",
        "df['plagiarism_txt'] = df['plagiarism_txt'].str.lower()\n"
      ],
      "metadata": {
        "id": "-l894WUWqUUv"
      },
      "execution_count": 50,
      "outputs": []
    },
    {
      "cell_type": "markdown",
      "source": [
        "Expand shortforms"
      ],
      "metadata": {
        "id": "YO6ZVdPhqXaG"
      }
    },
    {
      "cell_type": "code",
      "source": [
        "df['source_txt'] = df['source_txt'].apply(lambda x: contractions.fix(x) if pd.notnull(x) else x)\n",
        "df['plagiarism_txt'] = df['plagiarism_txt'].apply(lambda x: contractions.fix(x) if pd.notnull(x) else x)\n"
      ],
      "metadata": {
        "id": "tTEF9KT8qaF6"
      },
      "execution_count": 51,
      "outputs": []
    },
    {
      "cell_type": "markdown",
      "source": [
        "Remove punctuation marks"
      ],
      "metadata": {
        "id": "UYKF7xHVqbKY"
      }
    },
    {
      "cell_type": "code",
      "source": [
        "df['source_txt'] = df['source_txt'].str.replace(r'[^\\w\\s]', '', regex=True)\n",
        "df['plagiarism_txt'] = df['plagiarism_txt'].str.replace(r'[^\\w\\s]', '', regex=True)\n"
      ],
      "metadata": {
        "id": "l2KocoBHqfry"
      },
      "execution_count": 52,
      "outputs": []
    },
    {
      "cell_type": "markdown",
      "source": [
        "Remove numbers and special characters"
      ],
      "metadata": {
        "id": "sfzGSawKqjHL"
      }
    },
    {
      "cell_type": "code",
      "source": [
        "df['source_txt'] = df['source_txt'].str.replace(r'[^A-Za-z\\s]', '', regex=True)\n",
        "df['plagiarism_txt'] = df['plagiarism_txt'].str.replace(r'[^A-Za-z\\s]', '', regex=True)\n"
      ],
      "metadata": {
        "id": "4ozEOw8oqmKi"
      },
      "execution_count": 53,
      "outputs": []
    },
    {
      "cell_type": "markdown",
      "source": [
        "Remove extra spacings"
      ],
      "metadata": {
        "id": "yEi3Rx8Nqnlk"
      }
    },
    {
      "cell_type": "code",
      "source": [
        "df['source_txt'] = df['source_txt'].str.replace(r'\\s+', ' ', regex=True).str.strip()\n",
        "df['plagiarism_txt'] = df['plagiarism_txt'].str.replace(r'\\s+', ' ', regex=True).str.strip()\n"
      ],
      "metadata": {
        "id": "D9eAb2Reretf"
      },
      "execution_count": 54,
      "outputs": []
    },
    {
      "cell_type": "markdown",
      "source": [
        "Remove stopwords"
      ],
      "metadata": {
        "id": "MQTMdy_lrh4X"
      }
    },
    {
      "cell_type": "code",
      "source": [
        "nltk.download('stopwords')\n",
        "\n",
        "nlp = spacy.load('en_core_web_sm')\n",
        "\n",
        "stop_words = set(stopwords.words('english'))"
      ],
      "metadata": {
        "colab": {
          "base_uri": "https://localhost:8080/"
        },
        "id": "2otSfINErn6L",
        "outputId": "b5158e77-795e-4f08-bc8f-29b9f7e24b55"
      },
      "execution_count": 55,
      "outputs": [
        {
          "output_type": "stream",
          "name": "stderr",
          "text": [
            "[nltk_data] Downloading package stopwords to /root/nltk_data...\n",
            "[nltk_data]   Package stopwords is already up-to-date!\n"
          ]
        }
      ]
    },
    {
      "cell_type": "code",
      "source": [
        "df['source_txt'] = df['source_txt'].apply(lambda x: ' '.join([word for word in x.split() if word not in stop_words]) if pd.notnull(x) else x)\n",
        "df['plagiarism_txt'] = df['plagiarism_txt'].apply(lambda x: ' '.join([word for word in x.split() if word not in stop_words]) if pd.notnull(x) else x)\n"
      ],
      "metadata": {
        "id": "oLW_xtN1rkOw"
      },
      "execution_count": 56,
      "outputs": []
    },
    {
      "cell_type": "markdown",
      "source": [
        "Apply Lemmatization"
      ],
      "metadata": {
        "id": "yPv3FBGer2ra"
      }
    },
    {
      "cell_type": "code",
      "source": [
        "tqdm.pandas()\n",
        "\n",
        "def lemmatize(text):\n",
        "    doc = nlp(text)\n",
        "    return ' '.join([token.lemma_ for token in doc])\n",
        "\n",
        "df['processed_source_txt'] = df['source_txt'].progress_apply(lambda x: lemmatize(x) if pd.notnull(x) else x)\n",
        "df['processed_plagiarism_txt'] = df['plagiarism_txt'].progress_apply(lambda x: lemmatize(x) if pd.notnull(x) else x)\n"
      ],
      "metadata": {
        "colab": {
          "base_uri": "https://localhost:8080/",
          "height": 81,
          "referenced_widgets": [
            "ad06a9a26bd743689a5f6eeade091fcc",
            "e91c6f7cac594826b14f2711169ca3e5",
            "0da4787da00f4c65ac58553cb0f1d155",
            "9e93a4e258714878b8760e66c802cb11",
            "282ce36706ff4a63aeff45bedaf0422f",
            "f3fc502a7be2454a9ff7beba94604d3c",
            "361ce5543f6a41caa86b9834c886b61e",
            "38feca7091e54a9bb0d5926ac4a0f477",
            "29e2cd295a194f748b4050c6d43bbf3b",
            "8ce15765eb3f4ee484ef383cc0711219",
            "2da523755de340b39d3ebb3c053c644e",
            "cdd7ad65e7554ef0b3c11669971e58b4",
            "63b223057fb245508fcaf00669a15768",
            "1dc1881c4cd94a9d87efe0d5bb4f59d6",
            "0b91698290144bc38623e37f0da117af",
            "9f82942db2a2473892eb97af1c351e9a",
            "84d3c3e7d5d04a71bf77b5938dc5766f",
            "fc603ff3467840f99b20ad2665aecc5a",
            "eb6a7cf0404e4369bb9cd7222ce09f79",
            "d28aa1a802cd4c85aff0989ab3ba6c7a",
            "793f784c512c4e9a8d31bae315fb3493",
            "e67192844391416885ddc20df0ff657a"
          ]
        },
        "id": "w-ZD_lJ3r5ON",
        "outputId": "a19369b5-0100-4e17-8173-5c6c917ef12c"
      },
      "execution_count": 57,
      "outputs": [
        {
          "output_type": "display_data",
          "data": {
            "text/plain": [
              "  0%|          | 0/50000 [00:00<?, ?it/s]"
            ],
            "application/vnd.jupyter.widget-view+json": {
              "version_major": 2,
              "version_minor": 0,
              "model_id": "ad06a9a26bd743689a5f6eeade091fcc"
            }
          },
          "metadata": {}
        },
        {
          "output_type": "display_data",
          "data": {
            "text/plain": [
              "  0%|          | 0/50000 [00:00<?, ?it/s]"
            ],
            "application/vnd.jupyter.widget-view+json": {
              "version_major": 2,
              "version_minor": 0,
              "model_id": "cdd7ad65e7554ef0b3c11669971e58b4"
            }
          },
          "metadata": {}
        }
      ]
    },
    {
      "cell_type": "markdown",
      "source": [
        "Final df"
      ],
      "metadata": {
        "id": "y-2itryvvk0H"
      }
    },
    {
      "cell_type": "code",
      "source": [
        "df.head()"
      ],
      "metadata": {
        "colab": {
          "base_uri": "https://localhost:8080/",
          "height": 486
        },
        "id": "PGmD_tQrvl2y",
        "outputId": "7bca9d1c-d2fb-4b57-99f7-a826338f9d74"
      },
      "execution_count": 58,
      "outputs": [
        {
          "output_type": "execute_result",
          "data": {
            "text/plain": [
              "                                 source_txt                  plagiarism_txt  \\\n",
              "0        person horse jumps broken airplane  person diner ordering omelette   \n",
              "1        person horse jumps broken airplane           person outdoors horse   \n",
              "2            children smiling waving camera                children present   \n",
              "3            children smiling waving camera                   kids frowning   \n",
              "4  boy jumping skateboard middle red bridge             boy skates sidewalk   \n",
              "\n",
              "   label                   processed_source_txt     processed_plagiarism_txt  \n",
              "0      0       person horse jump break airplane  person diner order omelette  \n",
              "1      1       person horse jump break airplane        person outdoors horse  \n",
              "2      1                child smile wave camera                child present  \n",
              "3      0                child smile wave camera                    kid frown  \n",
              "4      0  boy jump skateboard middle red bridge           boy skate sidewalk  "
            ],
            "text/html": [
              "\n",
              "  <div id=\"df-6177f9aa-f4f7-42f7-ac64-42c0d9c69499\" class=\"colab-df-container\">\n",
              "    <div>\n",
              "<style scoped>\n",
              "    .dataframe tbody tr th:only-of-type {\n",
              "        vertical-align: middle;\n",
              "    }\n",
              "\n",
              "    .dataframe tbody tr th {\n",
              "        vertical-align: top;\n",
              "    }\n",
              "\n",
              "    .dataframe thead th {\n",
              "        text-align: right;\n",
              "    }\n",
              "</style>\n",
              "<table border=\"1\" class=\"dataframe\">\n",
              "  <thead>\n",
              "    <tr style=\"text-align: right;\">\n",
              "      <th></th>\n",
              "      <th>source_txt</th>\n",
              "      <th>plagiarism_txt</th>\n",
              "      <th>label</th>\n",
              "      <th>processed_source_txt</th>\n",
              "      <th>processed_plagiarism_txt</th>\n",
              "    </tr>\n",
              "  </thead>\n",
              "  <tbody>\n",
              "    <tr>\n",
              "      <th>0</th>\n",
              "      <td>person horse jumps broken airplane</td>\n",
              "      <td>person diner ordering omelette</td>\n",
              "      <td>0</td>\n",
              "      <td>person horse jump break airplane</td>\n",
              "      <td>person diner order omelette</td>\n",
              "    </tr>\n",
              "    <tr>\n",
              "      <th>1</th>\n",
              "      <td>person horse jumps broken airplane</td>\n",
              "      <td>person outdoors horse</td>\n",
              "      <td>1</td>\n",
              "      <td>person horse jump break airplane</td>\n",
              "      <td>person outdoors horse</td>\n",
              "    </tr>\n",
              "    <tr>\n",
              "      <th>2</th>\n",
              "      <td>children smiling waving camera</td>\n",
              "      <td>children present</td>\n",
              "      <td>1</td>\n",
              "      <td>child smile wave camera</td>\n",
              "      <td>child present</td>\n",
              "    </tr>\n",
              "    <tr>\n",
              "      <th>3</th>\n",
              "      <td>children smiling waving camera</td>\n",
              "      <td>kids frowning</td>\n",
              "      <td>0</td>\n",
              "      <td>child smile wave camera</td>\n",
              "      <td>kid frown</td>\n",
              "    </tr>\n",
              "    <tr>\n",
              "      <th>4</th>\n",
              "      <td>boy jumping skateboard middle red bridge</td>\n",
              "      <td>boy skates sidewalk</td>\n",
              "      <td>0</td>\n",
              "      <td>boy jump skateboard middle red bridge</td>\n",
              "      <td>boy skate sidewalk</td>\n",
              "    </tr>\n",
              "  </tbody>\n",
              "</table>\n",
              "</div>\n",
              "    <div class=\"colab-df-buttons\">\n",
              "\n",
              "  <div class=\"colab-df-container\">\n",
              "    <button class=\"colab-df-convert\" onclick=\"convertToInteractive('df-6177f9aa-f4f7-42f7-ac64-42c0d9c69499')\"\n",
              "            title=\"Convert this dataframe to an interactive table.\"\n",
              "            style=\"display:none;\">\n",
              "\n",
              "  <svg xmlns=\"http://www.w3.org/2000/svg\" height=\"24px\" viewBox=\"0 -960 960 960\">\n",
              "    <path d=\"M120-120v-720h720v720H120Zm60-500h600v-160H180v160Zm220 220h160v-160H400v160Zm0 220h160v-160H400v160ZM180-400h160v-160H180v160Zm440 0h160v-160H620v160ZM180-180h160v-160H180v160Zm440 0h160v-160H620v160Z\"/>\n",
              "  </svg>\n",
              "    </button>\n",
              "\n",
              "  <style>\n",
              "    .colab-df-container {\n",
              "      display:flex;\n",
              "      gap: 12px;\n",
              "    }\n",
              "\n",
              "    .colab-df-convert {\n",
              "      background-color: #E8F0FE;\n",
              "      border: none;\n",
              "      border-radius: 50%;\n",
              "      cursor: pointer;\n",
              "      display: none;\n",
              "      fill: #1967D2;\n",
              "      height: 32px;\n",
              "      padding: 0 0 0 0;\n",
              "      width: 32px;\n",
              "    }\n",
              "\n",
              "    .colab-df-convert:hover {\n",
              "      background-color: #E2EBFA;\n",
              "      box-shadow: 0px 1px 2px rgba(60, 64, 67, 0.3), 0px 1px 3px 1px rgba(60, 64, 67, 0.15);\n",
              "      fill: #174EA6;\n",
              "    }\n",
              "\n",
              "    .colab-df-buttons div {\n",
              "      margin-bottom: 4px;\n",
              "    }\n",
              "\n",
              "    [theme=dark] .colab-df-convert {\n",
              "      background-color: #3B4455;\n",
              "      fill: #D2E3FC;\n",
              "    }\n",
              "\n",
              "    [theme=dark] .colab-df-convert:hover {\n",
              "      background-color: #434B5C;\n",
              "      box-shadow: 0px 1px 3px 1px rgba(0, 0, 0, 0.15);\n",
              "      filter: drop-shadow(0px 1px 2px rgba(0, 0, 0, 0.3));\n",
              "      fill: #FFFFFF;\n",
              "    }\n",
              "  </style>\n",
              "\n",
              "    <script>\n",
              "      const buttonEl =\n",
              "        document.querySelector('#df-6177f9aa-f4f7-42f7-ac64-42c0d9c69499 button.colab-df-convert');\n",
              "      buttonEl.style.display =\n",
              "        google.colab.kernel.accessAllowed ? 'block' : 'none';\n",
              "\n",
              "      async function convertToInteractive(key) {\n",
              "        const element = document.querySelector('#df-6177f9aa-f4f7-42f7-ac64-42c0d9c69499');\n",
              "        const dataTable =\n",
              "          await google.colab.kernel.invokeFunction('convertToInteractive',\n",
              "                                                    [key], {});\n",
              "        if (!dataTable) return;\n",
              "\n",
              "        const docLinkHtml = 'Like what you see? Visit the ' +\n",
              "          '<a target=\"_blank\" href=https://colab.research.google.com/notebooks/data_table.ipynb>data table notebook</a>'\n",
              "          + ' to learn more about interactive tables.';\n",
              "        element.innerHTML = '';\n",
              "        dataTable['output_type'] = 'display_data';\n",
              "        await google.colab.output.renderOutput(dataTable, element);\n",
              "        const docLink = document.createElement('div');\n",
              "        docLink.innerHTML = docLinkHtml;\n",
              "        element.appendChild(docLink);\n",
              "      }\n",
              "    </script>\n",
              "  </div>\n",
              "\n",
              "\n",
              "    <div id=\"df-c51b6852-c14e-4b07-8bc6-3117fd6cb571\">\n",
              "      <button class=\"colab-df-quickchart\" onclick=\"quickchart('df-c51b6852-c14e-4b07-8bc6-3117fd6cb571')\"\n",
              "                title=\"Suggest charts\"\n",
              "                style=\"display:none;\">\n",
              "\n",
              "<svg xmlns=\"http://www.w3.org/2000/svg\" height=\"24px\"viewBox=\"0 0 24 24\"\n",
              "     width=\"24px\">\n",
              "    <g>\n",
              "        <path d=\"M19 3H5c-1.1 0-2 .9-2 2v14c0 1.1.9 2 2 2h14c1.1 0 2-.9 2-2V5c0-1.1-.9-2-2-2zM9 17H7v-7h2v7zm4 0h-2V7h2v10zm4 0h-2v-4h2v4z\"/>\n",
              "    </g>\n",
              "</svg>\n",
              "      </button>\n",
              "\n",
              "<style>\n",
              "  .colab-df-quickchart {\n",
              "      --bg-color: #E8F0FE;\n",
              "      --fill-color: #1967D2;\n",
              "      --hover-bg-color: #E2EBFA;\n",
              "      --hover-fill-color: #174EA6;\n",
              "      --disabled-fill-color: #AAA;\n",
              "      --disabled-bg-color: #DDD;\n",
              "  }\n",
              "\n",
              "  [theme=dark] .colab-df-quickchart {\n",
              "      --bg-color: #3B4455;\n",
              "      --fill-color: #D2E3FC;\n",
              "      --hover-bg-color: #434B5C;\n",
              "      --hover-fill-color: #FFFFFF;\n",
              "      --disabled-bg-color: #3B4455;\n",
              "      --disabled-fill-color: #666;\n",
              "  }\n",
              "\n",
              "  .colab-df-quickchart {\n",
              "    background-color: var(--bg-color);\n",
              "    border: none;\n",
              "    border-radius: 50%;\n",
              "    cursor: pointer;\n",
              "    display: none;\n",
              "    fill: var(--fill-color);\n",
              "    height: 32px;\n",
              "    padding: 0;\n",
              "    width: 32px;\n",
              "  }\n",
              "\n",
              "  .colab-df-quickchart:hover {\n",
              "    background-color: var(--hover-bg-color);\n",
              "    box-shadow: 0 1px 2px rgba(60, 64, 67, 0.3), 0 1px 3px 1px rgba(60, 64, 67, 0.15);\n",
              "    fill: var(--button-hover-fill-color);\n",
              "  }\n",
              "\n",
              "  .colab-df-quickchart-complete:disabled,\n",
              "  .colab-df-quickchart-complete:disabled:hover {\n",
              "    background-color: var(--disabled-bg-color);\n",
              "    fill: var(--disabled-fill-color);\n",
              "    box-shadow: none;\n",
              "  }\n",
              "\n",
              "  .colab-df-spinner {\n",
              "    border: 2px solid var(--fill-color);\n",
              "    border-color: transparent;\n",
              "    border-bottom-color: var(--fill-color);\n",
              "    animation:\n",
              "      spin 1s steps(1) infinite;\n",
              "  }\n",
              "\n",
              "  @keyframes spin {\n",
              "    0% {\n",
              "      border-color: transparent;\n",
              "      border-bottom-color: var(--fill-color);\n",
              "      border-left-color: var(--fill-color);\n",
              "    }\n",
              "    20% {\n",
              "      border-color: transparent;\n",
              "      border-left-color: var(--fill-color);\n",
              "      border-top-color: var(--fill-color);\n",
              "    }\n",
              "    30% {\n",
              "      border-color: transparent;\n",
              "      border-left-color: var(--fill-color);\n",
              "      border-top-color: var(--fill-color);\n",
              "      border-right-color: var(--fill-color);\n",
              "    }\n",
              "    40% {\n",
              "      border-color: transparent;\n",
              "      border-right-color: var(--fill-color);\n",
              "      border-top-color: var(--fill-color);\n",
              "    }\n",
              "    60% {\n",
              "      border-color: transparent;\n",
              "      border-right-color: var(--fill-color);\n",
              "    }\n",
              "    80% {\n",
              "      border-color: transparent;\n",
              "      border-right-color: var(--fill-color);\n",
              "      border-bottom-color: var(--fill-color);\n",
              "    }\n",
              "    90% {\n",
              "      border-color: transparent;\n",
              "      border-bottom-color: var(--fill-color);\n",
              "    }\n",
              "  }\n",
              "</style>\n",
              "\n",
              "      <script>\n",
              "        async function quickchart(key) {\n",
              "          const quickchartButtonEl =\n",
              "            document.querySelector('#' + key + ' button');\n",
              "          quickchartButtonEl.disabled = true;  // To prevent multiple clicks.\n",
              "          quickchartButtonEl.classList.add('colab-df-spinner');\n",
              "          try {\n",
              "            const charts = await google.colab.kernel.invokeFunction(\n",
              "                'suggestCharts', [key], {});\n",
              "          } catch (error) {\n",
              "            console.error('Error during call to suggestCharts:', error);\n",
              "          }\n",
              "          quickchartButtonEl.classList.remove('colab-df-spinner');\n",
              "          quickchartButtonEl.classList.add('colab-df-quickchart-complete');\n",
              "        }\n",
              "        (() => {\n",
              "          let quickchartButtonEl =\n",
              "            document.querySelector('#df-c51b6852-c14e-4b07-8bc6-3117fd6cb571 button');\n",
              "          quickchartButtonEl.style.display =\n",
              "            google.colab.kernel.accessAllowed ? 'block' : 'none';\n",
              "        })();\n",
              "      </script>\n",
              "    </div>\n",
              "\n",
              "    </div>\n",
              "  </div>\n"
            ],
            "application/vnd.google.colaboratory.intrinsic+json": {
              "type": "dataframe",
              "variable_name": "df",
              "summary": "{\n  \"name\": \"df\",\n  \"rows\": 50000,\n  \"fields\": [\n    {\n      \"column\": \"source_txt\",\n      \"properties\": {\n        \"dtype\": \"category\",\n        \"num_unique_values\": 20418,\n        \"samples\": [\n          \"picture hotdog vendor street\",\n          \"three people gathering stuff putting black bag dirt setting\",\n          \"guy walking sidewalk\"\n        ],\n        \"semantic_type\": \"\",\n        \"description\": \"\"\n      }\n    },\n    {\n      \"column\": \"plagiarism_txt\",\n      \"properties\": {\n        \"dtype\": \"string\",\n        \"num_unique_values\": 42567,\n        \"samples\": [\n          \"two people wearing scarfs heads jogging beach bath\",\n          \"man theatre watching avatar\",\n          \"woman putting clothes laundry\"\n        ],\n        \"semantic_type\": \"\",\n        \"description\": \"\"\n      }\n    },\n    {\n      \"column\": \"label\",\n      \"properties\": {\n        \"dtype\": \"number\",\n        \"std\": 0,\n        \"min\": 0,\n        \"max\": 1,\n        \"num_unique_values\": 2,\n        \"samples\": [\n          1,\n          0\n        ],\n        \"semantic_type\": \"\",\n        \"description\": \"\"\n      }\n    },\n    {\n      \"column\": \"processed_source_txt\",\n      \"properties\": {\n        \"dtype\": \"category\",\n        \"num_unique_values\": 20381,\n        \"samples\": [\n          \"rollerblader skating flow many rollerblader\",\n          \"young woman blue hollister shirt blue jean\"\n        ],\n        \"semantic_type\": \"\",\n        \"description\": \"\"\n      }\n    },\n    {\n      \"column\": \"processed_plagiarism_txt\",\n      \"properties\": {\n        \"dtype\": \"string\",\n        \"num_unique_values\": 41078,\n        \"samples\": [\n          \"child carry food\",\n          \"man weave rug\"\n        ],\n        \"semantic_type\": \"\",\n        \"description\": \"\"\n      }\n    }\n  ]\n}"
            }
          },
          "metadata": {},
          "execution_count": 58
        }
      ]
    },
    {
      "cell_type": "code",
      "source": [],
      "metadata": {
        "id": "_AO9q5_9wHW_"
      },
      "execution_count": null,
      "outputs": []
    },
    {
      "cell_type": "markdown",
      "source": [
        "Compute Embeddings"
      ],
      "metadata": {
        "id": "4nEOv89YxHgt"
      }
    },
    {
      "cell_type": "code",
      "source": [
        "texts = df['processed_source_txt'].tolist() + df['processed_plagiarism_txt'].tolist()\n",
        "\n",
        "tokenizer = Tokenizer(oov_token=\"<OOV>\")\n",
        "tokenizer.fit_on_texts(texts)\n",
        "\n",
        "vocab_size = len(tokenizer.word_index) + 1\n",
        "max_len = max([len(t.split()) for t in texts])\n",
        "\n",
        "source_seq = pad_sequences(tokenizer.texts_to_sequences(df['processed_source_txt']), maxlen=max_len, padding='post')\n",
        "plag_seq = pad_sequences(tokenizer.texts_to_sequences(df['processed_plagiarism_txt']), maxlen=max_len, padding='post')\n",
        "\n",
        "embedding_dim = 100\n",
        "\n",
        "input_seq = Input(shape=(max_len,))\n",
        "embedding = Embedding(input_dim=vocab_size, output_dim=embedding_dim, mask_zero=True)(input_seq)\n",
        "gru_out = GRU(embedding_dim)(embedding)\n",
        "\n",
        "encoder_model = Model(inputs=input_seq, outputs=gru_out)\n",
        "\n",
        "source_embeddings = encoder_model.predict(source_seq, verbose=1)\n",
        "plag_embeddings = encoder_model.predict(plag_seq, verbose=1)\n",
        "\n",
        "df['source_vec'] = list(source_embeddings)\n",
        "df['plagiarism_vec'] = list(plag_embeddings)\n",
        "\n"
      ],
      "metadata": {
        "colab": {
          "base_uri": "https://localhost:8080/"
        },
        "id": "pjSaeS31wHag",
        "outputId": "cc73a508-cd38-4d53-a37d-71392695df7f"
      },
      "execution_count": 61,
      "outputs": [
        {
          "output_type": "stream",
          "name": "stdout",
          "text": [
            "\u001b[1m1563/1563\u001b[0m \u001b[32m━━━━━━━━━━━━━━━━━━━━\u001b[0m\u001b[37m\u001b[0m \u001b[1m12s\u001b[0m 7ms/step\n",
            "\u001b[1m1563/1563\u001b[0m \u001b[32m━━━━━━━━━━━━━━━━━━━━\u001b[0m\u001b[37m\u001b[0m \u001b[1m11s\u001b[0m 7ms/step\n"
          ]
        }
      ]
    },
    {
      "cell_type": "code",
      "source": [
        "print(df.head())"
      ],
      "metadata": {
        "colab": {
          "base_uri": "https://localhost:8080/"
        },
        "id": "n5dpR33lyJJz",
        "outputId": "fce0f6d6-a618-4dac-87b0-05998be3ff68"
      },
      "execution_count": 62,
      "outputs": [
        {
          "output_type": "stream",
          "name": "stdout",
          "text": [
            "                                 source_txt                  plagiarism_txt  \\\n",
            "0        person horse jumps broken airplane  person diner ordering omelette   \n",
            "1        person horse jumps broken airplane           person outdoors horse   \n",
            "2            children smiling waving camera                children present   \n",
            "3            children smiling waving camera                   kids frowning   \n",
            "4  boy jumping skateboard middle red bridge             boy skates sidewalk   \n",
            "\n",
            "   label                   processed_source_txt     processed_plagiarism_txt  \\\n",
            "0      0       person horse jump break airplane  person diner order omelette   \n",
            "1      1       person horse jump break airplane        person outdoors horse   \n",
            "2      1                child smile wave camera                child present   \n",
            "3      0                child smile wave camera                    kid frown   \n",
            "4      0  boy jump skateboard middle red bridge           boy skate sidewalk   \n",
            "\n",
            "                                          source_vec  \\\n",
            "0  [-0.012962199, -0.0035468633, -0.0072887857, -...   \n",
            "1  [-0.012962199, -0.0035468633, -0.0072887857, -...   \n",
            "2  [0.016536135, -0.008953113, 0.012737245, -0.02...   \n",
            "3  [0.016536135, -0.008953113, 0.012737245, -0.02...   \n",
            "4  [-0.004733177, 0.004845811, -0.0136612, 0.0108...   \n",
            "\n",
            "                                      plagiarism_vec  \n",
            "0  [0.0020330872, -0.0034391235, 0.0066316905, -0...  \n",
            "1  [-0.014203493, 0.008734589, 0.00088607054, -0....  \n",
            "2  [0.0022245827, 0.01713412, -0.011927713, -0.01...  \n",
            "3  [-0.004229203, -0.008104427, -0.0131478775, -0...  \n",
            "4  [0.0053420067, -0.017144617, -0.007722039, -4....  \n"
          ]
        }
      ]
    },
    {
      "cell_type": "code",
      "source": [],
      "metadata": {
        "id": "BBV7MFE6zgR9"
      },
      "execution_count": null,
      "outputs": []
    },
    {
      "cell_type": "code",
      "source": [
        "X = np.array([np.hstack([src_vec, plag_vec]) for src_vec, plag_vec in zip(df['source_vec'], df['plagiarism_vec'])])\n",
        "y = np.array(df['label'].values)\n",
        "\n",
        "# GRU/LSTM expects 3D input: (samples, timesteps, features)\n",
        "X = X.reshape((X.shape[0], 1, X.shape[1]))\n",
        "\n",
        "X_train, X_test, y_train, y_test = train_test_split(X, y, test_size=0.2, random_state=42)\n"
      ],
      "metadata": {
        "id": "r8OaCXAKzgVb"
      },
      "execution_count": 64,
      "outputs": []
    },
    {
      "cell_type": "code",
      "source": [
        "num_gru_layers = 2\n",
        "gru_units = [64, 32]  # Units per layer\n",
        "dropout_rates = [0.3, 0.2]\n",
        "dense_units = 64\n",
        "dense_activation = 'relu'\n",
        "learning_rate = 0.001\n",
        "optimizer_choice = 'adam'\n",
        "batch_size = 32\n",
        "epochs = 30"
      ],
      "metadata": {
        "id": "5uRlt0xe0VSG"
      },
      "execution_count": 65,
      "outputs": []
    },
    {
      "cell_type": "code",
      "source": [
        "model = Sequential()\n",
        "\n",
        "for i in range(num_gru_layers):\n",
        "    # For first layer, specify input_shape, others no need\n",
        "    if i == 0:\n",
        "        model.add(GRU(units=gru_units[i], return_sequences=(i < num_gru_layers - 1), input_shape=(X_train.shape[1], X_train.shape[2])))\n",
        "    else:\n",
        "        model.add(GRU(units=gru_units[i], return_sequences=(i < num_gru_layers - 1)))\n",
        "    model.add(Dropout(dropout_rates[i]))\n",
        "\n",
        "model.add(Dense(units=dense_units, activation=dense_activation))\n",
        "\n",
        "model.add(Dense(1, activation='sigmoid'))\n",
        "\n",
        "optimizer = Adam(learning_rate=learning_rate)\n",
        "\n",
        "model.compile(optimizer=optimizer, loss='binary_crossentropy', metrics=['accuracy'])\n"
      ],
      "metadata": {
        "id": "BIv9YLzM0XsC"
      },
      "execution_count": 67,
      "outputs": []
    },
    {
      "cell_type": "code",
      "source": [
        "early_stopping = EarlyStopping(monitor='val_loss', patience=3, restore_best_weights=True)"
      ],
      "metadata": {
        "id": "JZWwJmgy0nrh"
      },
      "execution_count": 68,
      "outputs": []
    },
    {
      "cell_type": "code",
      "source": [
        "history = model.fit(X_train, y_train, epochs=epochs, batch_size=batch_size,\n",
        "                    validation_data=(X_test, y_test), callbacks=[early_stopping])\n"
      ],
      "metadata": {
        "colab": {
          "base_uri": "https://localhost:8080/"
        },
        "id": "is00DuCS0qt4",
        "outputId": "97c9f62f-429b-4594-f4ef-1e931784c7d9"
      },
      "execution_count": 69,
      "outputs": [
        {
          "output_type": "stream",
          "name": "stdout",
          "text": [
            "Epoch 1/30\n",
            "\u001b[1m1250/1250\u001b[0m \u001b[32m━━━━━━━━━━━━━━━━━━━━\u001b[0m\u001b[37m\u001b[0m \u001b[1m7s\u001b[0m 3ms/step - accuracy: 0.5458 - loss: 0.6816 - val_accuracy: 0.5869 - val_loss: 0.6582\n",
            "Epoch 2/30\n",
            "\u001b[1m1250/1250\u001b[0m \u001b[32m━━━━━━━━━━━━━━━━━━━━\u001b[0m\u001b[37m\u001b[0m \u001b[1m4s\u001b[0m 3ms/step - accuracy: 0.5957 - loss: 0.6531 - val_accuracy: 0.5939 - val_loss: 0.6465\n",
            "Epoch 3/30\n",
            "\u001b[1m1250/1250\u001b[0m \u001b[32m━━━━━━━━━━━━━━━━━━━━\u001b[0m\u001b[37m\u001b[0m \u001b[1m6s\u001b[0m 3ms/step - accuracy: 0.5973 - loss: 0.6460 - val_accuracy: 0.6028 - val_loss: 0.6411\n",
            "Epoch 4/30\n",
            "\u001b[1m1250/1250\u001b[0m \u001b[32m━━━━━━━━━━━━━━━━━━━━\u001b[0m\u001b[37m\u001b[0m \u001b[1m4s\u001b[0m 3ms/step - accuracy: 0.6045 - loss: 0.6399 - val_accuracy: 0.6006 - val_loss: 0.6422\n",
            "Epoch 5/30\n",
            "\u001b[1m1250/1250\u001b[0m \u001b[32m━━━━━━━━━━━━━━━━━━━━\u001b[0m\u001b[37m\u001b[0m \u001b[1m5s\u001b[0m 3ms/step - accuracy: 0.6077 - loss: 0.6396 - val_accuracy: 0.6087 - val_loss: 0.6368\n",
            "Epoch 6/30\n",
            "\u001b[1m1250/1250\u001b[0m \u001b[32m━━━━━━━━━━━━━━━━━━━━\u001b[0m\u001b[37m\u001b[0m \u001b[1m4s\u001b[0m 3ms/step - accuracy: 0.6112 - loss: 0.6368 - val_accuracy: 0.6089 - val_loss: 0.6361\n",
            "Epoch 7/30\n",
            "\u001b[1m1250/1250\u001b[0m \u001b[32m━━━━━━━━━━━━━━━━━━━━\u001b[0m\u001b[37m\u001b[0m \u001b[1m4s\u001b[0m 3ms/step - accuracy: 0.6123 - loss: 0.6355 - val_accuracy: 0.6156 - val_loss: 0.6375\n",
            "Epoch 8/30\n",
            "\u001b[1m1250/1250\u001b[0m \u001b[32m━━━━━━━━━━━━━━━━━━━━\u001b[0m\u001b[37m\u001b[0m \u001b[1m3s\u001b[0m 3ms/step - accuracy: 0.6213 - loss: 0.6306 - val_accuracy: 0.6145 - val_loss: 0.6338\n",
            "Epoch 9/30\n",
            "\u001b[1m1250/1250\u001b[0m \u001b[32m━━━━━━━━━━━━━━━━━━━━\u001b[0m\u001b[37m\u001b[0m \u001b[1m4s\u001b[0m 3ms/step - accuracy: 0.6228 - loss: 0.6312 - val_accuracy: 0.6260 - val_loss: 0.6293\n",
            "Epoch 10/30\n",
            "\u001b[1m1250/1250\u001b[0m \u001b[32m━━━━━━━━━━━━━━━━━━━━\u001b[0m\u001b[37m\u001b[0m \u001b[1m5s\u001b[0m 3ms/step - accuracy: 0.6287 - loss: 0.6276 - val_accuracy: 0.6296 - val_loss: 0.6283\n",
            "Epoch 11/30\n",
            "\u001b[1m1250/1250\u001b[0m \u001b[32m━━━━━━━━━━━━━━━━━━━━\u001b[0m\u001b[37m\u001b[0m \u001b[1m4s\u001b[0m 3ms/step - accuracy: 0.6307 - loss: 0.6270 - val_accuracy: 0.6308 - val_loss: 0.6263\n",
            "Epoch 12/30\n",
            "\u001b[1m1250/1250\u001b[0m \u001b[32m━━━━━━━━━━━━━━━━━━━━\u001b[0m\u001b[37m\u001b[0m \u001b[1m4s\u001b[0m 3ms/step - accuracy: 0.6325 - loss: 0.6267 - val_accuracy: 0.6294 - val_loss: 0.6269\n",
            "Epoch 13/30\n",
            "\u001b[1m1250/1250\u001b[0m \u001b[32m━━━━━━━━━━━━━━━━━━━━\u001b[0m\u001b[37m\u001b[0m \u001b[1m5s\u001b[0m 3ms/step - accuracy: 0.6342 - loss: 0.6254 - val_accuracy: 0.6318 - val_loss: 0.6252\n",
            "Epoch 14/30\n",
            "\u001b[1m1250/1250\u001b[0m \u001b[32m━━━━━━━━━━━━━━━━━━━━\u001b[0m\u001b[37m\u001b[0m \u001b[1m4s\u001b[0m 3ms/step - accuracy: 0.6441 - loss: 0.6202 - val_accuracy: 0.6358 - val_loss: 0.6236\n",
            "Epoch 15/30\n",
            "\u001b[1m1250/1250\u001b[0m \u001b[32m━━━━━━━━━━━━━━━━━━━━\u001b[0m\u001b[37m\u001b[0m \u001b[1m6s\u001b[0m 4ms/step - accuracy: 0.6435 - loss: 0.6190 - val_accuracy: 0.6395 - val_loss: 0.6216\n",
            "Epoch 16/30\n",
            "\u001b[1m1250/1250\u001b[0m \u001b[32m━━━━━━━━━━━━━━━━━━━━\u001b[0m\u001b[37m\u001b[0m \u001b[1m4s\u001b[0m 3ms/step - accuracy: 0.6454 - loss: 0.6166 - val_accuracy: 0.6376 - val_loss: 0.6211\n",
            "Epoch 17/30\n",
            "\u001b[1m1250/1250\u001b[0m \u001b[32m━━━━━━━━━━━━━━━━━━━━\u001b[0m\u001b[37m\u001b[0m \u001b[1m5s\u001b[0m 3ms/step - accuracy: 0.6492 - loss: 0.6168 - val_accuracy: 0.6350 - val_loss: 0.6211\n",
            "Epoch 18/30\n",
            "\u001b[1m1250/1250\u001b[0m \u001b[32m━━━━━━━━━━━━━━━━━━━━\u001b[0m\u001b[37m\u001b[0m \u001b[1m4s\u001b[0m 3ms/step - accuracy: 0.6506 - loss: 0.6112 - val_accuracy: 0.6343 - val_loss: 0.6198\n",
            "Epoch 19/30\n",
            "\u001b[1m1250/1250\u001b[0m \u001b[32m━━━━━━━━━━━━━━━━━━━━\u001b[0m\u001b[37m\u001b[0m \u001b[1m4s\u001b[0m 3ms/step - accuracy: 0.6502 - loss: 0.6139 - val_accuracy: 0.6376 - val_loss: 0.6199\n",
            "Epoch 20/30\n",
            "\u001b[1m1250/1250\u001b[0m \u001b[32m━━━━━━━━━━━━━━━━━━━━\u001b[0m\u001b[37m\u001b[0m \u001b[1m4s\u001b[0m 3ms/step - accuracy: 0.6546 - loss: 0.6104 - val_accuracy: 0.6411 - val_loss: 0.6163\n",
            "Epoch 21/30\n",
            "\u001b[1m1250/1250\u001b[0m \u001b[32m━━━━━━━━━━━━━━━━━━━━\u001b[0m\u001b[37m\u001b[0m \u001b[1m4s\u001b[0m 3ms/step - accuracy: 0.6573 - loss: 0.6090 - val_accuracy: 0.6436 - val_loss: 0.6170\n",
            "Epoch 22/30\n",
            "\u001b[1m1250/1250\u001b[0m \u001b[32m━━━━━━━━━━━━━━━━━━━━\u001b[0m\u001b[37m\u001b[0m \u001b[1m4s\u001b[0m 3ms/step - accuracy: 0.6564 - loss: 0.6092 - val_accuracy: 0.6415 - val_loss: 0.6167\n",
            "Epoch 23/30\n",
            "\u001b[1m1250/1250\u001b[0m \u001b[32m━━━━━━━━━━━━━━━━━━━━\u001b[0m\u001b[37m\u001b[0m \u001b[1m4s\u001b[0m 3ms/step - accuracy: 0.6592 - loss: 0.6031 - val_accuracy: 0.6467 - val_loss: 0.6134\n",
            "Epoch 24/30\n",
            "\u001b[1m1250/1250\u001b[0m \u001b[32m━━━━━━━━━━━━━━━━━━━━\u001b[0m\u001b[37m\u001b[0m \u001b[1m5s\u001b[0m 3ms/step - accuracy: 0.6621 - loss: 0.6016 - val_accuracy: 0.6442 - val_loss: 0.6160\n",
            "Epoch 25/30\n",
            "\u001b[1m1250/1250\u001b[0m \u001b[32m━━━━━━━━━━━━━━━━━━━━\u001b[0m\u001b[37m\u001b[0m \u001b[1m5s\u001b[0m 3ms/step - accuracy: 0.6616 - loss: 0.6043 - val_accuracy: 0.6442 - val_loss: 0.6146\n",
            "Epoch 26/30\n",
            "\u001b[1m1250/1250\u001b[0m \u001b[32m━━━━━━━━━━━━━━━━━━━━\u001b[0m\u001b[37m\u001b[0m \u001b[1m5s\u001b[0m 3ms/step - accuracy: 0.6636 - loss: 0.6012 - val_accuracy: 0.6486 - val_loss: 0.6101\n",
            "Epoch 27/30\n",
            "\u001b[1m1250/1250\u001b[0m \u001b[32m━━━━━━━━━━━━━━━━━━━━\u001b[0m\u001b[37m\u001b[0m \u001b[1m5s\u001b[0m 3ms/step - accuracy: 0.6662 - loss: 0.5993 - val_accuracy: 0.6487 - val_loss: 0.6108\n",
            "Epoch 28/30\n",
            "\u001b[1m1250/1250\u001b[0m \u001b[32m━━━━━━━━━━━━━━━━━━━━\u001b[0m\u001b[37m\u001b[0m \u001b[1m5s\u001b[0m 3ms/step - accuracy: 0.6649 - loss: 0.6012 - val_accuracy: 0.6500 - val_loss: 0.6092\n",
            "Epoch 29/30\n",
            "\u001b[1m1250/1250\u001b[0m \u001b[32m━━━━━━━━━━━━━━━━━━━━\u001b[0m\u001b[37m\u001b[0m \u001b[1m4s\u001b[0m 3ms/step - accuracy: 0.6688 - loss: 0.5992 - val_accuracy: 0.6529 - val_loss: 0.6064\n",
            "Epoch 30/30\n",
            "\u001b[1m1250/1250\u001b[0m \u001b[32m━━━━━━━━━━━━━━━━━━━━\u001b[0m\u001b[37m\u001b[0m \u001b[1m5s\u001b[0m 3ms/step - accuracy: 0.6703 - loss: 0.5949 - val_accuracy: 0.6532 - val_loss: 0.6073\n"
          ]
        }
      ]
    },
    {
      "cell_type": "code",
      "source": [
        "loss, accuracy = model.evaluate(X_test, y_test)\n",
        "print(f\"\\nTest Accuracy: {accuracy * 100:.2f}%\")"
      ],
      "metadata": {
        "colab": {
          "base_uri": "https://localhost:8080/"
        },
        "id": "NV3dNUqw1Rsx",
        "outputId": "ee0521b1-43b4-465e-a799-4143f040da7d"
      },
      "execution_count": 70,
      "outputs": [
        {
          "output_type": "stream",
          "name": "stdout",
          "text": [
            "\u001b[1m313/313\u001b[0m \u001b[32m━━━━━━━━━━━━━━━━━━━━\u001b[0m\u001b[37m\u001b[0m \u001b[1m1s\u001b[0m 4ms/step - accuracy: 0.6612 - loss: 0.6035\n",
            "\n",
            "Test Accuracy: 65.29%\n"
          ]
        }
      ]
    },
    {
      "cell_type": "code",
      "source": [
        "y_pred = (model.predict(X_test) > 0.5).astype(\"int32\")\n",
        "print(\"\\nClassification Report:\\n\", classification_report(y_test, y_pred))"
      ],
      "metadata": {
        "colab": {
          "base_uri": "https://localhost:8080/"
        },
        "id": "d0z1apsG1XVo",
        "outputId": "84cd2fcc-c020-45b7-929b-97e72f3a57db"
      },
      "execution_count": 73,
      "outputs": [
        {
          "output_type": "stream",
          "name": "stdout",
          "text": [
            "\u001b[1m313/313\u001b[0m \u001b[32m━━━━━━━━━━━━━━━━━━━━\u001b[0m\u001b[37m\u001b[0m \u001b[1m0s\u001b[0m 1ms/step  \n",
            "\n",
            "Classification Report:\n",
            "               precision    recall  f1-score   support\n",
            "\n",
            "           0       0.67      0.61      0.64      5032\n",
            "           1       0.64      0.70      0.67      4968\n",
            "\n",
            "    accuracy                           0.65     10000\n",
            "   macro avg       0.65      0.65      0.65     10000\n",
            "weighted avg       0.65      0.65      0.65     10000\n",
            "\n"
          ]
        }
      ]
    },
    {
      "cell_type": "code",
      "source": [
        "import matplotlib.pyplot as plt\n",
        "\n",
        "plt.figure(figsize=(8, 5))\n",
        "plt.plot(history.history['accuracy'], label='Training Accuracy')\n",
        "plt.plot(history.history['val_accuracy'], label='Validation Accuracy')\n",
        "plt.title('Model Accuracy')\n",
        "plt.xlabel('Epochs')\n",
        "plt.ylabel('Accuracy')\n",
        "plt.legend()\n",
        "plt.show()\n"
      ],
      "metadata": {
        "colab": {
          "base_uri": "https://localhost:8080/",
          "height": 439
        },
        "id": "FdHq8zqh1pPl",
        "outputId": "9e604768-f271-4455-a2cd-5f52a321b09e"
      },
      "execution_count": 74,
      "outputs": [
        {
          "output_type": "display_data",
          "data": {
            "text/plain": [
              "<Figure size 800x500 with 1 Axes>"
            ],
            "image/png": "[encoded data removed]"
          },
          "metadata": {}
        }
      ]
    },
    {
      "cell_type": "code",
      "source": [
        "plt.figure(figsize=(8, 5))\n",
        "plt.plot(history.history['loss'], label='Training Loss')\n",
        "plt.plot(history.history['val_loss'], label='Validation Loss')\n",
        "plt.title('Model Loss')\n",
        "plt.xlabel('Epochs')\n",
        "plt.ylabel('Loss')\n",
        "plt.legend()\n",
        "plt.show()\n"
      ],
      "metadata": {
        "colab": {
          "base_uri": "https://localhost:8080/",
          "height": 439
        },
        "id": "uBbEo4BX1pS6",
        "outputId": "d7991fbe-7862-4fd9-fbc7-b3578739b5ea"
      },
      "execution_count": 75,
      "outputs": [
        {
          "output_type": "display_data",
          "data": {
            "text/plain": [
              "<Figure size 800x500 with 1 Axes>"
            ],
            "image/png": "[encoded data removed]"
          },
          "metadata": {}
        }
      ]
    },
    {
      "cell_type": "code",
      "source": [],
      "metadata": {
        "id": "0CtuxnQB2YHr"
      },
      "execution_count": null,
      "outputs": []
    },
    {
      "cell_type": "code",
      "source": [
        "# Save the GRU model\n",
        "model.save('best_gru_model.h5')\n",
        "\n",
        "# Save the tokenizer\n",
        "import pickle\n",
        "with open('tokenizer.pkl', 'wb') as f:\n",
        "    pickle.dump(tokenizer, f)\n"
      ],
      "metadata": {
        "colab": {
          "base_uri": "https://localhost:8080/"
        },
        "id": "6f2IJ8JL2YLS",
        "outputId": "994bd2b8-fa82-4ab7-9740-528b7f174566"
      },
      "execution_count": 77,
      "outputs": [
        {
          "output_type": "stream",
          "name": "stderr",
          "text": [
            "WARNING:absl:You are saving your model as an HDF5 file via `model.save()` or `keras.saving.save_model(model)`. This file format is considered legacy. We recommend using instead the native Keras format, e.g. `model.save('my_model.keras')` or `keras.saving.save_model(model, 'my_model.keras')`. \n"
          ]
        }
      ]
    },
    {
      "cell_type": "code",
      "source": [],
      "metadata": {
        "id": "QM-z-oQl3NuB"
      },
      "execution_count": null,
      "outputs": []
    },
    {
      "cell_type": "code",
      "source": [],
      "metadata": {
        "id": "-gDFeGua3Tnl"
      },
      "execution_count": null,
      "outputs": []
    },
    {
      "cell_type": "code",
      "source": [
        "!pip install streamlit pyngrok\n"
      ],
      "metadata": {
        "colab": {
          "base_uri": "https://localhost:8080/"
        },
        "id": "PrzqS4E-3Tpt",
        "outputId": "de922a66-623b-4517-e7a2-c1146f752dad"
      },
      "execution_count": 83,
      "outputs": [
        {
          "output_type": "stream",
          "name": "stdout",
          "text": [
            "Requirement already satisfied: streamlit in /usr/local/lib/python3.11/dist-packages (1.45.1)\n",
            "Collecting pyngrok\n",
            "  Downloading pyngrok-7.2.8-py3-none-any.whl.metadata (10 kB)\n",
            "Requirement already satisfied: altair<6,>=4.0 in /usr/local/lib/python3.11/dist-packages (from streamlit) (5.5.0)\n",
            "Requirement already satisfied: blinker<2,>=1.5.0 in /usr/local/lib/python3.11/dist-packages (from streamlit) (1.9.0)\n",
            "Requirement already satisfied: cachetools<6,>=4.0 in /usr/local/lib/python3.11/dist-packages (from streamlit) (5.5.2)\n",
            "Requirement already satisfied: click<9,>=7.0 in /usr/local/lib/python3.11/dist-packages (from streamlit) (8.2.0)\n",
            "Requirement already satisfied: numpy<3,>=1.23 in /usr/local/lib/python3.11/dist-packages (from streamlit) (2.0.2)\n",
            "Requirement already satisfied: packaging<25,>=20 in /usr/local/lib/python3.11/dist-packages (from streamlit) (24.2)\n",
            "Requirement already satisfied: pandas<3,>=1.4.0 in /usr/local/lib/python3.11/dist-packages (from streamlit) (2.2.2)\n",
            "Requirement already satisfied: pillow<12,>=7.1.0 in /usr/local/lib/python3.11/dist-packages (from streamlit) (11.2.1)\n",
            "Requirement already satisfied: protobuf<7,>=3.20 in /usr/local/lib/python3.11/dist-packages (from streamlit) (5.29.4)\n",
            "Requirement already satisfied: pyarrow>=7.0 in /usr/local/lib/python3.11/dist-packages (from streamlit) (18.1.0)\n",
            "Requirement already satisfied: requests<3,>=2.27 in /usr/local/lib/python3.11/dist-packages (from streamlit) (2.32.3)\n",
            "Requirement already satisfied: tenacity<10,>=8.1.0 in /usr/local/lib/python3.11/dist-packages (from streamlit) (9.1.2)\n",
            "Requirement already satisfied: toml<2,>=0.10.1 in /usr/local/lib/python3.11/dist-packages (from streamlit) (0.10.2)\n",
            "Requirement already satisfied: typing-extensions<5,>=4.4.0 in /usr/local/lib/python3.11/dist-packages (from streamlit) (4.13.2)\n",
            "Requirement already satisfied: watchdog<7,>=2.1.5 in /usr/local/lib/python3.11/dist-packages (from streamlit) (6.0.0)\n",
            "Requirement already satisfied: gitpython!=3.1.19,<4,>=3.0.7 in /usr/local/lib/python3.11/dist-packages (from streamlit) (3.1.44)\n",
            "Requirement already satisfied: pydeck<1,>=0.8.0b4 in /usr/local/lib/python3.11/dist-packages (from streamlit) (0.9.1)\n",
            "Requirement already satisfied: tornado<7,>=6.0.3 in /usr/local/lib/python3.11/dist-packages (from streamlit) (6.4.2)\n",
            "Requirement already satisfied: PyYAML>=5.1 in /usr/local/lib/python3.11/dist-packages (from pyngrok) (6.0.2)\n",
            "Requirement already satisfied: jinja2 in /usr/local/lib/python3.11/dist-packages (from altair<6,>=4.0->streamlit) (3.1.6)\n",
            "Requirement already satisfied: jsonschema>=3.0 in /usr/local/lib/python3.11/dist-packages (from altair<6,>=4.0->streamlit) (4.23.0)\n",
            "Requirement already satisfied: narwhals>=1.14.2 in /usr/local/lib/python3.11/dist-packages (from altair<6,>=4.0->streamlit) (1.39.0)\n",
            "Requirement already satisfied: gitdb<5,>=4.0.1 in /usr/local/lib/python3.11/dist-packages (from gitpython!=3.1.19,<4,>=3.0.7->streamlit) (4.0.12)\n",
            "Requirement already satisfied: python-dateutil>=2.8.2 in /usr/local/lib/python3.11/dist-packages (from pandas<3,>=1.4.0->streamlit) (2.9.0.post0)\n",
            "Requirement already satisfied: pytz>=2020.1 in /usr/local/lib/python3.11/dist-packages (from pandas<3,>=1.4.0->streamlit) (2025.2)\n",
            "Requirement already satisfied: tzdata>=2022.7 in /usr/local/lib/python3.11/dist-packages (from pandas<3,>=1.4.0->streamlit) (2025.2)\n",
            "Requirement already satisfied: charset-normalizer<4,>=2 in /usr/local/lib/python3.11/dist-packages (from requests<3,>=2.27->streamlit) (3.4.2)\n",
            "Requirement already satisfied: idna<4,>=2.5 in /usr/local/lib/python3.11/dist-packages (from requests<3,>=2.27->streamlit) (3.10)\n",
            "Requirement already satisfied: urllib3<3,>=1.21.1 in /usr/local/lib/python3.11/dist-packages (from requests<3,>=2.27->streamlit) (2.4.0)\n",
            "Requirement already satisfied: certifi>=2017.4.17 in /usr/local/lib/python3.11/dist-packages (from requests<3,>=2.27->streamlit) (2025.4.26)\n",
            "Requirement already satisfied: smmap<6,>=3.0.1 in /usr/local/lib/python3.11/dist-packages (from gitdb<5,>=4.0.1->gitpython!=3.1.19,<4,>=3.0.7->streamlit) (5.0.2)\n",
            "Requirement already satisfied: MarkupSafe>=2.0 in /usr/local/lib/python3.11/dist-packages (from jinja2->altair<6,>=4.0->streamlit) (3.0.2)\n",
            "Requirement already satisfied: attrs>=22.2.0 in /usr/local/lib/python3.11/dist-packages (from jsonschema>=3.0->altair<6,>=4.0->streamlit) (25.3.0)\n",
            "Requirement already satisfied: jsonschema-specifications>=2023.03.6 in /usr/local/lib/python3.11/dist-packages (from jsonschema>=3.0->altair<6,>=4.0->streamlit) (2025.4.1)\n",
            "Requirement already satisfied: referencing>=0.28.4 in /usr/local/lib/python3.11/dist-packages (from jsonschema>=3.0->altair<6,>=4.0->streamlit) (0.36.2)\n",
            "Requirement already satisfied: rpds-py>=0.7.1 in /usr/local/lib/python3.11/dist-packages (from jsonschema>=3.0->altair<6,>=4.0->streamlit) (0.24.0)\n",
            "Requirement already satisfied: six>=1.5 in /usr/local/lib/python3.11/dist-packages (from python-dateutil>=2.8.2->pandas<3,>=1.4.0->streamlit) (1.17.0)\n",
            "Downloading pyngrok-7.2.8-py3-none-any.whl (25 kB)\n",
            "Installing collected packages: pyngrok\n",
            "Successfully installed pyngrok-7.2.8\n"
          ]
        }
      ]
    },
    {
      "cell_type": "code",
      "source": [
        "!pip install streamlit\n"
      ],
      "metadata": {
        "colab": {
          "base_uri": "https://localhost:8080/"
        },
        "id": "Zhi6v_Wo3TtT",
        "outputId": "a9dd97cb-1c9a-4ebb-d625-7abf8cbc4986"
      },
      "execution_count": 79,
      "outputs": [
        {
          "output_type": "stream",
          "name": "stdout",
          "text": [
            "Collecting streamlit\n",
            "  Downloading streamlit-1.45.1-py3-none-any.whl.metadata (8.9 kB)\n",
            "Requirement already satisfied: altair<6,>=4.0 in /usr/local/lib/python3.11/dist-packages (from streamlit) (5.5.0)\n",
            "Requirement already satisfied: blinker<2,>=1.5.0 in /usr/local/lib/python3.11/dist-packages (from streamlit) (1.9.0)\n",
            "Requirement already satisfied: cachetools<6,>=4.0 in /usr/local/lib/python3.11/dist-packages (from streamlit) (5.5.2)\n",
            "Requirement already satisfied: click<9,>=7.0 in /usr/local/lib/python3.11/dist-packages (from streamlit) (8.2.0)\n",
            "Requirement already satisfied: numpy<3,>=1.23 in /usr/local/lib/python3.11/dist-packages (from streamlit) (2.0.2)\n",
            "Requirement already satisfied: packaging<25,>=20 in /usr/local/lib/python3.11/dist-packages (from streamlit) (24.2)\n",
            "Requirement already satisfied: pandas<3,>=1.4.0 in /usr/local/lib/python3.11/dist-packages (from streamlit) (2.2.2)\n",
            "Requirement already satisfied: pillow<12,>=7.1.0 in /usr/local/lib/python3.11/dist-packages (from streamlit) (11.2.1)\n",
            "Requirement already satisfied: protobuf<7,>=3.20 in /usr/local/lib/python3.11/dist-packages (from streamlit) (5.29.4)\n",
            "Requirement already satisfied: pyarrow>=7.0 in /usr/local/lib/python3.11/dist-packages (from streamlit) (18.1.0)\n",
            "Requirement already satisfied: requests<3,>=2.27 in /usr/local/lib/python3.11/dist-packages (from streamlit) (2.32.3)\n",
            "Requirement already satisfied: tenacity<10,>=8.1.0 in /usr/local/lib/python3.11/dist-packages (from streamlit) (9.1.2)\n",
            "Requirement already satisfied: toml<2,>=0.10.1 in /usr/local/lib/python3.11/dist-packages (from streamlit) (0.10.2)\n",
            "Requirement already satisfied: typing-extensions<5,>=4.4.0 in /usr/local/lib/python3.11/dist-packages (from streamlit) (4.13.2)\n",
            "Collecting watchdog<7,>=2.1.5 (from streamlit)\n",
            "  Downloading watchdog-6.0.0-py3-none-manylinux2014_x86_64.whl.metadata (44 kB)\n",
            "\u001b[2K     \u001b[90m━━━━━━━━━━━━━━━━━━━━━━━━━━━━━━━━━━━━━━━━\u001b[0m \u001b[32m44.3/44.3 kB\u001b[0m \u001b[31m2.9 MB/s\u001b[0m eta \u001b[36m0:00:00\u001b[0m\n",
            "\u001b[?25hRequirement already satisfied: gitpython!=3.1.19,<4,>=3.0.7 in /usr/local/lib/python3.11/dist-packages (from streamlit) (3.1.44)\n",
            "Collecting pydeck<1,>=0.8.0b4 (from streamlit)\n",
            "  Downloading pydeck-0.9.1-py2.py3-none-any.whl.metadata (4.1 kB)\n",
            "Requirement already satisfied: tornado<7,>=6.0.3 in /usr/local/lib/python3.11/dist-packages (from streamlit) (6.4.2)\n",
            "Requirement already satisfied: jinja2 in /usr/local/lib/python3.11/dist-packages (from altair<6,>=4.0->streamlit) (3.1.6)\n",
            "Requirement already satisfied: jsonschema>=3.0 in /usr/local/lib/python3.11/dist-packages (from altair<6,>=4.0->streamlit) (4.23.0)\n",
            "Requirement already satisfied: narwhals>=1.14.2 in /usr/local/lib/python3.11/dist-packages (from altair<6,>=4.0->streamlit) (1.39.0)\n",
            "Requirement already satisfied: gitdb<5,>=4.0.1 in /usr/local/lib/python3.11/dist-packages (from gitpython!=3.1.19,<4,>=3.0.7->streamlit) (4.0.12)\n",
            "Requirement already satisfied: python-dateutil>=2.8.2 in /usr/local/lib/python3.11/dist-packages (from pandas<3,>=1.4.0->streamlit) (2.9.0.post0)\n",
            "Requirement already satisfied: pytz>=2020.1 in /usr/local/lib/python3.11/dist-packages (from pandas<3,>=1.4.0->streamlit) (2025.2)\n",
            "Requirement already satisfied: tzdata>=2022.7 in /usr/local/lib/python3.11/dist-packages (from pandas<3,>=1.4.0->streamlit) (2025.2)\n",
            "Requirement already satisfied: charset-normalizer<4,>=2 in /usr/local/lib/python3.11/dist-packages (from requests<3,>=2.27->streamlit) (3.4.2)\n",
            "Requirement already satisfied: idna<4,>=2.5 in /usr/local/lib/python3.11/dist-packages (from requests<3,>=2.27->streamlit) (3.10)\n",
            "Requirement already satisfied: urllib3<3,>=1.21.1 in /usr/local/lib/python3.11/dist-packages (from requests<3,>=2.27->streamlit) (2.4.0)\n",
            "Requirement already satisfied: certifi>=2017.4.17 in /usr/local/lib/python3.11/dist-packages (from requests<3,>=2.27->streamlit) (2025.4.26)\n",
            "Requirement already satisfied: smmap<6,>=3.0.1 in /usr/local/lib/python3.11/dist-packages (from gitdb<5,>=4.0.1->gitpython!=3.1.19,<4,>=3.0.7->streamlit) (5.0.2)\n",
            "Requirement already satisfied: MarkupSafe>=2.0 in /usr/local/lib/python3.11/dist-packages (from jinja2->altair<6,>=4.0->streamlit) (3.0.2)\n",
            "Requirement already satisfied: attrs>=22.2.0 in /usr/local/lib/python3.11/dist-packages (from jsonschema>=3.0->altair<6,>=4.0->streamlit) (25.3.0)\n",
            "Requirement already satisfied: jsonschema-specifications>=2023.03.6 in /usr/local/lib/python3.11/dist-packages (from jsonschema>=3.0->altair<6,>=4.0->streamlit) (2025.4.1)\n",
            "Requirement already satisfied: referencing>=0.28.4 in /usr/local/lib/python3.11/dist-packages (from jsonschema>=3.0->altair<6,>=4.0->streamlit) (0.36.2)\n",
            "Requirement already satisfied: rpds-py>=0.7.1 in /usr/local/lib/python3.11/dist-packages (from jsonschema>=3.0->altair<6,>=4.0->streamlit) (0.24.0)\n",
            "Requirement already satisfied: six>=1.5 in /usr/local/lib/python3.11/dist-packages (from python-dateutil>=2.8.2->pandas<3,>=1.4.0->streamlit) (1.17.0)\n",
            "Downloading streamlit-1.45.1-py3-none-any.whl (9.9 MB)\n",
            "\u001b[2K   \u001b[90m━━━━━━━━━━━━━━━━━━━━━━━━━━━━━━━━━━━━━━━━\u001b[0m \u001b[32m9.9/9.9 MB\u001b[0m \u001b[31m35.3 MB/s\u001b[0m eta \u001b[36m0:00:00\u001b[0m\n",
            "\u001b[?25hDownloading pydeck-0.9.1-py2.py3-none-any.whl (6.9 MB)\n",
            "\u001b[2K   \u001b[90m━━━━━━━━━━━━━━━━━━━━━━━━━━━━━━━━━━━━━━━━\u001b[0m \u001b[32m6.9/6.9 MB\u001b[0m \u001b[31m52.3 MB/s\u001b[0m eta \u001b[36m0:00:00\u001b[0m\n",
            "\u001b[?25hDownloading watchdog-6.0.0-py3-none-manylinux2014_x86_64.whl (79 kB)\n",
            "\u001b[2K   \u001b[90m━━━━━━━━━━━━━━━━━━━━━━━━━━━━━━━━━━━━━━━━\u001b[0m \u001b[32m79.1/79.1 kB\u001b[0m \u001b[31m7.7 MB/s\u001b[0m eta \u001b[36m0:00:00\u001b[0m\n",
            "\u001b[?25hInstalling collected packages: watchdog, pydeck, streamlit\n",
            "Successfully installed pydeck-0.9.1 streamlit-1.45.1 watchdog-6.0.0\n"
          ]
        }
      ]
    },
    {
      "cell_type": "code",
      "source": [
        "%%writefile plagiarism_app.py\n",
        "import streamlit as st\n",
        "import pickle\n",
        "import numpy as np\n",
        "import tensorflow as tf\n",
        "\n",
        "# Load model and tokenizer\n",
        "model = tf.keras.models.load_model('best_gru_model.h5')\n",
        "tokenizer = pickle.load(open('tokenizer.pkl', 'rb'))\n",
        "\n",
        "# Text preprocessing (same pipeline you used during training)\n",
        "def preprocess(text):\n",
        "    text = text.lower()\n",
        "    text = re.sub(r'[^\\w\\s]', '', text)\n",
        "    text = re.sub(r'\\s+', ' ', text).strip()\n",
        "    return text\n",
        "\n",
        "def vectorize(text):\n",
        "    text = preprocess(text)\n",
        "    sequence = tokenizer.texts_to_sequences([text])\n",
        "    padded = tf.keras.preprocessing.sequence.pad_sequences(sequence, maxlen=100)\n",
        "    return padded\n",
        "\n",
        "# Streamlit UI\n",
        "st.title(\"Plagiarism Checker\")\n",
        "\n",
        "source_text = st.text_area(\"Enter Source Text\")\n",
        "plagiarism_text = st.text_area(\"Enter Text to Check for Plagiarism\")\n",
        "\n",
        "if st.button(\"Check\"):\n",
        "    src_vec = vectorize(source_text)\n",
        "    plag_vec = vectorize(plagiarism_text)\n",
        "    combined = np.hstack((src_vec, plag_vec))\n",
        "    combined = combined.reshape((combined.shape[0], 1, combined.shape[1]))\n",
        "\n",
        "    prediction = model.predict(combined)[0][0]\n",
        "    st.write(\"Plagiarism Probability:\", round(prediction * 100, 2), \"%\")\n",
        "\n",
        "    if prediction > 0.5:\n",
        "        st.error(\"Plagiarism Detected\")\n",
        "    else:\n",
        "        st.success(\"No Plagiarism Detected\")\n"
      ],
      "metadata": {
        "colab": {
          "base_uri": "https://localhost:8080/"
        },
        "id": "G2S9IaNw3NxZ",
        "outputId": "408000e3-10de-4fd1-fead-34410caac205"
      },
      "execution_count": 84,
      "outputs": [
        {
          "output_type": "stream",
          "name": "stdout",
          "text": [
            "Writing plagiarism_app.py\n"
          ]
        }
      ]
    },
    {
      "cell_type": "code",
      "source": [
        "from google.colab import files\n",
        "uploaded = files.upload()\n"
      ],
      "metadata": {
        "colab": {
          "base_uri": "https://localhost:8080/",
          "height": 73
        },
        "id": "bfmkqSV93f9n",
        "outputId": "430320da-00c3-4ff7-b957-ef681ccd4582"
      },
      "execution_count": 85,
      "outputs": [
        {
          "output_type": "display_data",
          "data": {
            "text/plain": [
              "<IPython.core.display.HTML object>"
            ],
            "text/html": [
              "\n",
              "     <input type=\"file\" id=\"files-63dec3c4-92ea-4c0b-83f9-e105d543ca1e\" name=\"files[]\" multiple disabled\n",
              "        style=\"border:none\" />\n",
              "     <output id=\"result-63dec3c4-92ea-4c0b-83f9-e105d543ca1e\">\n",
              "      Upload widget is only available when the cell has been executed in the\n",
              "      current browser session. Please rerun this cell to enable.\n",
              "      </output>\n",
              "      <script>// Copyright 2017 Google LLC\n",
              "//\n",
              "// Licensed under the Apache License, Version 2.0 (the \"License\");\n",
              "// you may not use this file except in compliance with the License.\n",
              "// You may obtain a copy of the License at\n",
              "//\n",
              "//      http://www.apache.org/licenses/LICENSE-2.0\n",
              "//\n",
              "// Unless required by applicable law or agreed to in writing, software\n",
              "// distributed under the License is distributed on an \"AS IS\" BASIS,\n",
              "// WITHOUT WARRANTIES OR CONDITIONS OF ANY KIND, either express or implied.\n",
              "// See the License for the specific language governing permissions and\n",
              "// limitations under the License.\n",
              "\n",
              "/**\n",
              " * @fileoverview Helpers for google.colab Python module.\n",
              " */\n",
              "(function(scope) {\n",
              "function span(text, styleAttributes = {}) {\n",
              "  const element = document.createElement('span');\n",
              "  element.textContent = text;\n",
              "  for (const key of Object.keys(styleAttributes)) {\n",
              "    element.style[key] = styleAttributes[key];\n",
              "  }\n",
              "  return element;\n",
              "}\n",
              "\n",
              "// Max number of bytes which will be uploaded at a time.\n",
              "const MAX_PAYLOAD_SIZE = 100 * 1024;\n",
              "\n",
              "function _uploadFiles(inputId, outputId) {\n",
              "  const steps = uploadFilesStep(inputId, outputId);\n",
              "  const outputElement = document.getElementById(outputId);\n",
              "  // Cache steps on the outputElement to make it available for the next call\n",
              "  // to uploadFilesContinue from Python.\n",
              "  outputElement.steps = steps;\n",
              "\n",
              "  return _uploadFilesContinue(outputId);\n",
              "}\n",
              "\n",
              "// This is roughly an async generator (not supported in the browser yet),\n",
              "// where there are multiple asynchronous steps and the Python side is going\n",
              "// to poll for completion of each step.\n",
              "// This uses a Promise to block the python side on completion of each step,\n",
              "// then passes the result of the previous step as the input to the next step.\n",
              "function _uploadFilesContinue(outputId) {\n",
              "  const outputElement = document.getElementById(outputId);\n",
              "  const steps = outputElement.steps;\n",
              "\n",
              "  const next = steps.next(outputElement.lastPromiseValue);\n",
              "  return Promise.resolve(next.value.promise).then((value) => {\n",
              "    // Cache the last promise value to make it available to the next\n",
              "    // step of the generator.\n",
              "    outputElement.lastPromiseValue = value;\n",
              "    return next.value.response;\n",
              "  });\n",
              "}\n",
              "\n",
              "/**\n",
              " * Generator function which is called between each async step of the upload\n",
              " * process.\n",
              " * @param {string} inputId Element ID of the input file picker element.\n",
              " * @param {string} outputId Element ID of the output display.\n",
              " * @return {!Iterable<!Object>} Iterable of next steps.\n",
              " */\n",
              "function* uploadFilesStep(inputId, outputId) {\n",
              "  const inputElement = document.getElementById(inputId);\n",
              "  inputElement.disabled = false;\n",
              "\n",
              "  const outputElement = document.getElementById(outputId);\n",
              "  outputElement.innerHTML = '';\n",
              "\n",
              "  const pickedPromise = new Promise((resolve) => {\n",
              "    inputElement.addEventListener('change', (e) => {\n",
              "      resolve(e.target.files);\n",
              "    });\n",
              "  });\n",
              "\n",
              "  const cancel = document.createElement('button');\n",
              "  inputElement.parentElement.appendChild(cancel);\n",
              "  cancel.textContent = 'Cancel upload';\n",
              "  const cancelPromise = new Promise((resolve) => {\n",
              "    cancel.onclick = () => {\n",
              "      resolve(null);\n",
              "    };\n",
              "  });\n",
              "\n",
              "  // Wait for the user to pick the files.\n",
              "  const files = yield {\n",
              "    promise: Promise.race([pickedPromise, cancelPromise]),\n",
              "    response: {\n",
              "      action: 'starting',\n",
              "    }\n",
              "  };\n",
              "\n",
              "  cancel.remove();\n",
              "\n",
              "  // Disable the input element since further picks are not allowed.\n",
              "  inputElement.disabled = true;\n",
              "\n",
              "  if (!files) {\n",
              "    return {\n",
              "      response: {\n",
              "        action: 'complete',\n",
              "      }\n",
              "    };\n",
              "  }\n",
              "\n",
              "  for (const file of files) {\n",
              "    const li = document.createElement('li');\n",
              "    li.append(span(file.name, {fontWeight: 'bold'}));\n",
              "    li.append(span(\n",
              "        `(${file.type || 'n/a'}) - ${file.size} bytes, ` +\n",
              "        `last modified: ${\n",
              "            file.lastModifiedDate ? file.lastModifiedDate.toLocaleDateString() :\n",
              "                                    'n/a'} - `));\n",
              "    const percent = span('0% done');\n",
              "    li.appendChild(percent);\n",
              "\n",
              "    outputElement.appendChild(li);\n",
              "\n",
              "    const fileDataPromise = new Promise((resolve) => {\n",
              "      const reader = new FileReader();\n",
              "      reader.onload = (e) => {\n",
              "        resolve(e.target.result);\n",
              "      };\n",
              "      reader.readAsArrayBuffer(file);\n",
              "    });\n",
              "    // Wait for the data to be ready.\n",
              "    let fileData = yield {\n",
              "      promise: fileDataPromise,\n",
              "      response: {\n",
              "        action: 'continue',\n",
              "      }\n",
              "    };\n",
              "\n",
              "    // Use a chunked sending to avoid message size limits. See b/62115660.\n",
              "    let position = 0;\n",
              "    do {\n",
              "      const length = Math.min(fileData.byteLength - position, MAX_PAYLOAD_SIZE);\n",
              "      const chunk = new Uint8Array(fileData, position, length);\n",
              "      position += length;\n",
              "\n",
              "      const base64 = btoa(String.fromCharCode.apply(null, chunk));\n",
              "      yield {\n",
              "        response: {\n",
              "          action: 'append',\n",
              "          file: file.name,\n",
              "          data: base64,\n",
              "        },\n",
              "      };\n",
              "\n",
              "      let percentDone = fileData.byteLength === 0 ?\n",
              "          100 :\n",
              "          Math.round((position / fileData.byteLength) * 100);\n",
              "      percent.textContent = `${percentDone}% done`;\n",
              "\n",
              "    } while (position < fileData.byteLength);\n",
              "  }\n",
              "\n",
              "  // All done.\n",
              "  yield {\n",
              "    response: {\n",
              "      action: 'complete',\n",
              "    }\n",
              "  };\n",
              "}\n",
              "\n",
              "scope.google = scope.google || {};\n",
              "scope.google.colab = scope.google.colab || {};\n",
              "scope.google.colab._files = {\n",
              "  _uploadFiles,\n",
              "  _uploadFilesContinue,\n",
              "};\n",
              "})(self);\n",
              "</script> "
            ]
          },
          "metadata": {}
        },
        {
          "output_type": "stream",
          "name": "stdout",
          "text": [
            "Saving best_gru_model.h5 to best_gru_model (1).h5\n"
          ]
        }
      ]
    },
    {
      "cell_type": "code",
      "source": [
        "!pip install streamlit pyngrok --quiet\n"
      ],
      "metadata": {
        "id": "1C2UcrDV9EzM"
      },
      "execution_count": 96,
      "outputs": []
    },
    {
      "cell_type": "code",
      "source": [
        "!ngrok authtoken 2xI7kcmrCB163gJMaxOB0boKsVj_2BmAAyWGHjQHUxfQhKW1R\n"
      ],
      "metadata": {
        "colab": {
          "base_uri": "https://localhost:8080/"
        },
        "id": "TmNQ-J4Y-F84",
        "outputId": "dfe4492f-7927-426b-b8ad-a844268a3fa3"
      },
      "execution_count": 111,
      "outputs": [
        {
          "output_type": "stream",
          "name": "stdout",
          "text": [
            "Authtoken saved to configuration file: /root/.config/ngrok/ngrok.yml\n"
          ]
        }
      ]
    },
    {
      "cell_type": "code",
      "source": [
        "!ngrok config add-authtoken 2xI7kcmrCB163gJMaxOB0boKsVj_2BmAAyWGHjQHUxfQhKW1R\n"
      ],
      "metadata": {
        "colab": {
          "base_uri": "https://localhost:8080/"
        },
        "id": "X1u4-mEn7y1M",
        "outputId": "c3c58804-7024-4cf5-aea8-036ec18b9847"
      },
      "execution_count": 112,
      "outputs": [
        {
          "output_type": "stream",
          "name": "stdout",
          "text": [
            "Authtoken saved to configuration file: /root/.config/ngrok/ngrok.yml\n"
          ]
        }
      ]
    },
    {
      "cell_type": "code",
      "source": [
        "%%writefile app.py\n",
        "import streamlit as st\n",
        "\n",
        "st.title(\"Hello from Streamlit in Colab!\")\n",
        "\n",
        "user_input = st.text_input(\"Enter something:\")\n",
        "st.write(\"You entered:\", user_input)\n"
      ],
      "metadata": {
        "colab": {
          "base_uri": "https://localhost:8080/"
        },
        "id": "uNJkeYN09GiR",
        "outputId": "2aa33a12-b2d7-4861-9a1f-4e6766a68168"
      },
      "execution_count": 100,
      "outputs": [
        {
          "output_type": "stream",
          "name": "stdout",
          "text": [
            "Overwriting app.py\n"
          ]
        }
      ]
    },
    {
      "cell_type": "code",
      "source": [
        "import time\n",
        "from pyngrok import ngrok\n",
        "\n",
        "# Kill any existing tunnels\n",
        "ngrok.kill()\n",
        "\n",
        "# Run Streamlit with server.address 0.0.0.0 to accept outside connections\n",
        "get_ipython().system_raw('streamlit run app.py --server.port 8501 --server.address 0.0.0.0 &')\n",
        "\n",
        "# Wait for Streamlit to start properly\n",
        "time.sleep(10)\n",
        "\n",
        "# Open ngrok tunnel to localhost:8501\n",
        "public_url = ngrok.connect(8501)\n",
        "print(f\"Streamlit app URL: {public_url}\")\n"
      ],
      "metadata": {
        "colab": {
          "base_uri": "https://localhost:8080/"
        },
        "id": "pt3DCh4S9RQ1",
        "outputId": "8d1f6f5f-9470-452a-adf8-dde72fa24f76"
      },
      "execution_count": 101,
      "outputs": [
        {
          "output_type": "stream",
          "name": "stdout",
          "text": [
            "Streamlit app URL: NgrokTunnel: \"https://6f3b-34-125-144-85.ngrok-free.app\" -> \"http://localhost:8501\"\n"
          ]
        }
      ]
    },
    {
      "cell_type": "code",
      "source": [
        "# Install pyngrok\n",
        "\n",
        "# Run Streamlit app in background, binding to all IPs\n",
        "get_ipython().system_raw('streamlit run plagiarism_app.py --server.port 8501 --server.address 0.0.0.0 &')\n",
        "\n",
        "# Wait to ensure streamlit is ready\n",
        "import time\n",
        "time.sleep(10)\n",
        "\n",
        "# Setup ngrok tunnel\n",
        "from pyngrok import ngrok\n",
        "\n",
        "ngrok.kill()\n",
        "public_url = ngrok.connect(\"http://localhost:8501\")\n",
        "print(f\"Streamlit app running at: {public_url}\")\n"
      ],
      "metadata": {
        "colab": {
          "base_uri": "https://localhost:8080/"
        },
        "id": "2L_mY8IN4_WA",
        "outputId": "206e75d4-d447-4e39-dc9a-b7d75e0e834c"
      },
      "execution_count": 95,
      "outputs": [
        {
          "output_type": "stream",
          "name": "stdout",
          "text": [
            "Streamlit app running at: NgrokTunnel: \"https://6311-34-125-144-85.ngrok-free.app\" -> \"http://localhost:8501\"\n"
          ]
        }
      ]
    },
    {
      "cell_type": "code",
      "source": [],
      "metadata": {
        "id": "Y-xzxZHH-skv"
      },
      "execution_count": null,
      "outputs": []
    },
    {
      "cell_type": "code",
      "source": [
        "!wget -q -O - ipv4.icanhazip.com"
      ],
      "metadata": {
        "colab": {
          "base_uri": "https://localhost:8080/"
        },
        "id": "agWgWnK0-soW",
        "outputId": "753dddf8-288a-4970-dc39-6d4fdc1827ba"
      },
      "execution_count": 109,
      "outputs": [
        {
          "output_type": "stream",
          "name": "stdout",
          "text": [
            "34.125.144.85\n"
          ]
        }
      ]
    },
    {
      "cell_type": "code",
      "source": [
        "! streamlit run plagiarism_app.py & npx localtunnel --port 8501"
      ],
      "metadata": {
        "colab": {
          "base_uri": "https://localhost:8080/"
        },
        "id": "Xu4wzBtJ--Hi",
        "outputId": "0b447e68-380f-42ab-e3a0-11334663bedb"
      },
      "execution_count": 115,
      "outputs": [
        {
          "output_type": "stream",
          "name": "stdout",
          "text": [
            "\n",
            "Collecting usage statistics. To deactivate, set browser.gatherUsageStats to false.\n",
            "\u001b[0m\n",
            "\u001b[1G\u001b[0K⠙\u001b[1G\u001b[0K⠹\u001b[1G\u001b[0K⠸\u001b[1G\u001b[0K⠼\u001b[0m\n",
            "\u001b[34m\u001b[1m  You can now view your Streamlit app in your browser.\u001b[0m\n",
            "\u001b[0m\n",
            "\u001b[34m  Local URL: \u001b[0m\u001b[1mhttp://localhost:8501\u001b[0m\n",
            "\u001b[34m  Network URL: \u001b[0m\u001b[1mhttp://172.28.0.12:8501\u001b[0m\n",
            "\u001b[34m  External URL: \u001b[0m\u001b[1mhttp://34.125.144.85:8501\u001b[0m\n",
            "\u001b[0m\n",
            "\u001b[1G\u001b[0K⠴\u001b[1G\u001b[0Kyour url is: https://thirty-foxes-lay.loca.lt\n",
            "2025-05-19 01:14:38.250258: E external/local_xla/xla/stream_executor/cuda/cuda_fft.cc:477] Unable to register cuFFT factory: Attempting to register factory for plugin cuFFT when one has already been registered\n",
            "WARNING: All log messages before absl::InitializeLog() is called are written to STDERR\n",
            "E0000 00:00:1747617278.267178   41048 cuda_dnn.cc:8310] Unable to register cuDNN factory: Attempting to register factory for plugin cuDNN when one has already been registered\n",
            "E0000 00:00:1747617278.272286   41048 cuda_blas.cc:1418] Unable to register cuBLAS factory: Attempting to register factory for plugin cuBLAS when one has already been registered\n",
            "2025-05-19 01:14:41.831100: E external/local_xla/xla/stream_executor/cuda/cuda_driver.cc:152] failed call to cuInit: INTERNAL: CUDA error: Failed call to cuInit: UNKNOWN ERROR (303)\n",
            "WARNING:absl:Compiled the loaded model, but the compiled metrics have yet to be built. `model.compile_metrics` will be empty until you train or evaluate the model.\n",
            "WARNING:absl:Compiled the loaded model, but the compiled metrics have yet to be built. `model.compile_metrics` will be empty until you train or evaluate the model.\n",
            "WARNING:absl:Compiled the loaded model, but the compiled metrics have yet to be built. `model.compile_metrics` will be empty until you train or evaluate the model.\n",
            "\u001b[31m──\u001b[0m\u001b[31m────────────────────────\u001b[0m\u001b[31m \u001b[0m\u001b[1;31mTraceback \u001b[0m\u001b[1;2;31m(most recent call last)\u001b[0m\u001b[31m \u001b[0m\u001b[31m─────────────────────────\u001b[0m\u001b[31m──\u001b[0m\n",
            "\u001b[31m \u001b[0m \u001b[2;33m/usr/local/lib/python3.11/dist-packages/streamlit/runtime/scriptrunner/\u001b[0m\u001b[1;33mexec_code.py\u001b[0m: \u001b[31m \u001b[0m\n",
            "\u001b[31m \u001b[0m \u001b[94m121\u001b[0m in \u001b[92mexec_func_with_error_handling\u001b[0m                                                 \u001b[31m \u001b[0m\n",
            "\u001b[31m \u001b[0m                                                                                      \u001b[31m \u001b[0m\n",
            "\u001b[31m \u001b[0m \u001b[2;33m/usr/local/lib/python3.11/dist-packages/streamlit/runtime/scriptrunner/\u001b[0m\u001b[1;33mscript_runner\u001b[0m \u001b[31m \u001b[0m\n",
            "\u001b[31m \u001b[0m \u001b[1;33m.py\u001b[0m:\u001b[94m645\u001b[0m in \u001b[92mcode_to_exec\u001b[0m                                                              \u001b[31m \u001b[0m\n",
            "\u001b[31m \u001b[0m                                                                                      \u001b[31m \u001b[0m\n",
            "\u001b[31m \u001b[0m \u001b[2;33m/content/\u001b[0m\u001b[1;33mplagiarism_app.py\u001b[0m:\u001b[94m7\u001b[0m in \u001b[92m<module>\u001b[0m                                             \u001b[31m \u001b[0m\n",
            "\u001b[31m \u001b[0m                                                                                      \u001b[31m \u001b[0m\n",
            "\u001b[31m \u001b[0m   \u001b[2m 4 \u001b[0m\u001b[94mimport\u001b[0m\u001b[90m \u001b[0m\u001b[4;96mtensorflow\u001b[0m\u001b[90m \u001b[0m\u001b[94mas\u001b[0m\u001b[90m \u001b[0m\u001b[4;96mtf\u001b[0m                                                         \u001b[31m \u001b[0m\n",
            "\u001b[31m \u001b[0m   \u001b[2m 5 \u001b[0m\u001b[94mimport\u001b[0m\u001b[90m \u001b[0m\u001b[4;96mre\u001b[0m                                                                       \u001b[31m \u001b[0m\n",
            "\u001b[31m \u001b[0m   \u001b[2m 6 \u001b[0m                                                                                \u001b[31m \u001b[0m\n",
            "\u001b[31m \u001b[0m \u001b[31m❱ \u001b[0m 7 \u001b[2m# Load m\u001b[0m\u001b[1;2;4model and tokenizer\u001b[0m                                                      \u001b[31m \u001b[0m\n",
            "\u001b[31m \u001b[0m   \u001b[2m 8 \u001b[0mmodel = tf.keras.models.load_model(\u001b[33m'\u001b[0m\u001b[33mbest_gru_model.h5\u001b[0m\u001b[33m'\u001b[0m, \u001b[96mcompile\u001b[0m=\u001b[94mFalse\u001b[0m)          \u001b[31m \u001b[0m\n",
            "\u001b[31m \u001b[0m   \u001b[2m 9 \u001b[0mtokenizer = pickle.load(\u001b[96mopen\u001b[0m(\u001b[33m'\u001b[0m\u001b[33mtokenizer.pkl\u001b[0m\u001b[33m'\u001b[0m, \u001b[33m'\u001b[0m\u001b[33mrb\u001b[0m\u001b[33m'\u001b[0m))                            \u001b[31m \u001b[0m\n",
            "\u001b[31m \u001b[0m   \u001b[2m10 \u001b[0m                                                                                \u001b[31m \u001b[0m\n",
            "\u001b[31m \u001b[0m                                                                                      \u001b[31m \u001b[0m\n",
            "\u001b[31m \u001b[0m \u001b[2;33m/usr/local/lib/python3.11/dist-packages/keras/src/saving/\u001b[0m\u001b[1;33msaving_api.py\u001b[0m:\u001b[94m196\u001b[0m in        \u001b[31m \u001b[0m\n",
            "\u001b[31m \u001b[0m \u001b[92mload_model\u001b[0m                                                                           \u001b[31m \u001b[0m\n",
            "\u001b[31m \u001b[0m                                                                                      \u001b[31m \u001b[0m\n",
            "\u001b[31m \u001b[0m   \u001b[2m193 \u001b[0m\u001b[2m│   │   │   \u001b[0msafe_mode=safe_mode,                                               \u001b[31m \u001b[0m\n",
            "\u001b[31m \u001b[0m   \u001b[2m194 \u001b[0m\u001b[2m│   │   \u001b[0m)                                                                      \u001b[31m \u001b[0m\n",
            "\u001b[31m \u001b[0m   \u001b[2m195 \u001b[0m\u001b[2m│   \u001b[0m\u001b[94mif\u001b[0m \u001b[96mstr\u001b[0m(filepath).endswith((\u001b[33m\"\u001b[0m\u001b[33m.h5\u001b[0m\u001b[33m\"\u001b[0m, \u001b[33m\"\u001b[0m\u001b[33m.hdf5\u001b[0m\u001b[33m\"\u001b[0m)):                               \u001b[31m \u001b[0m\n",
            "\u001b[31m \u001b[0m \u001b[31m❱ \u001b[0m196 \u001b[2m│   │   \u001b[0m\u001b[94mreturn\u001b[0m \u001b[1;4mlegacy_h5_format.load_model_from_hdf5(\u001b[0m                          \u001b[31m \u001b[0m\n",
            "\u001b[31m \u001b[0m   \u001b[2m197 \u001b[0m\u001b[1;2;4m│   │   │   \u001b[0m\u001b[1;4mfilepath, custom_objects=custom_objects, \u001b[0m\u001b[1;4;96mcompile\u001b[0m\u001b[1;4m=\u001b[0m\u001b[1;4;96mcompile\u001b[0m           \u001b[31m \u001b[0m\n",
            "\u001b[31m \u001b[0m   \u001b[2m198 \u001b[0m\u001b[1;2;4m│   │   \u001b[0m\u001b[1;4m)\u001b[0m                                                                      \u001b[31m \u001b[0m\n",
            "\u001b[31m \u001b[0m   \u001b[2m199 \u001b[0m\u001b[2m│   \u001b[0m\u001b[94melif\u001b[0m \u001b[96mstr\u001b[0m(filepath).endswith(\u001b[33m\"\u001b[0m\u001b[33m.keras\u001b[0m\u001b[33m\"\u001b[0m):                                     \u001b[31m \u001b[0m\n",
            "\u001b[31m \u001b[0m                                                                                      \u001b[31m \u001b[0m\n",
            "\u001b[31m \u001b[0m \u001b[2;33m/usr/local/lib/python3.11/dist-packages/keras/src/legacy/saving/\u001b[0m\u001b[1;33mlegacy_h5_format.py\u001b[0m: \u001b[31m \u001b[0m\n",
            "\u001b[31m \u001b[0m \u001b[94m133\u001b[0m in \u001b[92mload_model_from_hdf5\u001b[0m                                                          \u001b[31m \u001b[0m\n",
            "\u001b[31m \u001b[0m                                                                                      \u001b[31m \u001b[0m\n",
            "\u001b[31m \u001b[0m   \u001b[2m130 \u001b[0m\u001b[2m│   │   \u001b[0mmodel_config = json_utils.decode(model_config)                         \u001b[31m \u001b[0m\n",
            "\u001b[31m \u001b[0m   \u001b[2m131 \u001b[0m\u001b[2m│   │   \u001b[0m                                                                       \u001b[31m \u001b[0m\n",
            "\u001b[31m \u001b[0m   \u001b[2m132 \u001b[0m\u001b[2m│   │   \u001b[0m\u001b[94mwith\u001b[0m saving_options.keras_option_scope(use_legacy_config=\u001b[94mTrue\u001b[0m):        \u001b[31m \u001b[0m\n",
            "\u001b[31m \u001b[0m \u001b[31m❱ \u001b[0m133 \u001b[2m│   │   │   \u001b[0mmodel = saving_utils.model_from_config(                            \u001b[31m \u001b[0m\n",
            "\u001b[31m \u001b[0m   \u001b[2m134 \u001b[0m\u001b[2m│   │   │   │   \u001b[0mmodel_config, custom_objects=custom_objects                    \u001b[31m \u001b[0m\n",
            "\u001b[31m \u001b[0m   \u001b[2m135 \u001b[0m\u001b[2m│   │   │   \u001b[0m)                                                                  \u001b[31m \u001b[0m\n",
            "\u001b[31m \u001b[0m   \u001b[2m136 \u001b[0m                                                                               \u001b[31m \u001b[0m\n",
            "\u001b[31m \u001b[0m                                                                                      \u001b[31m \u001b[0m\n",
            "\u001b[31m \u001b[0m \u001b[2;33m/usr/local/lib/python3.11/dist-packages/keras/src/legacy/saving/\u001b[0m\u001b[1;33msaving_utils.py\u001b[0m:\u001b[94m85\u001b[0m   \u001b[31m \u001b[0m\n",
            "\u001b[31m \u001b[0m in \u001b[92mmodel_from_config\u001b[0m                                                                 \u001b[31m \u001b[0m\n",
            "\u001b[31m \u001b[0m                                                                                      \u001b[31m \u001b[0m\n",
            "\u001b[31m \u001b[0m   \u001b[2m 82 \u001b[0m\u001b[2m│   \u001b[0m\u001b[2m# Replace keras refs with keras\u001b[0m                                            \u001b[31m \u001b[0m\n",
            "\u001b[31m \u001b[0m   \u001b[2m 83 \u001b[0m\u001b[2m│   \u001b[0mconfig = _find_replace_nested_dict(config, \u001b[33m\"\u001b[0m\u001b[33mkeras.\u001b[0m\u001b[33m\"\u001b[0m, \u001b[33m\"\u001b[0m\u001b[33mkeras.\u001b[0m\u001b[33m\"\u001b[0m)             \u001b[31m \u001b[0m\n",
            "\u001b[31m \u001b[0m   \u001b[2m 84 \u001b[0m\u001b[2m│   \u001b[0m                                                                           \u001b[31m \u001b[0m\n",
            "\u001b[31m \u001b[0m \u001b[31m❱ \u001b[0m 85 \u001b[2m│   \u001b[0m\u001b[94mreturn\u001b[0m serialization.deserialize_keras_object(                             \u001b[31m \u001b[0m\n",
            "\u001b[31m \u001b[0m   \u001b[2m 86 \u001b[0m\u001b[2m│   │   \u001b[0mconfig,                                                                \u001b[31m \u001b[0m\n",
            "\u001b[31m \u001b[0m   \u001b[2m 87 \u001b[0m\u001b[2m│   │   \u001b[0mmodule_objects=MODULE_OBJECTS.ALL_OBJECTS,                             \u001b[31m \u001b[0m\n",
            "\u001b[31m \u001b[0m   \u001b[2m 88 \u001b[0m\u001b[2m│   │   \u001b[0mcustom_objects=custom_objects,                                         \u001b[31m \u001b[0m\n",
            "\u001b[31m \u001b[0m                                                                                      \u001b[31m \u001b[0m\n",
            "\u001b[31m \u001b[0m \u001b[2;33m/usr/local/lib/python3.11/dist-packages/keras/src/legacy/saving/\u001b[0m\u001b[1;33mserialization.py\u001b[0m:\u001b[94m495\u001b[0m \u001b[31m \u001b[0m\n",
            "\u001b[31m \u001b[0m in \u001b[92mdeserialize_keras_object\u001b[0m                                                          \u001b[31m \u001b[0m\n",
            "\u001b[31m \u001b[0m                                                                                      \u001b[31m \u001b[0m\n",
            "\u001b[31m \u001b[0m   \u001b[2m492 \u001b[0m\u001b[2m│   │   │   \u001b[0m)                                                                  \u001b[31m \u001b[0m\n",
            "\u001b[31m \u001b[0m   \u001b[2m493 \u001b[0m\u001b[2m│   │   │   \u001b[0m                                                                   \u001b[31m \u001b[0m\n",
            "\u001b[31m \u001b[0m   \u001b[2m494 \u001b[0m\u001b[2m│   │   │   \u001b[0m\u001b[94mif\u001b[0m \u001b[33m\"\u001b[0m\u001b[33mcustom_objects\u001b[0m\u001b[33m\"\u001b[0m \u001b[95min\u001b[0m arg_spec.args:                              \u001b[31m \u001b[0m\n",
            "\u001b[31m \u001b[0m \u001b[31m❱ \u001b[0m495 \u001b[2m│   │   │   │   \u001b[0mdeserialized_obj = \u001b[96mcls\u001b[0m.from_config(                            \u001b[31m \u001b[0m\n",
            "\u001b[31m \u001b[0m   \u001b[2m496 \u001b[0m\u001b[2m│   │   │   │   │   \u001b[0mcls_config,                                                \u001b[31m \u001b[0m\n",
            "\u001b[31m \u001b[0m   \u001b[2m497 \u001b[0m\u001b[2m│   │   │   │   │   \u001b[0mcustom_objects={                                           \u001b[31m \u001b[0m\n",
            "\u001b[31m \u001b[0m   \u001b[2m498 \u001b[0m\u001b[2m│   │   │   │   │   │   \u001b[0m**object_registration.GLOBAL_CUSTOM_OBJECTS,           \u001b[31m \u001b[0m\n",
            "\u001b[31m \u001b[0m                                                                                      \u001b[31m \u001b[0m\n",
            "\u001b[31m \u001b[0m \u001b[2;33m/usr/local/lib/python3.11/dist-packages/keras/src/models/\u001b[0m\u001b[1;33msequential.py\u001b[0m:\u001b[94m350\u001b[0m in        \u001b[31m \u001b[0m\n",
            "\u001b[31m \u001b[0m \u001b[92mfrom_config\u001b[0m                                                                          \u001b[31m \u001b[0m\n",
            "\u001b[31m \u001b[0m                                                                                      \u001b[31m \u001b[0m\n",
            "\u001b[31m \u001b[0m   \u001b[2m347 \u001b[0m\u001b[2m│   │   │   \u001b[0m\u001b[94mif\u001b[0m \u001b[33m\"\u001b[0m\u001b[33mmodule\u001b[0m\u001b[33m\"\u001b[0m \u001b[95mnot\u001b[0m \u001b[95min\u001b[0m layer_config:                                   \u001b[31m \u001b[0m\n",
            "\u001b[31m \u001b[0m   \u001b[2m348 \u001b[0m\u001b[2m│   │   │   │   \u001b[0m\u001b[2m# Legacy format deserialization (no \"module\" key)\u001b[0m              \u001b[31m \u001b[0m\n",
            "\u001b[31m \u001b[0m   \u001b[2m349 \u001b[0m\u001b[2m│   │   │   │   \u001b[0m\u001b[2m# used for H5 and SavedModel formats\u001b[0m                           \u001b[31m \u001b[0m\n",
            "\u001b[31m \u001b[0m \u001b[31m❱ \u001b[0m350 \u001b[2m│   │   │   │   \u001b[0mlayer = \u001b[1;4msaving_utils.model_from_config(\u001b[0m                        \u001b[31m \u001b[0m\n",
            "\u001b[31m \u001b[0m   \u001b[2m351 \u001b[0m\u001b[1;2;4m│   │   │   │   │   \u001b[0m\u001b[1;4mlayer_config,\u001b[0m                                              \u001b[31m \u001b[0m\n",
            "\u001b[31m \u001b[0m   \u001b[2m352 \u001b[0m\u001b[1;2;4m│   │   │   │   │   \u001b[0m\u001b[1;4mcustom_objects=custom_objects,\u001b[0m                             \u001b[31m \u001b[0m\n",
            "\u001b[31m \u001b[0m   \u001b[2m353 \u001b[0m\u001b[1;2;4m│   │   │   │   \u001b[0m\u001b[1;4m)\u001b[0m                                                              \u001b[31m \u001b[0m\n",
            "\u001b[31m \u001b[0m                                                                                      \u001b[31m \u001b[0m\n",
            "\u001b[31m \u001b[0m \u001b[2;33m/usr/local/lib/python3.11/dist-packages/keras/src/legacy/saving/\u001b[0m\u001b[1;33msaving_utils.py\u001b[0m:\u001b[94m85\u001b[0m   \u001b[31m \u001b[0m\n",
            "\u001b[31m \u001b[0m in \u001b[92mmodel_from_config\u001b[0m                                                                 \u001b[31m \u001b[0m\n",
            "\u001b[31m \u001b[0m                                                                                      \u001b[31m \u001b[0m\n",
            "\u001b[31m \u001b[0m   \u001b[2m 82 \u001b[0m\u001b[2m│   \u001b[0m\u001b[2m# Replace keras refs with keras\u001b[0m                                            \u001b[31m \u001b[0m\n",
            "\u001b[31m \u001b[0m   \u001b[2m 83 \u001b[0m\u001b[2m│   \u001b[0mconfig = _find_replace_nested_dict(config, \u001b[33m\"\u001b[0m\u001b[33mkeras.\u001b[0m\u001b[33m\"\u001b[0m, \u001b[33m\"\u001b[0m\u001b[33mkeras.\u001b[0m\u001b[33m\"\u001b[0m)             \u001b[31m \u001b[0m\n",
            "\u001b[31m \u001b[0m   \u001b[2m 84 \u001b[0m\u001b[2m│   \u001b[0m                                                                           \u001b[31m \u001b[0m\n",
            "\u001b[31m \u001b[0m \u001b[31m❱ \u001b[0m 85 \u001b[2m│   \u001b[0m\u001b[94mreturn\u001b[0m serialization.deserialize_keras_object(                             \u001b[31m \u001b[0m\n",
            "\u001b[31m \u001b[0m   \u001b[2m 86 \u001b[0m\u001b[2m│   │   \u001b[0mconfig,                                                                \u001b[31m \u001b[0m\n",
            "\u001b[31m \u001b[0m   \u001b[2m 87 \u001b[0m\u001b[2m│   │   \u001b[0mmodule_objects=MODULE_OBJECTS.ALL_OBJECTS,                             \u001b[31m \u001b[0m\n",
            "\u001b[31m \u001b[0m   \u001b[2m 88 \u001b[0m\u001b[2m│   │   \u001b[0mcustom_objects=custom_objects,                                         \u001b[31m \u001b[0m\n",
            "\u001b[31m \u001b[0m                                                                                      \u001b[31m \u001b[0m\n",
            "\u001b[31m \u001b[0m \u001b[2;33m/usr/local/lib/python3.11/dist-packages/keras/src/legacy/saving/\u001b[0m\u001b[1;33mserialization.py\u001b[0m:\u001b[94m504\u001b[0m \u001b[31m \u001b[0m\n",
            "\u001b[31m \u001b[0m in \u001b[92mdeserialize_keras_object\u001b[0m                                                          \u001b[31m \u001b[0m\n",
            "\u001b[31m \u001b[0m                                                                                      \u001b[31m \u001b[0m\n",
            "\u001b[31m \u001b[0m   \u001b[2m501 \u001b[0m\u001b[2m│   │   │   │   \u001b[0m)                                                              \u001b[31m \u001b[0m\n",
            "\u001b[31m \u001b[0m   \u001b[2m502 \u001b[0m\u001b[2m│   │   │   \u001b[0m\u001b[94melse\u001b[0m:                                                              \u001b[31m \u001b[0m\n",
            "\u001b[31m \u001b[0m   \u001b[2m503 \u001b[0m\u001b[2m│   │   │   │   \u001b[0m\u001b[94mwith\u001b[0m object_registration.CustomObjectScope(custom_objects):    \u001b[31m \u001b[0m\n",
            "\u001b[31m \u001b[0m \u001b[31m❱ \u001b[0m504 \u001b[2m│   │   │   │   │   \u001b[0mdeserialized_obj = \u001b[1;4;96mcls\u001b[0m\u001b[1;4m.from_config(cls_config)\u001b[0m             \u001b[31m \u001b[0m\n",
            "\u001b[31m \u001b[0m   \u001b[2m505 \u001b[0m\u001b[2m│   │   \u001b[0m\u001b[94melse\u001b[0m:                                                                  \u001b[31m \u001b[0m\n",
            "\u001b[31m \u001b[0m   \u001b[2m506 \u001b[0m\u001b[2m│   │   │   \u001b[0m\u001b[2m# Then `cls` may be a function returning a class.\u001b[0m                  \u001b[31m \u001b[0m\n",
            "\u001b[31m \u001b[0m   \u001b[2m507 \u001b[0m\u001b[2m│   │   │   \u001b[0m\u001b[2m# in this case by convention `config` holds\u001b[0m                        \u001b[31m \u001b[0m\n",
            "\u001b[31m \u001b[0m                                                                                      \u001b[31m \u001b[0m\n",
            "\u001b[31m \u001b[0m \u001b[2;33m/usr/local/lib/python3.11/dist-packages/keras/src/layers/rnn/\u001b[0m\u001b[1;33mgru.py\u001b[0m:\u001b[94m711\u001b[0m in           \u001b[31m \u001b[0m\n",
            "\u001b[31m \u001b[0m \u001b[92mfrom_config\u001b[0m                                                                          \u001b[31m \u001b[0m\n",
            "\u001b[31m \u001b[0m                                                                                      \u001b[31m \u001b[0m\n",
            "\u001b[31m \u001b[0m   \u001b[2m708 \u001b[0m\u001b[2m│   \u001b[0m                                                                           \u001b[31m \u001b[0m\n",
            "\u001b[31m \u001b[0m   \u001b[2m709 \u001b[0m\u001b[2m│   \u001b[0m\u001b[1;95m@classmethod\u001b[0m                                                               \u001b[31m \u001b[0m\n",
            "\u001b[31m \u001b[0m   \u001b[2m710 \u001b[0m\u001b[2m│   \u001b[0m\u001b[94mdef\u001b[0m\u001b[90m \u001b[0m\u001b[92mfrom_config\u001b[0m(\u001b[96mcls\u001b[0m, config):                                              \u001b[31m \u001b[0m\n",
            "\u001b[31m \u001b[0m \u001b[31m❱ \u001b[0m711 \u001b[2m│   │   \u001b[0m\u001b[94mreturn\u001b[0m \u001b[1;4;96mcls\u001b[0m\u001b[1;4m(**config)\u001b[0m                                                   \u001b[31m \u001b[0m\n",
            "\u001b[31m \u001b[0m   \u001b[2m712 \u001b[0m                                                                               \u001b[31m \u001b[0m\n",
            "\u001b[31m \u001b[0m                                                                                      \u001b[31m \u001b[0m\n",
            "\u001b[31m \u001b[0m \u001b[2;33m/usr/local/lib/python3.11/dist-packages/keras/src/layers/rnn/\u001b[0m\u001b[1;33mgru.py\u001b[0m:\u001b[94m494\u001b[0m in \u001b[92m__init__\u001b[0m  \u001b[31m \u001b[0m\n",
            "\u001b[31m \u001b[0m                                                                                      \u001b[31m \u001b[0m\n",
            "\u001b[31m \u001b[0m   \u001b[2m491 \u001b[0m\u001b[2m│   │   \u001b[0muse_cudnn=\u001b[33m\"\u001b[0m\u001b[33mauto\u001b[0m\u001b[33m\"\u001b[0m,                                                      \u001b[31m \u001b[0m\n",
            "\u001b[31m \u001b[0m   \u001b[2m492 \u001b[0m\u001b[2m│   │   \u001b[0m**kwargs,                                                              \u001b[31m \u001b[0m\n",
            "\u001b[31m \u001b[0m   \u001b[2m493 \u001b[0m\u001b[2m│   \u001b[0m):                                                                         \u001b[31m \u001b[0m\n",
            "\u001b[31m \u001b[0m \u001b[31m❱ \u001b[0m494 \u001b[2m│   │   \u001b[0mcell = GRUCell(                                                        \u001b[31m \u001b[0m\n",
            "\u001b[31m \u001b[0m   \u001b[2m495 \u001b[0m\u001b[2m│   │   │   \u001b[0munits,                                                             \u001b[31m \u001b[0m\n",
            "\u001b[31m \u001b[0m   \u001b[2m496 \u001b[0m\u001b[2m│   │   │   \u001b[0mactivation=activation,                                             \u001b[31m \u001b[0m\n",
            "\u001b[31m \u001b[0m   \u001b[2m497 \u001b[0m\u001b[2m│   │   │   \u001b[0mrecurrent_activation=recurrent_activation,                         \u001b[31m \u001b[0m\n",
            "\u001b[31m \u001b[0m                                                                                      \u001b[31m \u001b[0m\n",
            "\u001b[31m \u001b[0m \u001b[2;33m/usr/local/lib/python3.11/dist-packages/keras/src/layers/rnn/\u001b[0m\u001b[1;33mgru.py\u001b[0m:\u001b[94m139\u001b[0m in \u001b[92m__init__\u001b[0m  \u001b[31m \u001b[0m\n",
            "\u001b[31m \u001b[0m                                                                                      \u001b[31m \u001b[0m\n",
            "\u001b[31m \u001b[0m   \u001b[2m136 \u001b[0m\u001b[2m│   │   \u001b[0m\u001b[94mif\u001b[0m \u001b[96mself\u001b[0m.implementation == \u001b[94m1\u001b[0m:                                           \u001b[31m \u001b[0m\n",
            "\u001b[31m \u001b[0m   \u001b[2m137 \u001b[0m\u001b[2m│   │   │   \u001b[0m\u001b[96mself\u001b[0m.dropout_mask_count = \u001b[94m3\u001b[0m                                        \u001b[31m \u001b[0m\n",
            "\u001b[31m \u001b[0m   \u001b[2m138 \u001b[0m\u001b[2m│   │   \u001b[0m\u001b[96mself\u001b[0m.seed = seed                                                       \u001b[31m \u001b[0m\n",
            "\u001b[31m \u001b[0m \u001b[31m❱ \u001b[0m139 \u001b[2m│   │   \u001b[0m\u001b[96mself\u001b[0m.seed_generator = \u001b[1;4mbackend.random.SeedGenerator(seed=seed)\u001b[0m          \u001b[31m \u001b[0m\n",
            "\u001b[31m \u001b[0m   \u001b[2m140 \u001b[0m\u001b[2m│   │   \u001b[0m                                                                       \u001b[31m \u001b[0m\n",
            "\u001b[31m \u001b[0m   \u001b[2m141 \u001b[0m\u001b[2m│   │   \u001b[0m\u001b[96mself\u001b[0m.reset_after = reset_after                                         \u001b[31m \u001b[0m\n",
            "\u001b[31m \u001b[0m   \u001b[2m142 \u001b[0m\u001b[2m│   │   \u001b[0m\u001b[96mself\u001b[0m.state_size = \u001b[96mself\u001b[0m.units                                           \u001b[31m \u001b[0m\n",
            "\u001b[31m \u001b[0m                                                                                      \u001b[31m \u001b[0m\n",
            "\u001b[31m \u001b[0m \u001b[2;33m/usr/local/lib/python3.11/dist-packages/keras/src/random/\u001b[0m\u001b[1;33mseed_generator.py\u001b[0m:\u001b[94m86\u001b[0m in     \u001b[31m \u001b[0m\n",
            "\u001b[31m \u001b[0m \u001b[92m__init__\u001b[0m                                                                             \u001b[31m \u001b[0m\n",
            "\u001b[31m \u001b[0m                                                                                      \u001b[31m \u001b[0m\n",
            "\u001b[31m \u001b[0m   \u001b[2m 83 \u001b[0m\u001b[2m│   │   │   \u001b[0mdtype = kwargs.get(\u001b[33m\"\u001b[0m\u001b[33mdtype\u001b[0m\u001b[33m\"\u001b[0m, \u001b[94mNone\u001b[0m)                                  \u001b[31m \u001b[0m\n",
            "\u001b[31m \u001b[0m   \u001b[2m 84 \u001b[0m\u001b[2m│   │   │   \u001b[0m\u001b[94mreturn\u001b[0m \u001b[96mself\u001b[0m.backend.convert_to_tensor([seed, \u001b[94m0\u001b[0m], dtype=dtype)      \u001b[31m \u001b[0m\n",
            "\u001b[31m \u001b[0m   \u001b[2m 85 \u001b[0m\u001b[2m│   │   \u001b[0m                                                                       \u001b[31m \u001b[0m\n",
            "\u001b[31m \u001b[0m \u001b[31m❱ \u001b[0m 86 \u001b[2m│   │   \u001b[0m\u001b[94mwith\u001b[0m \u001b[96mself\u001b[0m.backend.name_scope(\u001b[96mself\u001b[0m.name, caller=\u001b[96mself\u001b[0m):                  \u001b[31m \u001b[0m\n",
            "\u001b[31m \u001b[0m   \u001b[2m 87 \u001b[0m\u001b[2m│   │   │   \u001b[0m\u001b[96mself\u001b[0m.state = \u001b[96mself\u001b[0m.backend.Variable(                                \u001b[31m \u001b[0m\n",
            "\u001b[31m \u001b[0m   \u001b[2m 88 \u001b[0m\u001b[2m│   │   │   │   \u001b[0mseed_initializer,                                              \u001b[31m \u001b[0m\n",
            "\u001b[31m \u001b[0m   \u001b[2m 89 \u001b[0m\u001b[2m│   │   │   │   \u001b[0mshape=(\u001b[94m2\u001b[0m,),                                                    \u001b[31m \u001b[0m\n",
            "\u001b[31m \u001b[0m                                                                                      \u001b[31m \u001b[0m\n",
            "\u001b[31m \u001b[0m \u001b[2;33m/usr/local/lib/python3.11/dist-packages/keras/src/backend/tensorflow/\u001b[0m\u001b[1;33mcore.py\u001b[0m:\u001b[94m664\u001b[0m in  \u001b[31m \u001b[0m\n",
            "\u001b[31m \u001b[0m \u001b[92m__exit__\u001b[0m                                                                             \u001b[31m \u001b[0m\n",
            "\u001b[31m \u001b[0m                                                                                      \u001b[31m \u001b[0m\n",
            "\u001b[31m \u001b[0m   \u001b[2m661 \u001b[0m\u001b[2m│   │   \u001b[0m\u001b[94mreturn\u001b[0m \u001b[96mself\u001b[0m                                                            \u001b[31m \u001b[0m\n",
            "\u001b[31m \u001b[0m   \u001b[2m662 \u001b[0m\u001b[2m│   \u001b[0m                                                                           \u001b[31m \u001b[0m\n",
            "\u001b[31m \u001b[0m   \u001b[2m663 \u001b[0m\u001b[2m│   \u001b[0m\u001b[94mdef\u001b[0m\u001b[90m \u001b[0m\u001b[92m__exit__\u001b[0m(\u001b[96mself\u001b[0m, *args, **kwargs):                                       \u001b[31m \u001b[0m\n",
            "\u001b[31m \u001b[0m \u001b[31m❱ \u001b[0m664 \u001b[2m│   │   \u001b[0m\u001b[1;4;96msuper\u001b[0m\u001b[1;4m().\u001b[0m\u001b[1;4;92m__exit__\u001b[0m\u001b[1;4m(*args, **kwargs)\u001b[0m                                      \u001b[31m \u001b[0m\n",
            "\u001b[31m \u001b[0m   \u001b[2m665 \u001b[0m\u001b[2m│   │   \u001b[0m\u001b[94mif\u001b[0m \u001b[96mself\u001b[0m._pop_on_exit:                                                  \u001b[31m \u001b[0m\n",
            "\u001b[31m \u001b[0m   \u001b[2m666 \u001b[0m\u001b[2m│   │   │   \u001b[0m\u001b[96mself\u001b[0m._tf_name_scope.\u001b[92m__exit__\u001b[0m(*args, **kwargs)                      \u001b[31m \u001b[0m\n",
            "\u001b[31m \u001b[0m   \u001b[2m667 \u001b[0m                                                                               \u001b[31m \u001b[0m\n",
            "\u001b[31m \u001b[0m                                                                                      \u001b[31m \u001b[0m\n",
            "\u001b[31m \u001b[0m \u001b[2;33m/usr/local/lib/python3.11/dist-packages/keras/src/backend/common/\u001b[0m\u001b[1;33mname_scope.py\u001b[0m:\u001b[94m61\u001b[0m in \u001b[31m \u001b[0m\n",
            "\u001b[31m \u001b[0m \u001b[92m__exit__\u001b[0m                                                                             \u001b[31m \u001b[0m\n",
            "\u001b[31m \u001b[0m                                                                                      \u001b[31m \u001b[0m\n",
            "\u001b[31m \u001b[0m   \u001b[2m58 \u001b[0m\u001b[2m│   │   │   \u001b[0mname_scope_stack = global_state.get_global_attribute(               \u001b[31m \u001b[0m\n",
            "\u001b[31m \u001b[0m   \u001b[2m59 \u001b[0m\u001b[2m│   │   │   │   \u001b[0m\u001b[33m\"\u001b[0m\u001b[33mname_scope_stack\u001b[0m\u001b[33m\"\u001b[0m                                              \u001b[31m \u001b[0m\n",
            "\u001b[31m \u001b[0m   \u001b[2m60 \u001b[0m\u001b[2m│   │   │   \u001b[0m)                                                                   \u001b[31m \u001b[0m\n",
            "\u001b[31m \u001b[0m \u001b[31m❱ \u001b[0m61 \u001b[2m│   │   │   \u001b[0m\u001b[1;4mname_scope_stack.pop\u001b[0m()                                              \u001b[31m \u001b[0m\n",
            "\u001b[31m \u001b[0m   \u001b[2m62 \u001b[0m                                                                                \u001b[31m \u001b[0m\n",
            "\u001b[31m \u001b[0m   \u001b[2m63 \u001b[0m                                                                                \u001b[31m \u001b[0m\n",
            "\u001b[31m \u001b[0m   \u001b[2m64 \u001b[0m\u001b[94mdef\u001b[0m\u001b[90m \u001b[0m\u001b[92mcurrent_path\u001b[0m():                                                             \u001b[31m \u001b[0m\n",
            "\u001b[31m────────────────────────────────────────────────────────────────────────────────────────\u001b[0m\n",
            "\u001b[1;91mAttributeError: \u001b[0m\u001b[32m'NoneType'\u001b[0m object has no attribute \u001b[32m'pop'\u001b[0m\n",
            "WARNING:absl:Compiled the loaded model, but the compiled metrics have yet to be built. `model.compile_metrics` will be empty until you train or evaluate the model.\n",
            "WARNING:absl:Compiled the loaded model, but the compiled metrics have yet to be built. `model.compile_metrics` will be empty until you train or evaluate the model.\n",
            "WARNING:absl:Compiled the loaded model, but the compiled metrics have yet to be built. `model.compile_metrics` will be empty until you train or evaluate the model.\n",
            "WARNING:absl:Compiled the loaded model, but the compiled metrics have yet to be built. `model.compile_metrics` will be empty until you train or evaluate the model.\n",
            "\u001b[1m1/1\u001b[0m \u001b[32m━━━━━━━━━━━━━━━━━━━━\u001b[0m\u001b[37m\u001b[0m \u001b[1m0s\u001b[0m 243ms/step\n",
            "WARNING:absl:Compiled the loaded model, but the compiled metrics have yet to be built. `model.compile_metrics` will be empty until you train or evaluate the model.\n",
            "WARNING:absl:Compiled the loaded model, but the compiled metrics have yet to be built. `model.compile_metrics` will be empty until you train or evaluate the model.\n",
            "\u001b[1m1/1\u001b[0m \u001b[32m━━━━━━━━━━━━━━━━━━━━\u001b[0m\u001b[37m\u001b[0m \u001b[1m0s\u001b[0m 354ms/step\n",
            "WARNING:absl:Compiled the loaded model, but the compiled metrics have yet to be built. `model.compile_metrics` will be empty until you train or evaluate the model.\n",
            "WARNING:absl:Compiled the loaded model, but the compiled metrics have yet to be built. `model.compile_metrics` will be empty until you train or evaluate the model.\n",
            "WARNING:absl:Compiled the loaded model, but the compiled metrics have yet to be built. `model.compile_metrics` will be empty until you train or evaluate the model.\n",
            "\u001b[1m1/1\u001b[0m \u001b[32m━━━━━━━━━━━━━━━━━━━━\u001b[0m\u001b[37m\u001b[0m \u001b[1m0s\u001b[0m 229ms/step\n",
            "WARNING:absl:Compiled the loaded model, but the compiled metrics have yet to be built. `model.compile_metrics` will be empty until you train or evaluate the model.\n",
            "\u001b[31m──\u001b[0m\u001b[31m────────────────────────\u001b[0m\u001b[31m \u001b[0m\u001b[1;31mTraceback \u001b[0m\u001b[1;2;31m(most recent call last)\u001b[0m\u001b[31m \u001b[0m\u001b[31m─────────────────────────\u001b[0m\u001b[31m──\u001b[0m\n",
            "\u001b[31m \u001b[0m \u001b[2;33m/usr/local/lib/python3.11/dist-packages/keras/src/layers/\u001b[0m\u001b[1;33mlayer.py\u001b[0m:\u001b[94m228\u001b[0m in             \u001b[31m \u001b[0m\n",
            "\u001b[31m \u001b[0m \u001b[92mbuild_wrapper\u001b[0m                                                                        \u001b[31m \u001b[0m\n",
            "\u001b[31m \u001b[0m                                                                                      \u001b[31m \u001b[0m\n",
            "\u001b[31m \u001b[0m   \u001b[2m 225 \u001b[0m\u001b[2m│   │   \u001b[0m\u001b[94mdef\u001b[0m\u001b[90m \u001b[0m\u001b[92mbuild_wrapper\u001b[0m(*args, **kwargs):                                   \u001b[31m \u001b[0m\n",
            "\u001b[31m \u001b[0m   \u001b[2m 226 \u001b[0m\u001b[2m│   │   │   \u001b[0m\u001b[1;4;94mwith\u001b[0m\u001b[1;4m obj._open_name_scope():\u001b[0m                                      \u001b[31m \u001b[0m\n",
            "\u001b[31m \u001b[0m   \u001b[2m 227 \u001b[0m\u001b[1;2;4m│   │   │   │   \u001b[0m\u001b[1;4mobj._path = current_path()\u001b[0m                                    \u001b[31m \u001b[0m\n",
            "\u001b[31m \u001b[0m \u001b[31m❱ \u001b[0m 228 \u001b[1;2;4m│   │   │   │   \u001b[0m\u001b[1;4moriginal_build_method(*args, **kwargs)\u001b[0m                        \u001b[31m \u001b[0m\n",
            "\u001b[31m \u001b[0m   \u001b[2m 229 \u001b[0m\u001b[2m│   │   │   \u001b[0m\u001b[2m# Record build config.\u001b[0m                                            \u001b[31m \u001b[0m\n",
            "\u001b[31m \u001b[0m   \u001b[2m 230 \u001b[0m\u001b[2m│   │   │   \u001b[0msignature = inspect.signature(original_build_method)              \u001b[31m \u001b[0m\n",
            "\u001b[31m \u001b[0m   \u001b[2m 231 \u001b[0m\u001b[2m│   │   │   \u001b[0mobj._build_shapes_dict = signature.bind(*args, **kwargs).argument \u001b[31m \u001b[0m\n",
            "\u001b[31m \u001b[0m                                                                                      \u001b[31m \u001b[0m\n",
            "\u001b[31m \u001b[0m \u001b[2;33m/usr/local/lib/python3.11/dist-packages/keras/src/models/\u001b[0m\u001b[1;33msequential.py\u001b[0m:\u001b[94m187\u001b[0m in \u001b[92mbuild\u001b[0m  \u001b[31m \u001b[0m\n",
            "\u001b[31m \u001b[0m                                                                                      \u001b[31m \u001b[0m\n",
            "\u001b[31m \u001b[0m   \u001b[2m184 \u001b[0m\u001b[2m│   │   \u001b[0mx = inputs                                                             \u001b[31m \u001b[0m\n",
            "\u001b[31m \u001b[0m   \u001b[2m185 \u001b[0m\u001b[2m│   │   \u001b[0m\u001b[94mfor\u001b[0m layer \u001b[95min\u001b[0m \u001b[96mself\u001b[0m._layers[\u001b[94m1\u001b[0m:]:                                         \u001b[31m \u001b[0m\n",
            "\u001b[31m \u001b[0m   \u001b[2m186 \u001b[0m\u001b[2m│   │   │   \u001b[0m\u001b[94mtry\u001b[0m:                                                               \u001b[31m \u001b[0m\n",
            "\u001b[31m \u001b[0m \u001b[31m❱ \u001b[0m187 \u001b[2m│   │   │   │   \u001b[0mx = layer(x)                                                   \u001b[31m \u001b[0m\n",
            "\u001b[31m \u001b[0m   \u001b[2m188 \u001b[0m\u001b[2m│   │   │   \u001b[0m\u001b[94mexcept\u001b[0m \u001b[96mNotImplementedError\u001b[0m:                                        \u001b[31m \u001b[0m\n",
            "\u001b[31m \u001b[0m   \u001b[2m189 \u001b[0m\u001b[2m│   │   │   │   \u001b[0m\u001b[2m# Can happen if shape inference is not implemented.\u001b[0m            \u001b[31m \u001b[0m\n",
            "\u001b[31m \u001b[0m   \u001b[2m190 \u001b[0m\u001b[2m│   │   │   │   \u001b[0m\u001b[2m# TODO: consider reverting inbound nodes on layers processed.\u001b[0m  \u001b[31m \u001b[0m\n",
            "\u001b[31m \u001b[0m                                                                                      \u001b[31m \u001b[0m\n",
            "\u001b[31m \u001b[0m \u001b[2;33m/usr/local/lib/python3.11/dist-packages/keras/src/utils/\u001b[0m\u001b[1;33mtraceback_utils.py\u001b[0m:\u001b[94m122\u001b[0m in    \u001b[31m \u001b[0m\n",
            "\u001b[31m \u001b[0m \u001b[92merror_handler\u001b[0m                                                                        \u001b[31m \u001b[0m\n",
            "\u001b[31m \u001b[0m                                                                                      \u001b[31m \u001b[0m\n",
            "\u001b[31m \u001b[0m   \u001b[2m119 \u001b[0m\u001b[2m│   │   │   \u001b[0mfiltered_tb = _process_traceback_frames(e.__traceback__)           \u001b[31m \u001b[0m\n",
            "\u001b[31m \u001b[0m   \u001b[2m120 \u001b[0m\u001b[2m│   │   │   \u001b[0m\u001b[2m# To get the full stack trace, call:\u001b[0m                               \u001b[31m \u001b[0m\n",
            "\u001b[31m \u001b[0m   \u001b[2m121 \u001b[0m\u001b[2m│   │   │   \u001b[0m\u001b[2m# `keras.config.disable_traceback_filtering()`\u001b[0m                     \u001b[31m \u001b[0m\n",
            "\u001b[31m \u001b[0m \u001b[31m❱ \u001b[0m122 \u001b[2m│   │   │   \u001b[0m\u001b[94mraise\u001b[0m e.with_traceback(filtered_tb) \u001b[94mfrom\u001b[0m\u001b[90m \u001b[0m\u001b[94mNone\u001b[0m                      \u001b[31m \u001b[0m\n",
            "\u001b[31m \u001b[0m   \u001b[2m123 \u001b[0m\u001b[2m│   │   \u001b[0m\u001b[94mfinally\u001b[0m:                                                               \u001b[31m \u001b[0m\n",
            "\u001b[31m \u001b[0m   \u001b[2m124 \u001b[0m\u001b[2m│   │   │   \u001b[0m\u001b[1;4;94mdel\u001b[0m\u001b[1;4m filtered_tb\u001b[0m                                                    \u001b[31m \u001b[0m\n",
            "\u001b[31m \u001b[0m   \u001b[2m125 \u001b[0m                                                                               \u001b[31m \u001b[0m\n",
            "\u001b[31m \u001b[0m                                                                                      \u001b[31m \u001b[0m\n",
            "\u001b[31m \u001b[0m \u001b[2;33m/usr/local/lib/python3.11/dist-packages/keras/src/backend/common/\u001b[0m\u001b[1;33mname_scope.py\u001b[0m:\u001b[94m61\u001b[0m in \u001b[31m \u001b[0m\n",
            "\u001b[31m \u001b[0m \u001b[92m__exit__\u001b[0m                                                                             \u001b[31m \u001b[0m\n",
            "\u001b[31m \u001b[0m                                                                                      \u001b[31m \u001b[0m\n",
            "\u001b[31m \u001b[0m   \u001b[2m58 \u001b[0m\u001b[2m│   │   │   \u001b[0mname_scope_stack = global_state.get_global_attribute(               \u001b[31m \u001b[0m\n",
            "\u001b[31m \u001b[0m   \u001b[2m59 \u001b[0m\u001b[2m│   │   │   │   \u001b[0m\u001b[33m\"\u001b[0m\u001b[33mname_scope_stack\u001b[0m\u001b[33m\"\u001b[0m                                              \u001b[31m \u001b[0m\n",
            "\u001b[31m \u001b[0m   \u001b[2m60 \u001b[0m\u001b[2m│   │   │   \u001b[0m)                                                                   \u001b[31m \u001b[0m\n",
            "\u001b[31m \u001b[0m \u001b[31m❱ \u001b[0m61 \u001b[2m│   │   │   \u001b[0m\u001b[1;4mname_scope_stack.pop()\u001b[0m                                              \u001b[31m \u001b[0m\n",
            "\u001b[31m \u001b[0m   \u001b[2m62 \u001b[0m                                                                                \u001b[31m \u001b[0m\n",
            "\u001b[31m \u001b[0m   \u001b[2m63 \u001b[0m                                                                                \u001b[31m \u001b[0m\n",
            "\u001b[31m \u001b[0m   \u001b[2m64 \u001b[0m\u001b[94mdef\u001b[0m\u001b[90m \u001b[0m\u001b[92mcurrent_path\u001b[0m():                                                             \u001b[31m \u001b[0m\n",
            "\u001b[31m────────────────────────────────────────────────────────────────────────────────────────\u001b[0m\n",
            "\u001b[1;91mIndexError: \u001b[0mpop from empty list\n",
            "\n",
            "\u001b[3mDuring handling of the above exception, another exception occurred:\u001b[0m\n",
            "\n",
            "\u001b[31m──\u001b[0m\u001b[31m────────────────────────\u001b[0m\u001b[31m \u001b[0m\u001b[1;31mTraceback \u001b[0m\u001b[1;2;31m(most recent call last)\u001b[0m\u001b[31m \u001b[0m\u001b[31m─────────────────────────\u001b[0m\u001b[31m──\u001b[0m\n",
            "\u001b[31m \u001b[0m \u001b[2;33m/usr/local/lib/python3.11/dist-packages/streamlit/runtime/scriptrunner/\u001b[0m\u001b[1;33mexec_code.py\u001b[0m: \u001b[31m \u001b[0m\n",
            "\u001b[31m \u001b[0m \u001b[94m121\u001b[0m in \u001b[92mexec_func_with_error_handling\u001b[0m                                                 \u001b[31m \u001b[0m\n",
            "\u001b[31m \u001b[0m                                                                                      \u001b[31m \u001b[0m\n",
            "\u001b[31m \u001b[0m \u001b[2;33m/usr/local/lib/python3.11/dist-packages/streamlit/runtime/scriptrunner/\u001b[0m\u001b[1;33mscript_runner\u001b[0m \u001b[31m \u001b[0m\n",
            "\u001b[31m \u001b[0m \u001b[1;33m.py\u001b[0m:\u001b[94m645\u001b[0m in \u001b[92mcode_to_exec\u001b[0m                                                              \u001b[31m \u001b[0m\n",
            "\u001b[31m \u001b[0m                                                                                      \u001b[31m \u001b[0m\n",
            "\u001b[31m \u001b[0m \u001b[2;33m/content/\u001b[0m\u001b[1;33mplagiarism_app.py\u001b[0m:\u001b[94m8\u001b[0m in \u001b[92m<module>\u001b[0m                                             \u001b[31m \u001b[0m\n",
            "\u001b[31m \u001b[0m                                                                                      \u001b[31m \u001b[0m\n",
            "\u001b[31m \u001b[0m   \u001b[2m 5 \u001b[0m\u001b[94mimport\u001b[0m\u001b[90m \u001b[0m\u001b[4;96mre\u001b[0m                                                                       \u001b[31m \u001b[0m\n",
            "\u001b[31m \u001b[0m   \u001b[2m 6 \u001b[0m\u001b[2m# Load model and tokenizer\u001b[0m                                                      \u001b[31m \u001b[0m\n",
            "\u001b[31m \u001b[0m   \u001b[2m 7 \u001b[0mmodel = tf.keras.models.load_model(\u001b[33m'\u001b[0m\u001b[33mbest_gru_model.h5\u001b[0m\u001b[33m'\u001b[0m)                         \u001b[31m \u001b[0m\n",
            "\u001b[31m \u001b[0m \u001b[31m❱ \u001b[0m 8 tokenize\u001b[1;4mr = pickle.load(\u001b[0m\u001b[1;4;96mopen\u001b[0m\u001b[1;4m(\u001b[0m\u001b[1;4;33m'\u001b[0m\u001b[1;4;33mtokenizer.pkl\u001b[0m\u001b[1;4;33m'\u001b[0m\u001b[1;4m, \u001b[0m\u001b[1;4;33m'\u001b[0m\u001b[1;4;33mrb\u001b[0m\u001b[1;4;33m'\u001b[0m\u001b[1;4m))\u001b[0m                            \u001b[31m \u001b[0m\n",
            "\u001b[31m \u001b[0m   \u001b[2m 9 \u001b[0m                                                                                \u001b[31m \u001b[0m\n",
            "\u001b[31m \u001b[0m   \u001b[2m10 \u001b[0m\u001b[2m# Text preprocessing (same pipeline you used during training)\u001b[0m                   \u001b[31m \u001b[0m\n",
            "\u001b[31m \u001b[0m   \u001b[2m11 \u001b[0m\u001b[94mdef\u001b[0m\u001b[90m \u001b[0m\u001b[92mpreprocess\u001b[0m(text):                                                           \u001b[31m \u001b[0m\n",
            "\u001b[31m \u001b[0m                                                                                      \u001b[31m \u001b[0m\n",
            "\u001b[31m \u001b[0m \u001b[2;33m/usr/local/lib/python3.11/dist-packages/keras/src/saving/\u001b[0m\u001b[1;33msaving_api.py\u001b[0m:\u001b[94m196\u001b[0m in        \u001b[31m \u001b[0m\n",
            "\u001b[31m \u001b[0m \u001b[92mload_model\u001b[0m                                                                           \u001b[31m \u001b[0m\n",
            "\u001b[31m \u001b[0m                                                                                      \u001b[31m \u001b[0m\n",
            "\u001b[31m \u001b[0m   \u001b[2m193 \u001b[0m\u001b[2m│   │   │   \u001b[0msafe_mode=safe_mode,                                               \u001b[31m \u001b[0m\n",
            "\u001b[31m \u001b[0m   \u001b[2m194 \u001b[0m\u001b[2m│   │   \u001b[0m)                                                                      \u001b[31m \u001b[0m\n",
            "\u001b[31m \u001b[0m   \u001b[2m195 \u001b[0m\u001b[2m│   \u001b[0m\u001b[94mif\u001b[0m \u001b[96mstr\u001b[0m(filepath).endswith((\u001b[33m\"\u001b[0m\u001b[33m.h5\u001b[0m\u001b[33m\"\u001b[0m, \u001b[33m\"\u001b[0m\u001b[33m.hdf5\u001b[0m\u001b[33m\"\u001b[0m)):                               \u001b[31m \u001b[0m\n",
            "\u001b[31m \u001b[0m \u001b[31m❱ \u001b[0m196 \u001b[2m│   │   \u001b[0m\u001b[94mreturn\u001b[0m \u001b[1;4mlegacy_h5_format.load_model_from_hdf5(\u001b[0m                          \u001b[31m \u001b[0m\n",
            "\u001b[31m \u001b[0m   \u001b[2m197 \u001b[0m\u001b[1;2;4m│   │   │   \u001b[0m\u001b[1;4mfilepath, custom_objects=custom_objects, \u001b[0m\u001b[1;4;96mcompile\u001b[0m\u001b[1;4m=\u001b[0m\u001b[1;4;96mcompile\u001b[0m           \u001b[31m \u001b[0m\n",
            "\u001b[31m \u001b[0m   \u001b[2m198 \u001b[0m\u001b[1;2;4m│   │   \u001b[0m\u001b[1;4m)\u001b[0m                                                                      \u001b[31m \u001b[0m\n",
            "\u001b[31m \u001b[0m   \u001b[2m199 \u001b[0m\u001b[2m│   \u001b[0m\u001b[94melif\u001b[0m \u001b[96mstr\u001b[0m(filepath).endswith(\u001b[33m\"\u001b[0m\u001b[33m.keras\u001b[0m\u001b[33m\"\u001b[0m):                                     \u001b[31m \u001b[0m\n",
            "\u001b[31m \u001b[0m                                                                                      \u001b[31m \u001b[0m\n",
            "\u001b[31m \u001b[0m \u001b[2;33m/usr/local/lib/python3.11/dist-packages/keras/src/legacy/saving/\u001b[0m\u001b[1;33mlegacy_h5_format.py\u001b[0m: \u001b[31m \u001b[0m\n",
            "\u001b[31m \u001b[0m \u001b[94m133\u001b[0m in \u001b[92mload_model_from_hdf5\u001b[0m                                                          \u001b[31m \u001b[0m\n",
            "\u001b[31m \u001b[0m                                                                                      \u001b[31m \u001b[0m\n",
            "\u001b[31m \u001b[0m   \u001b[2m130 \u001b[0m\u001b[2m│   │   \u001b[0mmodel_config = json_utils.decode(model_config)                         \u001b[31m \u001b[0m\n",
            "\u001b[31m \u001b[0m   \u001b[2m131 \u001b[0m\u001b[2m│   │   \u001b[0m                                                                       \u001b[31m \u001b[0m\n",
            "\u001b[31m \u001b[0m   \u001b[2m132 \u001b[0m\u001b[2m│   │   \u001b[0m\u001b[94mwith\u001b[0m saving_options.keras_option_scope(use_legacy_config=\u001b[94mTrue\u001b[0m):        \u001b[31m \u001b[0m\n",
            "\u001b[31m \u001b[0m \u001b[31m❱ \u001b[0m133 \u001b[2m│   │   │   \u001b[0mmodel = saving_utils.model_from_config(                            \u001b[31m \u001b[0m\n",
            "\u001b[31m \u001b[0m   \u001b[2m134 \u001b[0m\u001b[2m│   │   │   │   \u001b[0mmodel_config, custom_objects=custom_objects                    \u001b[31m \u001b[0m\n",
            "\u001b[31m \u001b[0m   \u001b[2m135 \u001b[0m\u001b[2m│   │   │   \u001b[0m)                                                                  \u001b[31m \u001b[0m\n",
            "\u001b[31m \u001b[0m   \u001b[2m136 \u001b[0m                                                                               \u001b[31m \u001b[0m\n",
            "\u001b[31m \u001b[0m                                                                                      \u001b[31m \u001b[0m\n",
            "\u001b[31m \u001b[0m \u001b[2;33m/usr/local/lib/python3.11/dist-packages/keras/src/legacy/saving/\u001b[0m\u001b[1;33msaving_utils.py\u001b[0m:\u001b[94m85\u001b[0m   \u001b[31m \u001b[0m\n",
            "\u001b[31m \u001b[0m in \u001b[92mmodel_from_config\u001b[0m                                                                 \u001b[31m \u001b[0m\n",
            "\u001b[31m \u001b[0m                                                                                      \u001b[31m \u001b[0m\n",
            "\u001b[31m \u001b[0m   \u001b[2m 82 \u001b[0m\u001b[2m│   \u001b[0m\u001b[2m# Replace keras refs with keras\u001b[0m                                            \u001b[31m \u001b[0m\n",
            "\u001b[31m \u001b[0m   \u001b[2m 83 \u001b[0m\u001b[2m│   \u001b[0mconfig = _find_replace_nested_dict(config, \u001b[33m\"\u001b[0m\u001b[33mkeras.\u001b[0m\u001b[33m\"\u001b[0m, \u001b[33m\"\u001b[0m\u001b[33mkeras.\u001b[0m\u001b[33m\"\u001b[0m)             \u001b[31m \u001b[0m\n",
            "\u001b[31m \u001b[0m   \u001b[2m 84 \u001b[0m\u001b[2m│   \u001b[0m                                                                           \u001b[31m \u001b[0m\n",
            "\u001b[31m \u001b[0m \u001b[31m❱ \u001b[0m 85 \u001b[2m│   \u001b[0m\u001b[94mreturn\u001b[0m serialization.deserialize_keras_object(                             \u001b[31m \u001b[0m\n",
            "\u001b[31m \u001b[0m   \u001b[2m 86 \u001b[0m\u001b[2m│   │   \u001b[0mconfig,                                                                \u001b[31m \u001b[0m\n",
            "\u001b[31m \u001b[0m   \u001b[2m 87 \u001b[0m\u001b[2m│   │   \u001b[0mmodule_objects=MODULE_OBJECTS.ALL_OBJECTS,                             \u001b[31m \u001b[0m\n",
            "\u001b[31m \u001b[0m   \u001b[2m 88 \u001b[0m\u001b[2m│   │   \u001b[0mcustom_objects=custom_objects,                                         \u001b[31m \u001b[0m\n",
            "\u001b[31m \u001b[0m                                                                                      \u001b[31m \u001b[0m\n",
            "\u001b[31m \u001b[0m \u001b[2;33m/usr/local/lib/python3.11/dist-packages/keras/src/legacy/saving/\u001b[0m\u001b[1;33mserialization.py\u001b[0m:\u001b[94m495\u001b[0m \u001b[31m \u001b[0m\n",
            "\u001b[31m \u001b[0m in \u001b[92mdeserialize_keras_object\u001b[0m                                                          \u001b[31m \u001b[0m\n",
            "\u001b[31m \u001b[0m                                                                                      \u001b[31m \u001b[0m\n",
            "\u001b[31m \u001b[0m   \u001b[2m492 \u001b[0m\u001b[2m│   │   │   \u001b[0m)                                                                  \u001b[31m \u001b[0m\n",
            "\u001b[31m \u001b[0m   \u001b[2m493 \u001b[0m\u001b[2m│   │   │   \u001b[0m                                                                   \u001b[31m \u001b[0m\n",
            "\u001b[31m \u001b[0m   \u001b[2m494 \u001b[0m\u001b[2m│   │   │   \u001b[0m\u001b[94mif\u001b[0m \u001b[33m\"\u001b[0m\u001b[33mcustom_objects\u001b[0m\u001b[33m\"\u001b[0m \u001b[95min\u001b[0m arg_spec.args:                              \u001b[31m \u001b[0m\n",
            "\u001b[31m \u001b[0m \u001b[31m❱ \u001b[0m495 \u001b[2m│   │   │   │   \u001b[0mdeserialized_obj = \u001b[96mcls\u001b[0m.from_config(                            \u001b[31m \u001b[0m\n",
            "\u001b[31m \u001b[0m   \u001b[2m496 \u001b[0m\u001b[2m│   │   │   │   │   \u001b[0mcls_config,                                                \u001b[31m \u001b[0m\n",
            "\u001b[31m \u001b[0m   \u001b[2m497 \u001b[0m\u001b[2m│   │   │   │   │   \u001b[0mcustom_objects={                                           \u001b[31m \u001b[0m\n",
            "\u001b[31m \u001b[0m   \u001b[2m498 \u001b[0m\u001b[2m│   │   │   │   │   │   \u001b[0m**object_registration.GLOBAL_CUSTOM_OBJECTS,           \u001b[31m \u001b[0m\n",
            "\u001b[31m \u001b[0m                                                                                      \u001b[31m \u001b[0m\n",
            "\u001b[31m \u001b[0m \u001b[2;33m/usr/local/lib/python3.11/dist-packages/keras/src/models/\u001b[0m\u001b[1;33msequential.py\u001b[0m:\u001b[94m359\u001b[0m in        \u001b[31m \u001b[0m\n",
            "\u001b[31m \u001b[0m \u001b[92mfrom_config\u001b[0m                                                                          \u001b[31m \u001b[0m\n",
            "\u001b[31m \u001b[0m                                                                                      \u001b[31m \u001b[0m\n",
            "\u001b[31m \u001b[0m   \u001b[2m356 \u001b[0m\u001b[2m│   │   │   │   │   \u001b[0mlayer_config,                                              \u001b[31m \u001b[0m\n",
            "\u001b[31m \u001b[0m   \u001b[2m357 \u001b[0m\u001b[2m│   │   │   │   │   \u001b[0mcustom_objects=custom_objects,                             \u001b[31m \u001b[0m\n",
            "\u001b[31m \u001b[0m   \u001b[2m358 \u001b[0m\u001b[2m│   │   │   │   \u001b[0m)                                                              \u001b[31m \u001b[0m\n",
            "\u001b[31m \u001b[0m \u001b[31m❱ \u001b[0m359 \u001b[2m│   │   │   \u001b[0m\u001b[1;4mmodel.add(layer)\u001b[0m                                                   \u001b[31m \u001b[0m\n",
            "\u001b[31m \u001b[0m   \u001b[2m360 \u001b[0m\u001b[2m│   │   \u001b[0m\u001b[94mif\u001b[0m (                                                                   \u001b[31m \u001b[0m\n",
            "\u001b[31m \u001b[0m   \u001b[2m361 \u001b[0m\u001b[2m│   │   │   \u001b[0m\u001b[95mnot\u001b[0m model._functional                                              \u001b[31m \u001b[0m\n",
            "\u001b[31m \u001b[0m   \u001b[2m362 \u001b[0m\u001b[2m│   │   │   \u001b[0m\u001b[95mand\u001b[0m \u001b[33m\"\u001b[0m\u001b[33mbuild_input_shape\u001b[0m\u001b[33m\"\u001b[0m \u001b[95min\u001b[0m \u001b[96mlocals\u001b[0m()                                \u001b[31m \u001b[0m\n",
            "\u001b[31m \u001b[0m                                                                                      \u001b[31m \u001b[0m\n",
            "\u001b[31m \u001b[0m \u001b[2;33m/usr/local/lib/python3.11/dist-packages/keras/src/models/\u001b[0m\u001b[1;33msequential.py\u001b[0m:\u001b[94m122\u001b[0m in \u001b[92madd\u001b[0m    \u001b[31m \u001b[0m\n",
            "\u001b[31m \u001b[0m                                                                                      \u001b[31m \u001b[0m\n",
            "\u001b[31m \u001b[0m   \u001b[2m119 \u001b[0m\u001b[2m│   │   \u001b[0m                                                                       \u001b[31m \u001b[0m\n",
            "\u001b[31m \u001b[0m   \u001b[2m120 \u001b[0m\u001b[2m│   │   \u001b[0m\u001b[96mself\u001b[0m._layers.append(layer)                                             \u001b[31m \u001b[0m\n",
            "\u001b[31m \u001b[0m   \u001b[2m121 \u001b[0m\u001b[2m│   │   \u001b[0m\u001b[94mif\u001b[0m rebuild:                                                            \u001b[31m \u001b[0m\n",
            "\u001b[31m \u001b[0m \u001b[31m❱ \u001b[0m122 \u001b[2m│   │   │   \u001b[0m\u001b[1;4;96mself\u001b[0m\u001b[1;4m._maybe_rebuild()\u001b[0m                                              \u001b[31m \u001b[0m\n",
            "\u001b[31m \u001b[0m   \u001b[2m123 \u001b[0m\u001b[2m│   │   \u001b[0m\u001b[94melse\u001b[0m:                                                                  \u001b[31m \u001b[0m\n",
            "\u001b[31m \u001b[0m   \u001b[2m124 \u001b[0m\u001b[2m│   │   │   \u001b[0m\u001b[96mself\u001b[0m.built = \u001b[94mFalse\u001b[0m                                                 \u001b[31m \u001b[0m\n",
            "\u001b[31m \u001b[0m   \u001b[2m125 \u001b[0m\u001b[2m│   │   │   \u001b[0m\u001b[96mself\u001b[0m._functional = \u001b[94mNone\u001b[0m                                            \u001b[31m \u001b[0m\n",
            "\u001b[31m \u001b[0m                                                                                      \u001b[31m \u001b[0m\n",
            "\u001b[31m \u001b[0m \u001b[2;33m/usr/local/lib/python3.11/dist-packages/keras/src/models/\u001b[0m\u001b[1;33msequential.py\u001b[0m:\u001b[94m141\u001b[0m in        \u001b[31m \u001b[0m\n",
            "\u001b[31m \u001b[0m \u001b[92m_maybe_rebuild\u001b[0m                                                                       \u001b[31m \u001b[0m\n",
            "\u001b[31m \u001b[0m                                                                                      \u001b[31m \u001b[0m\n",
            "\u001b[31m \u001b[0m   \u001b[2m138 \u001b[0m\u001b[2m│   │   \u001b[0m\u001b[96mself\u001b[0m._functional = \u001b[94mNone\u001b[0m                                                \u001b[31m \u001b[0m\n",
            "\u001b[31m \u001b[0m   \u001b[2m139 \u001b[0m\u001b[2m│   │   \u001b[0m\u001b[94mif\u001b[0m \u001b[96misinstance\u001b[0m(\u001b[96mself\u001b[0m._layers[\u001b[94m0\u001b[0m], InputLayer) \u001b[95mand\u001b[0m \u001b[96mlen\u001b[0m(\u001b[96mself\u001b[0m._layers) > \u001b[94m1\u001b[0m:  \u001b[31m \u001b[0m\n",
            "\u001b[31m \u001b[0m   \u001b[2m140 \u001b[0m\u001b[2m│   │   │   \u001b[0minput_shape = \u001b[96mself\u001b[0m._layers[\u001b[94m0\u001b[0m].batch_shape                          \u001b[31m \u001b[0m\n",
            "\u001b[31m \u001b[0m \u001b[31m❱ \u001b[0m141 \u001b[2m│   │   │   \u001b[0m\u001b[1;4;96mself\u001b[0m\u001b[1;4m.build(input_shape)\u001b[0m                                            \u001b[31m \u001b[0m\n",
            "\u001b[31m \u001b[0m   \u001b[2m142 \u001b[0m\u001b[2m│   │   \u001b[0m\u001b[94melif\u001b[0m \u001b[96mhasattr\u001b[0m(\u001b[96mself\u001b[0m._layers[\u001b[94m0\u001b[0m], \u001b[33m\"\u001b[0m\u001b[33minput_shape\u001b[0m\u001b[33m\"\u001b[0m) \u001b[95mand\u001b[0m \u001b[96mlen\u001b[0m(\u001b[96mself\u001b[0m._layers) > \u001b[94m1\u001b[0m \u001b[31m \u001b[0m\n",
            "\u001b[31m \u001b[0m   \u001b[2m143 \u001b[0m\u001b[2m│   │   │   \u001b[0m\u001b[2m# We can build the Sequential model if the first layer has the\u001b[0m     \u001b[31m \u001b[0m\n",
            "\u001b[31m \u001b[0m   \u001b[2m144 \u001b[0m\u001b[2m│   │   │   \u001b[0m\u001b[2m# `input_shape` property. This is most commonly found in Functiona\u001b[0m \u001b[31m \u001b[0m\n",
            "\u001b[31m \u001b[0m                                                                                      \u001b[31m \u001b[0m\n",
            "\u001b[31m \u001b[0m \u001b[2;33m/usr/local/lib/python3.11/dist-packages/keras/src/layers/\u001b[0m\u001b[1;33mlayer.py\u001b[0m:\u001b[94m226\u001b[0m in             \u001b[31m \u001b[0m\n",
            "\u001b[31m \u001b[0m \u001b[92mbuild_wrapper\u001b[0m                                                                        \u001b[31m \u001b[0m\n",
            "\u001b[31m \u001b[0m                                                                                      \u001b[31m \u001b[0m\n",
            "\u001b[31m \u001b[0m   \u001b[2m 223 \u001b[0m\u001b[2m│   │   \u001b[0m                                                                      \u001b[31m \u001b[0m\n",
            "\u001b[31m \u001b[0m   \u001b[2m 224 \u001b[0m\u001b[2m│   │   \u001b[0m\u001b[1;95m@wraps\u001b[0m(original_build_method)                                         \u001b[31m \u001b[0m\n",
            "\u001b[31m \u001b[0m   \u001b[2m 225 \u001b[0m\u001b[2m│   │   \u001b[0m\u001b[94mdef\u001b[0m\u001b[90m \u001b[0m\u001b[92mbuild_wrapper\u001b[0m(*args, **kwargs):                                   \u001b[31m \u001b[0m\n",
            "\u001b[31m \u001b[0m \u001b[31m❱ \u001b[0m 226 \u001b[2m│   │   │   \u001b[0m\u001b[1;4;94mwith\u001b[0m\u001b[1;4m obj._open_name_scope():\u001b[0m                                      \u001b[31m \u001b[0m\n",
            "\u001b[31m \u001b[0m   \u001b[2m 227 \u001b[0m\u001b[1;2;4m│   │   │   │   \u001b[0m\u001b[1;4mobj._path = current_path()\u001b[0m                                    \u001b[31m \u001b[0m\n",
            "\u001b[31m \u001b[0m   \u001b[2m 228 \u001b[0m\u001b[1;2;4m│   │   │   │   \u001b[0m\u001b[1;4moriginal_build_method(*args, **kwargs)\u001b[0m                        \u001b[31m \u001b[0m\n",
            "\u001b[31m \u001b[0m   \u001b[2m 229 \u001b[0m\u001b[2m│   │   │   \u001b[0m\u001b[2m# Record build config.\u001b[0m                                            \u001b[31m \u001b[0m\n",
            "\u001b[31m \u001b[0m                                                                                      \u001b[31m \u001b[0m\n",
            "\u001b[31m \u001b[0m \u001b[2;33m/usr/local/lib/python3.11/dist-packages/keras/src/backend/tensorflow/\u001b[0m\u001b[1;33mcore.py\u001b[0m:\u001b[94m664\u001b[0m in  \u001b[31m \u001b[0m\n",
            "\u001b[31m \u001b[0m \u001b[92m__exit__\u001b[0m                                                                             \u001b[31m \u001b[0m\n",
            "\u001b[31m \u001b[0m                                                                                      \u001b[31m \u001b[0m\n",
            "\u001b[31m \u001b[0m   \u001b[2m661 \u001b[0m\u001b[2m│   │   \u001b[0m\u001b[94mreturn\u001b[0m \u001b[96mself\u001b[0m                                                            \u001b[31m \u001b[0m\n",
            "\u001b[31m \u001b[0m   \u001b[2m662 \u001b[0m\u001b[2m│   \u001b[0m                                                                           \u001b[31m \u001b[0m\n",
            "\u001b[31m \u001b[0m   \u001b[2m663 \u001b[0m\u001b[2m│   \u001b[0m\u001b[94mdef\u001b[0m\u001b[90m \u001b[0m\u001b[92m__exit__\u001b[0m(\u001b[96mself\u001b[0m, *args, **kwargs):                                       \u001b[31m \u001b[0m\n",
            "\u001b[31m \u001b[0m \u001b[31m❱ \u001b[0m664 \u001b[2m│   │   \u001b[0m\u001b[1;4;96msuper\u001b[0m\u001b[1;4m().\u001b[0m\u001b[1;4;92m__exit__\u001b[0m\u001b[1;4m(*args, **kwargs)\u001b[0m                                      \u001b[31m \u001b[0m\n",
            "\u001b[31m \u001b[0m   \u001b[2m665 \u001b[0m\u001b[2m│   │   \u001b[0m\u001b[94mif\u001b[0m \u001b[96mself\u001b[0m._pop_on_exit:                                                  \u001b[31m \u001b[0m\n",
            "\u001b[31m \u001b[0m   \u001b[2m666 \u001b[0m\u001b[2m│   │   │   \u001b[0m\u001b[96mself\u001b[0m._tf_name_scope.\u001b[92m__exit__\u001b[0m(*args, **kwargs)                      \u001b[31m \u001b[0m\n",
            "\u001b[31m \u001b[0m   \u001b[2m667 \u001b[0m                                                                               \u001b[31m \u001b[0m\n",
            "\u001b[31m \u001b[0m                                                                                      \u001b[31m \u001b[0m\n",
            "\u001b[31m \u001b[0m \u001b[2;33m/usr/local/lib/python3.11/dist-packages/keras/src/backend/common/\u001b[0m\u001b[1;33mname_scope.py\u001b[0m:\u001b[94m61\u001b[0m in \u001b[31m \u001b[0m\n",
            "\u001b[31m \u001b[0m \u001b[92m__exit__\u001b[0m                                                                             \u001b[31m \u001b[0m\n",
            "\u001b[31m \u001b[0m                                                                                      \u001b[31m \u001b[0m\n",
            "\u001b[31m \u001b[0m   \u001b[2m58 \u001b[0m\u001b[2m│   │   │   \u001b[0mname_scope_stack = global_state.get_global_attribute(               \u001b[31m \u001b[0m\n",
            "\u001b[31m \u001b[0m   \u001b[2m59 \u001b[0m\u001b[2m│   │   │   │   \u001b[0m\u001b[33m\"\u001b[0m\u001b[33mname_scope_stack\u001b[0m\u001b[33m\"\u001b[0m                                              \u001b[31m \u001b[0m\n",
            "\u001b[31m \u001b[0m   \u001b[2m60 \u001b[0m\u001b[2m│   │   │   \u001b[0m)                                                                   \u001b[31m \u001b[0m\n",
            "\u001b[31m \u001b[0m \u001b[31m❱ \u001b[0m61 \u001b[2m│   │   │   \u001b[0m\u001b[1;4mname_scope_stack.pop()\u001b[0m                                              \u001b[31m \u001b[0m\n",
            "\u001b[31m \u001b[0m   \u001b[2m62 \u001b[0m                                                                                \u001b[31m \u001b[0m\n",
            "\u001b[31m \u001b[0m   \u001b[2m63 \u001b[0m                                                                                \u001b[31m \u001b[0m\n",
            "\u001b[31m \u001b[0m   \u001b[2m64 \u001b[0m\u001b[94mdef\u001b[0m\u001b[90m \u001b[0m\u001b[92mcurrent_path\u001b[0m():                                                             \u001b[31m \u001b[0m\n",
            "\u001b[31m────────────────────────────────────────────────────────────────────────────────────────\u001b[0m\n",
            "\u001b[1;91mIndexError: \u001b[0mpop from empty list\n",
            "WARNING:absl:Compiled the loaded model, but the compiled metrics have yet to be built. `model.compile_metrics` will be empty until you train or evaluate the model.\n",
            "WARNING:absl:Compiled the loaded model, but the compiled metrics have yet to be built. `model.compile_metrics` will be empty until you train or evaluate the model.\n",
            "WARNING:absl:Compiled the loaded model, but the compiled metrics have yet to be built. `model.compile_metrics` will be empty until you train or evaluate the model.\n",
            "WARNING:absl:Compiled the loaded model, but the compiled metrics have yet to be built. `model.compile_metrics` will be empty until you train or evaluate the model.\n",
            "WARNING:absl:Compiled the loaded model, but the compiled metrics have yet to be built. `model.compile_metrics` will be empty until you train or evaluate the model.\n",
            "\u001b[31m──\u001b[0m\u001b[31m────────────────────────\u001b[0m\u001b[31m \u001b[0m\u001b[1;31mTraceback \u001b[0m\u001b[1;2;31m(most recent call last)\u001b[0m\u001b[31m \u001b[0m\u001b[31m─────────────────────────\u001b[0m\u001b[31m──\u001b[0m\n",
            "\u001b[31m \u001b[0m \u001b[2;33m/usr/local/lib/python3.11/dist-packages/keras/src/layers/\u001b[0m\u001b[1;33mlayer.py\u001b[0m:\u001b[94m228\u001b[0m in             \u001b[31m \u001b[0m\n",
            "\u001b[31m \u001b[0m \u001b[92mbuild_wrapper\u001b[0m                                                                        \u001b[31m \u001b[0m\n",
            "\u001b[31m \u001b[0m                                                                                      \u001b[31m \u001b[0m\n",
            "\u001b[31m \u001b[0m   \u001b[2m 225 \u001b[0m\u001b[2m│   │   \u001b[0m\u001b[94mdef\u001b[0m\u001b[90m \u001b[0m\u001b[92mbuild_wrapper\u001b[0m(*args, **kwargs):                                   \u001b[31m \u001b[0m\n",
            "\u001b[31m \u001b[0m   \u001b[2m 226 \u001b[0m\u001b[2m│   │   │   \u001b[0m\u001b[1;4;94mwith\u001b[0m\u001b[1;4m obj._open_name_scope():\u001b[0m                                      \u001b[31m \u001b[0m\n",
            "\u001b[31m \u001b[0m   \u001b[2m 227 \u001b[0m\u001b[1;2;4m│   │   │   │   \u001b[0m\u001b[1;4mobj._path = current_path()\u001b[0m                                    \u001b[31m \u001b[0m\n",
            "\u001b[31m \u001b[0m \u001b[31m❱ \u001b[0m 228 \u001b[1;2;4m│   │   │   │   \u001b[0m\u001b[1;4moriginal_build_method(*args, **kwargs)\u001b[0m                        \u001b[31m \u001b[0m\n",
            "\u001b[31m \u001b[0m   \u001b[2m 229 \u001b[0m\u001b[2m│   │   │   \u001b[0m\u001b[2m# Record build config.\u001b[0m                                            \u001b[31m \u001b[0m\n",
            "\u001b[31m \u001b[0m   \u001b[2m 230 \u001b[0m\u001b[2m│   │   │   \u001b[0msignature = inspect.signature(original_build_method)              \u001b[31m \u001b[0m\n",
            "\u001b[31m \u001b[0m   \u001b[2m 231 \u001b[0m\u001b[2m│   │   │   \u001b[0mobj._build_shapes_dict = signature.bind(*args, **kwargs).argument \u001b[31m \u001b[0m\n",
            "\u001b[31m \u001b[0m                                                                                      \u001b[31m \u001b[0m\n",
            "\u001b[31m \u001b[0m \u001b[2;33m/usr/local/lib/python3.11/dist-packages/keras/src/models/\u001b[0m\u001b[1;33msequential.py\u001b[0m:\u001b[94m187\u001b[0m in \u001b[92mbuild\u001b[0m  \u001b[31m \u001b[0m\n",
            "\u001b[31m \u001b[0m                                                                                      \u001b[31m \u001b[0m\n",
            "\u001b[31m \u001b[0m   \u001b[2m184 \u001b[0m\u001b[2m│   │   \u001b[0mx = inputs                                                             \u001b[31m \u001b[0m\n",
            "\u001b[31m \u001b[0m   \u001b[2m185 \u001b[0m\u001b[2m│   │   \u001b[0m\u001b[94mfor\u001b[0m layer \u001b[95min\u001b[0m \u001b[96mself\u001b[0m._layers[\u001b[94m1\u001b[0m:]:                                         \u001b[31m \u001b[0m\n",
            "\u001b[31m \u001b[0m   \u001b[2m186 \u001b[0m\u001b[2m│   │   │   \u001b[0m\u001b[94mtry\u001b[0m:                                                               \u001b[31m \u001b[0m\n",
            "\u001b[31m \u001b[0m \u001b[31m❱ \u001b[0m187 \u001b[2m│   │   │   │   \u001b[0mx = layer(x)                                                   \u001b[31m \u001b[0m\n",
            "\u001b[31m \u001b[0m   \u001b[2m188 \u001b[0m\u001b[2m│   │   │   \u001b[0m\u001b[94mexcept\u001b[0m \u001b[96mNotImplementedError\u001b[0m:                                        \u001b[31m \u001b[0m\n",
            "\u001b[31m \u001b[0m   \u001b[2m189 \u001b[0m\u001b[2m│   │   │   │   \u001b[0m\u001b[2m# Can happen if shape inference is not implemented.\u001b[0m            \u001b[31m \u001b[0m\n",
            "\u001b[31m \u001b[0m   \u001b[2m190 \u001b[0m\u001b[2m│   │   │   │   \u001b[0m\u001b[2m# TODO: consider reverting inbound nodes on layers processed.\u001b[0m  \u001b[31m \u001b[0m\n",
            "\u001b[31m \u001b[0m                                                                                      \u001b[31m \u001b[0m\n",
            "\u001b[31m \u001b[0m \u001b[2;33m/usr/local/lib/python3.11/dist-packages/keras/src/utils/\u001b[0m\u001b[1;33mtraceback_utils.py\u001b[0m:\u001b[94m122\u001b[0m in    \u001b[31m \u001b[0m\n",
            "\u001b[31m \u001b[0m \u001b[92merror_handler\u001b[0m                                                                        \u001b[31m \u001b[0m\n",
            "\u001b[31m \u001b[0m                                                                                      \u001b[31m \u001b[0m\n",
            "\u001b[31m \u001b[0m   \u001b[2m119 \u001b[0m\u001b[2m│   │   │   \u001b[0mfiltered_tb = _process_traceback_frames(e.__traceback__)           \u001b[31m \u001b[0m\n",
            "\u001b[31m \u001b[0m   \u001b[2m120 \u001b[0m\u001b[2m│   │   │   \u001b[0m\u001b[2m# To get the full stack trace, call:\u001b[0m                               \u001b[31m \u001b[0m\n",
            "\u001b[31m \u001b[0m   \u001b[2m121 \u001b[0m\u001b[2m│   │   │   \u001b[0m\u001b[2m# `keras.config.disable_traceback_filtering()`\u001b[0m                     \u001b[31m \u001b[0m\n",
            "\u001b[31m \u001b[0m \u001b[31m❱ \u001b[0m122 \u001b[2m│   │   │   \u001b[0m\u001b[94mraise\u001b[0m e.with_traceback(filtered_tb) \u001b[94mfrom\u001b[0m\u001b[90m \u001b[0m\u001b[94mNone\u001b[0m                      \u001b[31m \u001b[0m\n",
            "\u001b[31m \u001b[0m   \u001b[2m123 \u001b[0m\u001b[2m│   │   \u001b[0m\u001b[94mfinally\u001b[0m:                                                               \u001b[31m \u001b[0m\n",
            "\u001b[31m \u001b[0m   \u001b[2m124 \u001b[0m\u001b[2m│   │   │   \u001b[0m\u001b[1;4;94mdel\u001b[0m\u001b[1;4m filtered_tb\u001b[0m                                                    \u001b[31m \u001b[0m\n",
            "\u001b[31m \u001b[0m   \u001b[2m125 \u001b[0m                                                                               \u001b[31m \u001b[0m\n",
            "\u001b[31m \u001b[0m                                                                                      \u001b[31m \u001b[0m\n",
            "\u001b[31m \u001b[0m \u001b[2;33m/usr/local/lib/python3.11/dist-packages/keras/src/backend/common/\u001b[0m\u001b[1;33mname_scope.py\u001b[0m:\u001b[94m61\u001b[0m in \u001b[31m \u001b[0m\n",
            "\u001b[31m \u001b[0m \u001b[92m__exit__\u001b[0m                                                                             \u001b[31m \u001b[0m\n",
            "\u001b[31m \u001b[0m                                                                                      \u001b[31m \u001b[0m\n",
            "\u001b[31m \u001b[0m   \u001b[2m58 \u001b[0m\u001b[2m│   │   │   \u001b[0mname_scope_stack = global_state.get_global_attribute(               \u001b[31m \u001b[0m\n",
            "\u001b[31m \u001b[0m   \u001b[2m59 \u001b[0m\u001b[2m│   │   │   │   \u001b[0m\u001b[33m\"\u001b[0m\u001b[33mname_scope_stack\u001b[0m\u001b[33m\"\u001b[0m                                              \u001b[31m \u001b[0m\n",
            "\u001b[31m \u001b[0m   \u001b[2m60 \u001b[0m\u001b[2m│   │   │   \u001b[0m)                                                                   \u001b[31m \u001b[0m\n",
            "\u001b[31m \u001b[0m \u001b[31m❱ \u001b[0m61 \u001b[2m│   │   │   \u001b[0m\u001b[1;4mname_scope_stack.pop()\u001b[0m                                              \u001b[31m \u001b[0m\n",
            "\u001b[31m \u001b[0m   \u001b[2m62 \u001b[0m                                                                                \u001b[31m \u001b[0m\n",
            "\u001b[31m \u001b[0m   \u001b[2m63 \u001b[0m                                                                                \u001b[31m \u001b[0m\n",
            "\u001b[31m \u001b[0m   \u001b[2m64 \u001b[0m\u001b[94mdef\u001b[0m\u001b[90m \u001b[0m\u001b[92mcurrent_path\u001b[0m():                                                             \u001b[31m \u001b[0m\n",
            "\u001b[31m────────────────────────────────────────────────────────────────────────────────────────\u001b[0m\n",
            "\u001b[1;91mIndexError: \u001b[0mpop from empty list\n",
            "\n",
            "\u001b[3mDuring handling of the above exception, another exception occurred:\u001b[0m\n",
            "\n",
            "\u001b[31m──\u001b[0m\u001b[31m────────────────────────\u001b[0m\u001b[31m \u001b[0m\u001b[1;31mTraceback \u001b[0m\u001b[1;2;31m(most recent call last)\u001b[0m\u001b[31m \u001b[0m\u001b[31m─────────────────────────\u001b[0m\u001b[31m──\u001b[0m\n",
            "\u001b[31m \u001b[0m \u001b[2;33m/usr/local/lib/python3.11/dist-packages/streamlit/runtime/scriptrunner/\u001b[0m\u001b[1;33mexec_code.py\u001b[0m: \u001b[31m \u001b[0m\n",
            "\u001b[31m \u001b[0m \u001b[94m121\u001b[0m in \u001b[92mexec_func_with_error_handling\u001b[0m                                                 \u001b[31m \u001b[0m\n",
            "\u001b[31m \u001b[0m                                                                                      \u001b[31m \u001b[0m\n",
            "\u001b[31m \u001b[0m \u001b[2;33m/usr/local/lib/python3.11/dist-packages/streamlit/runtime/scriptrunner/\u001b[0m\u001b[1;33mscript_runner\u001b[0m \u001b[31m \u001b[0m\n",
            "\u001b[31m \u001b[0m \u001b[1;33m.py\u001b[0m:\u001b[94m645\u001b[0m in \u001b[92mcode_to_exec\u001b[0m                                                              \u001b[31m \u001b[0m\n",
            "\u001b[31m \u001b[0m                                                                                      \u001b[31m \u001b[0m\n",
            "\u001b[31m \u001b[0m \u001b[2;33m/content/\u001b[0m\u001b[1;33mplagiarism_app.py\u001b[0m:\u001b[94m8\u001b[0m in \u001b[92m<module>\u001b[0m                                             \u001b[31m \u001b[0m\n",
            "\u001b[31m \u001b[0m                                                                                      \u001b[31m \u001b[0m\n",
            "\u001b[31m \u001b[0m   \u001b[2m 5 \u001b[0m\u001b[94mimport\u001b[0m\u001b[90m \u001b[0m\u001b[4;96mre\u001b[0m                                                                       \u001b[31m \u001b[0m\n",
            "\u001b[31m \u001b[0m   \u001b[2m 6 \u001b[0m\u001b[94mimport\u001b[0m\u001b[90m \u001b[0m\u001b[4;96mtime\u001b[0m                                                                     \u001b[31m \u001b[0m\n",
            "\u001b[31m \u001b[0m   \u001b[2m 7 \u001b[0m\u001b[2m# Load model and tokenizer\u001b[0m                                                      \u001b[31m \u001b[0m\n",
            "\u001b[31m \u001b[0m \u001b[31m❱ \u001b[0m 8 model = \u001b[1;4mtf.keras.models.load_model(\u001b[0m\u001b[1;4;33m'\u001b[0m\u001b[1;4;33mbest_gru_model.h5\u001b[0m\u001b[1;4;33m'\u001b[0m\u001b[1;4m)\u001b[0m                         \u001b[31m \u001b[0m\n",
            "\u001b[31m \u001b[0m   \u001b[2m 9 \u001b[0mtokenizer = pickle.load(\u001b[96mopen\u001b[0m(\u001b[33m'\u001b[0m\u001b[33mtokenizer.pkl\u001b[0m\u001b[33m'\u001b[0m, \u001b[33m'\u001b[0m\u001b[33mrb\u001b[0m\u001b[33m'\u001b[0m))                            \u001b[31m \u001b[0m\n",
            "\u001b[31m \u001b[0m   \u001b[2m10 \u001b[0m                                                                                \u001b[31m \u001b[0m\n",
            "\u001b[31m \u001b[0m   \u001b[2m11 \u001b[0m\u001b[2m# Text preprocessing (same pipeline you used during training)\u001b[0m                   \u001b[31m \u001b[0m\n",
            "\u001b[31m \u001b[0m                                                                                      \u001b[31m \u001b[0m\n",
            "\u001b[31m \u001b[0m \u001b[2;33m/usr/local/lib/python3.11/dist-packages/keras/src/saving/\u001b[0m\u001b[1;33msaving_api.py\u001b[0m:\u001b[94m196\u001b[0m in        \u001b[31m \u001b[0m\n",
            "\u001b[31m \u001b[0m \u001b[92mload_model\u001b[0m                                                                           \u001b[31m \u001b[0m\n",
            "\u001b[31m \u001b[0m                                                                                      \u001b[31m \u001b[0m\n",
            "\u001b[31m \u001b[0m   \u001b[2m193 \u001b[0m\u001b[2m│   │   │   \u001b[0msafe_mode=safe_mode,                                               \u001b[31m \u001b[0m\n",
            "\u001b[31m \u001b[0m   \u001b[2m194 \u001b[0m\u001b[2m│   │   \u001b[0m)                                                                      \u001b[31m \u001b[0m\n",
            "\u001b[31m \u001b[0m   \u001b[2m195 \u001b[0m\u001b[2m│   \u001b[0m\u001b[94mif\u001b[0m \u001b[96mstr\u001b[0m(filepath).endswith((\u001b[33m\"\u001b[0m\u001b[33m.h5\u001b[0m\u001b[33m\"\u001b[0m, \u001b[33m\"\u001b[0m\u001b[33m.hdf5\u001b[0m\u001b[33m\"\u001b[0m)):                               \u001b[31m \u001b[0m\n",
            "\u001b[31m \u001b[0m \u001b[31m❱ \u001b[0m196 \u001b[2m│   │   \u001b[0m\u001b[94mreturn\u001b[0m \u001b[1;4mlegacy_h5_format.load_model_from_hdf5(\u001b[0m                          \u001b[31m \u001b[0m\n",
            "\u001b[31m \u001b[0m   \u001b[2m197 \u001b[0m\u001b[1;2;4m│   │   │   \u001b[0m\u001b[1;4mfilepath, custom_objects=custom_objects, \u001b[0m\u001b[1;4;96mcompile\u001b[0m\u001b[1;4m=\u001b[0m\u001b[1;4;96mcompile\u001b[0m           \u001b[31m \u001b[0m\n",
            "\u001b[31m \u001b[0m   \u001b[2m198 \u001b[0m\u001b[1;2;4m│   │   \u001b[0m\u001b[1;4m)\u001b[0m                                                                      \u001b[31m \u001b[0m\n",
            "\u001b[31m \u001b[0m   \u001b[2m199 \u001b[0m\u001b[2m│   \u001b[0m\u001b[94melif\u001b[0m \u001b[96mstr\u001b[0m(filepath).endswith(\u001b[33m\"\u001b[0m\u001b[33m.keras\u001b[0m\u001b[33m\"\u001b[0m):                                     \u001b[31m \u001b[0m\n",
            "\u001b[31m \u001b[0m                                                                                      \u001b[31m \u001b[0m\n",
            "\u001b[31m \u001b[0m \u001b[2;33m/usr/local/lib/python3.11/dist-packages/keras/src/legacy/saving/\u001b[0m\u001b[1;33mlegacy_h5_format.py\u001b[0m: \u001b[31m \u001b[0m\n",
            "\u001b[31m \u001b[0m \u001b[94m133\u001b[0m in \u001b[92mload_model_from_hdf5\u001b[0m                                                          \u001b[31m \u001b[0m\n",
            "\u001b[31m \u001b[0m                                                                                      \u001b[31m \u001b[0m\n",
            "\u001b[31m \u001b[0m   \u001b[2m130 \u001b[0m\u001b[2m│   │   \u001b[0mmodel_config = json_utils.decode(model_config)                         \u001b[31m \u001b[0m\n",
            "\u001b[31m \u001b[0m   \u001b[2m131 \u001b[0m\u001b[2m│   │   \u001b[0m                                                                       \u001b[31m \u001b[0m\n",
            "\u001b[31m \u001b[0m   \u001b[2m132 \u001b[0m\u001b[2m│   │   \u001b[0m\u001b[94mwith\u001b[0m saving_options.keras_option_scope(use_legacy_config=\u001b[94mTrue\u001b[0m):        \u001b[31m \u001b[0m\n",
            "\u001b[31m \u001b[0m \u001b[31m❱ \u001b[0m133 \u001b[2m│   │   │   \u001b[0mmodel = saving_utils.model_from_config(                            \u001b[31m \u001b[0m\n",
            "\u001b[31m \u001b[0m   \u001b[2m134 \u001b[0m\u001b[2m│   │   │   │   \u001b[0mmodel_config, custom_objects=custom_objects                    \u001b[31m \u001b[0m\n",
            "\u001b[31m \u001b[0m   \u001b[2m135 \u001b[0m\u001b[2m│   │   │   \u001b[0m)                                                                  \u001b[31m \u001b[0m\n",
            "\u001b[31m \u001b[0m   \u001b[2m136 \u001b[0m                                                                               \u001b[31m \u001b[0m\n",
            "\u001b[31m \u001b[0m                                                                                      \u001b[31m \u001b[0m\n",
            "\u001b[31m \u001b[0m \u001b[2;33m/usr/local/lib/python3.11/dist-packages/keras/src/legacy/saving/\u001b[0m\u001b[1;33msaving_utils.py\u001b[0m:\u001b[94m85\u001b[0m   \u001b[31m \u001b[0m\n",
            "\u001b[31m \u001b[0m in \u001b[92mmodel_from_config\u001b[0m                                                                 \u001b[31m \u001b[0m\n",
            "\u001b[31m \u001b[0m                                                                                      \u001b[31m \u001b[0m\n",
            "\u001b[31m \u001b[0m   \u001b[2m 82 \u001b[0m\u001b[2m│   \u001b[0m\u001b[2m# Replace keras refs with keras\u001b[0m                                            \u001b[31m \u001b[0m\n",
            "\u001b[31m \u001b[0m   \u001b[2m 83 \u001b[0m\u001b[2m│   \u001b[0mconfig = _find_replace_nested_dict(config, \u001b[33m\"\u001b[0m\u001b[33mkeras.\u001b[0m\u001b[33m\"\u001b[0m, \u001b[33m\"\u001b[0m\u001b[33mkeras.\u001b[0m\u001b[33m\"\u001b[0m)             \u001b[31m \u001b[0m\n",
            "\u001b[31m \u001b[0m   \u001b[2m 84 \u001b[0m\u001b[2m│   \u001b[0m                                                                           \u001b[31m \u001b[0m\n",
            "\u001b[31m \u001b[0m \u001b[31m❱ \u001b[0m 85 \u001b[2m│   \u001b[0m\u001b[94mreturn\u001b[0m serialization.deserialize_keras_object(                             \u001b[31m \u001b[0m\n",
            "\u001b[31m \u001b[0m   \u001b[2m 86 \u001b[0m\u001b[2m│   │   \u001b[0mconfig,                                                                \u001b[31m \u001b[0m\n",
            "\u001b[31m \u001b[0m   \u001b[2m 87 \u001b[0m\u001b[2m│   │   \u001b[0mmodule_objects=MODULE_OBJECTS.ALL_OBJECTS,                             \u001b[31m \u001b[0m\n",
            "\u001b[31m \u001b[0m   \u001b[2m 88 \u001b[0m\u001b[2m│   │   \u001b[0mcustom_objects=custom_objects,                                         \u001b[31m \u001b[0m\n",
            "\u001b[31m \u001b[0m                                                                                      \u001b[31m \u001b[0m\n",
            "\u001b[31m \u001b[0m \u001b[2;33m/usr/local/lib/python3.11/dist-packages/keras/src/legacy/saving/\u001b[0m\u001b[1;33mserialization.py\u001b[0m:\u001b[94m495\u001b[0m \u001b[31m \u001b[0m\n",
            "\u001b[31m \u001b[0m in \u001b[92mdeserialize_keras_object\u001b[0m                                                          \u001b[31m \u001b[0m\n",
            "\u001b[31m \u001b[0m                                                                                      \u001b[31m \u001b[0m\n",
            "\u001b[31m \u001b[0m   \u001b[2m492 \u001b[0m\u001b[2m│   │   │   \u001b[0m)                                                                  \u001b[31m \u001b[0m\n",
            "\u001b[31m \u001b[0m   \u001b[2m493 \u001b[0m\u001b[2m│   │   │   \u001b[0m                                                                   \u001b[31m \u001b[0m\n",
            "\u001b[31m \u001b[0m   \u001b[2m494 \u001b[0m\u001b[2m│   │   │   \u001b[0m\u001b[94mif\u001b[0m \u001b[33m\"\u001b[0m\u001b[33mcustom_objects\u001b[0m\u001b[33m\"\u001b[0m \u001b[95min\u001b[0m arg_spec.args:                              \u001b[31m \u001b[0m\n",
            "\u001b[31m \u001b[0m \u001b[31m❱ \u001b[0m495 \u001b[2m│   │   │   │   \u001b[0mdeserialized_obj = \u001b[96mcls\u001b[0m.from_config(                            \u001b[31m \u001b[0m\n",
            "\u001b[31m \u001b[0m   \u001b[2m496 \u001b[0m\u001b[2m│   │   │   │   │   \u001b[0mcls_config,                                                \u001b[31m \u001b[0m\n",
            "\u001b[31m \u001b[0m   \u001b[2m497 \u001b[0m\u001b[2m│   │   │   │   │   \u001b[0mcustom_objects={                                           \u001b[31m \u001b[0m\n",
            "\u001b[31m \u001b[0m   \u001b[2m498 \u001b[0m\u001b[2m│   │   │   │   │   │   \u001b[0m**object_registration.GLOBAL_CUSTOM_OBJECTS,           \u001b[31m \u001b[0m\n",
            "\u001b[31m \u001b[0m                                                                                      \u001b[31m \u001b[0m\n",
            "\u001b[31m \u001b[0m \u001b[2;33m/usr/local/lib/python3.11/dist-packages/keras/src/models/\u001b[0m\u001b[1;33msequential.py\u001b[0m:\u001b[94m359\u001b[0m in        \u001b[31m \u001b[0m\n",
            "\u001b[31m \u001b[0m \u001b[92mfrom_config\u001b[0m                                                                          \u001b[31m \u001b[0m\n",
            "\u001b[31m \u001b[0m                                                                                      \u001b[31m \u001b[0m\n",
            "\u001b[31m \u001b[0m   \u001b[2m356 \u001b[0m\u001b[2m│   │   │   │   │   \u001b[0mlayer_config,                                              \u001b[31m \u001b[0m\n",
            "\u001b[31m \u001b[0m   \u001b[2m357 \u001b[0m\u001b[2m│   │   │   │   │   \u001b[0mcustom_objects=custom_objects,                             \u001b[31m \u001b[0m\n",
            "\u001b[31m \u001b[0m   \u001b[2m358 \u001b[0m\u001b[2m│   │   │   │   \u001b[0m)                                                              \u001b[31m \u001b[0m\n",
            "\u001b[31m \u001b[0m \u001b[31m❱ \u001b[0m359 \u001b[2m│   │   │   \u001b[0m\u001b[1;4mmodel.add(layer)\u001b[0m                                                   \u001b[31m \u001b[0m\n",
            "\u001b[31m \u001b[0m   \u001b[2m360 \u001b[0m\u001b[2m│   │   \u001b[0m\u001b[94mif\u001b[0m (                                                                   \u001b[31m \u001b[0m\n",
            "\u001b[31m \u001b[0m   \u001b[2m361 \u001b[0m\u001b[2m│   │   │   \u001b[0m\u001b[95mnot\u001b[0m model._functional                                              \u001b[31m \u001b[0m\n",
            "\u001b[31m \u001b[0m   \u001b[2m362 \u001b[0m\u001b[2m│   │   │   \u001b[0m\u001b[95mand\u001b[0m \u001b[33m\"\u001b[0m\u001b[33mbuild_input_shape\u001b[0m\u001b[33m\"\u001b[0m \u001b[95min\u001b[0m \u001b[96mlocals\u001b[0m()                                \u001b[31m \u001b[0m\n",
            "\u001b[31m \u001b[0m                                                                                      \u001b[31m \u001b[0m\n",
            "\u001b[31m \u001b[0m \u001b[2;33m/usr/local/lib/python3.11/dist-packages/keras/src/models/\u001b[0m\u001b[1;33msequential.py\u001b[0m:\u001b[94m122\u001b[0m in \u001b[92madd\u001b[0m    \u001b[31m \u001b[0m\n",
            "\u001b[31m \u001b[0m                                                                                      \u001b[31m \u001b[0m\n",
            "\u001b[31m \u001b[0m   \u001b[2m119 \u001b[0m\u001b[2m│   │   \u001b[0m                                                                       \u001b[31m \u001b[0m\n",
            "\u001b[31m \u001b[0m   \u001b[2m120 \u001b[0m\u001b[2m│   │   \u001b[0m\u001b[96mself\u001b[0m._layers.append(layer)                                             \u001b[31m \u001b[0m\n",
            "\u001b[31m \u001b[0m   \u001b[2m121 \u001b[0m\u001b[2m│   │   \u001b[0m\u001b[94mif\u001b[0m rebuild:                                                            \u001b[31m \u001b[0m\n",
            "\u001b[31m \u001b[0m \u001b[31m❱ \u001b[0m122 \u001b[2m│   │   │   \u001b[0m\u001b[1;4;96mself\u001b[0m\u001b[1;4m._maybe_rebuild()\u001b[0m                                              \u001b[31m \u001b[0m\n",
            "\u001b[31m \u001b[0m   \u001b[2m123 \u001b[0m\u001b[2m│   │   \u001b[0m\u001b[94melse\u001b[0m:                                                                  \u001b[31m \u001b[0m\n",
            "\u001b[31m \u001b[0m   \u001b[2m124 \u001b[0m\u001b[2m│   │   │   \u001b[0m\u001b[96mself\u001b[0m.built = \u001b[94mFalse\u001b[0m                                                 \u001b[31m \u001b[0m\n",
            "\u001b[31m \u001b[0m   \u001b[2m125 \u001b[0m\u001b[2m│   │   │   \u001b[0m\u001b[96mself\u001b[0m._functional = \u001b[94mNone\u001b[0m                                            \u001b[31m \u001b[0m\n",
            "\u001b[31m \u001b[0m                                                                                      \u001b[31m \u001b[0m\n",
            "\u001b[31m \u001b[0m \u001b[2;33m/usr/local/lib/python3.11/dist-packages/keras/src/models/\u001b[0m\u001b[1;33msequential.py\u001b[0m:\u001b[94m141\u001b[0m in        \u001b[31m \u001b[0m\n",
            "\u001b[31m \u001b[0m \u001b[92m_maybe_rebuild\u001b[0m                                                                       \u001b[31m \u001b[0m\n",
            "\u001b[31m \u001b[0m                                                                                      \u001b[31m \u001b[0m\n",
            "\u001b[31m \u001b[0m   \u001b[2m138 \u001b[0m\u001b[2m│   │   \u001b[0m\u001b[96mself\u001b[0m._functional = \u001b[94mNone\u001b[0m                                                \u001b[31m \u001b[0m\n",
            "\u001b[31m \u001b[0m   \u001b[2m139 \u001b[0m\u001b[2m│   │   \u001b[0m\u001b[94mif\u001b[0m \u001b[96misinstance\u001b[0m(\u001b[96mself\u001b[0m._layers[\u001b[94m0\u001b[0m], InputLayer) \u001b[95mand\u001b[0m \u001b[96mlen\u001b[0m(\u001b[96mself\u001b[0m._layers) > \u001b[94m1\u001b[0m:  \u001b[31m \u001b[0m\n",
            "\u001b[31m \u001b[0m   \u001b[2m140 \u001b[0m\u001b[2m│   │   │   \u001b[0minput_shape = \u001b[96mself\u001b[0m._layers[\u001b[94m0\u001b[0m].batch_shape                          \u001b[31m \u001b[0m\n",
            "\u001b[31m \u001b[0m \u001b[31m❱ \u001b[0m141 \u001b[2m│   │   │   \u001b[0m\u001b[1;4;96mself\u001b[0m\u001b[1;4m.build(input_shape)\u001b[0m                                            \u001b[31m \u001b[0m\n",
            "\u001b[31m \u001b[0m   \u001b[2m142 \u001b[0m\u001b[2m│   │   \u001b[0m\u001b[94melif\u001b[0m \u001b[96mhasattr\u001b[0m(\u001b[96mself\u001b[0m._layers[\u001b[94m0\u001b[0m], \u001b[33m\"\u001b[0m\u001b[33minput_shape\u001b[0m\u001b[33m\"\u001b[0m) \u001b[95mand\u001b[0m \u001b[96mlen\u001b[0m(\u001b[96mself\u001b[0m._layers) > \u001b[94m1\u001b[0m \u001b[31m \u001b[0m\n",
            "\u001b[31m \u001b[0m   \u001b[2m143 \u001b[0m\u001b[2m│   │   │   \u001b[0m\u001b[2m# We can build the Sequential model if the first layer has the\u001b[0m     \u001b[31m \u001b[0m\n",
            "\u001b[31m \u001b[0m   \u001b[2m144 \u001b[0m\u001b[2m│   │   │   \u001b[0m\u001b[2m# `input_shape` property. This is most commonly found in Functiona\u001b[0m \u001b[31m \u001b[0m\n",
            "\u001b[31m \u001b[0m                                                                                      \u001b[31m \u001b[0m\n",
            "\u001b[31m \u001b[0m \u001b[2;33m/usr/local/lib/python3.11/dist-packages/keras/src/layers/\u001b[0m\u001b[1;33mlayer.py\u001b[0m:\u001b[94m226\u001b[0m in             \u001b[31m \u001b[0m\n",
            "\u001b[31m \u001b[0m \u001b[92mbuild_wrapper\u001b[0m                                                                        \u001b[31m \u001b[0m\n",
            "\u001b[31m \u001b[0m                                                                                      \u001b[31m \u001b[0m\n",
            "\u001b[31m \u001b[0m   \u001b[2m 223 \u001b[0m\u001b[2m│   │   \u001b[0m                                                                      \u001b[31m \u001b[0m\n",
            "\u001b[31m \u001b[0m   \u001b[2m 224 \u001b[0m\u001b[2m│   │   \u001b[0m\u001b[1;95m@wraps\u001b[0m(original_build_method)                                         \u001b[31m \u001b[0m\n",
            "\u001b[31m \u001b[0m   \u001b[2m 225 \u001b[0m\u001b[2m│   │   \u001b[0m\u001b[94mdef\u001b[0m\u001b[90m \u001b[0m\u001b[92mbuild_wrapper\u001b[0m(*args, **kwargs):                                   \u001b[31m \u001b[0m\n",
            "\u001b[31m \u001b[0m \u001b[31m❱ \u001b[0m 226 \u001b[2m│   │   │   \u001b[0m\u001b[1;4;94mwith\u001b[0m\u001b[1;4m obj._open_name_scope():\u001b[0m                                      \u001b[31m \u001b[0m\n",
            "\u001b[31m \u001b[0m   \u001b[2m 227 \u001b[0m\u001b[1;2;4m│   │   │   │   \u001b[0m\u001b[1;4mobj._path = current_path()\u001b[0m                                    \u001b[31m \u001b[0m\n",
            "\u001b[31m \u001b[0m   \u001b[2m 228 \u001b[0m\u001b[1;2;4m│   │   │   │   \u001b[0m\u001b[1;4moriginal_build_method(*args, **kwargs)\u001b[0m                        \u001b[31m \u001b[0m\n",
            "\u001b[31m \u001b[0m   \u001b[2m 229 \u001b[0m\u001b[2m│   │   │   \u001b[0m\u001b[2m# Record build config.\u001b[0m                                            \u001b[31m \u001b[0m\n",
            "\u001b[31m \u001b[0m                                                                                      \u001b[31m \u001b[0m\n",
            "\u001b[31m \u001b[0m \u001b[2;33m/usr/local/lib/python3.11/dist-packages/keras/src/backend/tensorflow/\u001b[0m\u001b[1;33mcore.py\u001b[0m:\u001b[94m664\u001b[0m in  \u001b[31m \u001b[0m\n",
            "\u001b[31m \u001b[0m \u001b[92m__exit__\u001b[0m                                                                             \u001b[31m \u001b[0m\n",
            "\u001b[31m \u001b[0m                                                                                      \u001b[31m \u001b[0m\n",
            "\u001b[31m \u001b[0m   \u001b[2m661 \u001b[0m\u001b[2m│   │   \u001b[0m\u001b[94mreturn\u001b[0m \u001b[96mself\u001b[0m                                                            \u001b[31m \u001b[0m\n",
            "\u001b[31m \u001b[0m   \u001b[2m662 \u001b[0m\u001b[2m│   \u001b[0m                                                                           \u001b[31m \u001b[0m\n",
            "\u001b[31m \u001b[0m   \u001b[2m663 \u001b[0m\u001b[2m│   \u001b[0m\u001b[94mdef\u001b[0m\u001b[90m \u001b[0m\u001b[92m__exit__\u001b[0m(\u001b[96mself\u001b[0m, *args, **kwargs):                                       \u001b[31m \u001b[0m\n",
            "\u001b[31m \u001b[0m \u001b[31m❱ \u001b[0m664 \u001b[2m│   │   \u001b[0m\u001b[1;4;96msuper\u001b[0m\u001b[1;4m().\u001b[0m\u001b[1;4;92m__exit__\u001b[0m\u001b[1;4m(*args, **kwargs)\u001b[0m                                      \u001b[31m \u001b[0m\n",
            "\u001b[31m \u001b[0m   \u001b[2m665 \u001b[0m\u001b[2m│   │   \u001b[0m\u001b[94mif\u001b[0m \u001b[96mself\u001b[0m._pop_on_exit:                                                  \u001b[31m \u001b[0m\n",
            "\u001b[31m \u001b[0m   \u001b[2m666 \u001b[0m\u001b[2m│   │   │   \u001b[0m\u001b[96mself\u001b[0m._tf_name_scope.\u001b[92m__exit__\u001b[0m(*args, **kwargs)                      \u001b[31m \u001b[0m\n",
            "\u001b[31m \u001b[0m   \u001b[2m667 \u001b[0m                                                                               \u001b[31m \u001b[0m\n",
            "\u001b[31m \u001b[0m                                                                                      \u001b[31m \u001b[0m\n",
            "\u001b[31m \u001b[0m \u001b[2;33m/usr/local/lib/python3.11/dist-packages/keras/src/backend/common/\u001b[0m\u001b[1;33mname_scope.py\u001b[0m:\u001b[94m61\u001b[0m in \u001b[31m \u001b[0m\n",
            "\u001b[31m \u001b[0m \u001b[92m__exit__\u001b[0m                                                                             \u001b[31m \u001b[0m\n",
            "\u001b[31m \u001b[0m                                                                                      \u001b[31m \u001b[0m\n",
            "\u001b[31m \u001b[0m   \u001b[2m58 \u001b[0m\u001b[2m│   │   │   \u001b[0mname_scope_stack = global_state.get_global_attribute(               \u001b[31m \u001b[0m\n",
            "\u001b[31m \u001b[0m   \u001b[2m59 \u001b[0m\u001b[2m│   │   │   │   \u001b[0m\u001b[33m\"\u001b[0m\u001b[33mname_scope_stack\u001b[0m\u001b[33m\"\u001b[0m                                              \u001b[31m \u001b[0m\n",
            "\u001b[31m \u001b[0m   \u001b[2m60 \u001b[0m\u001b[2m│   │   │   \u001b[0m)                                                                   \u001b[31m \u001b[0m\n",
            "\u001b[31m \u001b[0m \u001b[31m❱ \u001b[0m61 \u001b[2m│   │   │   \u001b[0m\u001b[1;4mname_scope_stack.pop()\u001b[0m                                              \u001b[31m \u001b[0m\n",
            "\u001b[31m \u001b[0m   \u001b[2m62 \u001b[0m                                                                                \u001b[31m \u001b[0m\n",
            "\u001b[31m \u001b[0m   \u001b[2m63 \u001b[0m                                                                                \u001b[31m \u001b[0m\n",
            "\u001b[31m \u001b[0m   \u001b[2m64 \u001b[0m\u001b[94mdef\u001b[0m\u001b[90m \u001b[0m\u001b[92mcurrent_path\u001b[0m():                                                             \u001b[31m \u001b[0m\n",
            "\u001b[31m────────────────────────────────────────────────────────────────────────────────────────\u001b[0m\n",
            "\u001b[1;91mIndexError: \u001b[0mpop from empty list\n",
            "WARNING:absl:Compiled the loaded model, but the compiled metrics have yet to be built. `model.compile_metrics` will be empty until you train or evaluate the model.\n",
            "WARNING:absl:Compiled the loaded model, but the compiled metrics have yet to be built. `model.compile_metrics` will be empty until you train or evaluate the model.\n",
            "WARNING:absl:Compiled the loaded model, but the compiled metrics have yet to be built. `model.compile_metrics` will be empty until you train or evaluate the model.\n",
            "WARNING:absl:Compiled the loaded model, but the compiled metrics have yet to be built. `model.compile_metrics` will be empty until you train or evaluate the model.\n",
            "WARNING:absl:Compiled the loaded model, but the compiled metrics have yet to be built. `model.compile_metrics` will be empty until you train or evaluate the model.\n",
            "\u001b[1m1/1\u001b[0m \u001b[32m━━━━━━━━━━━━━━━━━━━━\u001b[0m\u001b[37m\u001b[0m \u001b[1m0s\u001b[0m 223ms/step\n",
            "WARNING:absl:Compiled the loaded model, but the compiled metrics have yet to be built. `model.compile_metrics` will be empty until you train or evaluate the model.\n",
            "\u001b[31m──\u001b[0m\u001b[31m────────────────────────\u001b[0m\u001b[31m \u001b[0m\u001b[1;31mTraceback \u001b[0m\u001b[1;2;31m(most recent call last)\u001b[0m\u001b[31m \u001b[0m\u001b[31m─────────────────────────\u001b[0m\u001b[31m──\u001b[0m\n",
            "\u001b[31m \u001b[0m \u001b[2;33m/usr/local/lib/python3.11/dist-packages/keras/src/layers/\u001b[0m\u001b[1;33mlayer.py\u001b[0m:\u001b[94m228\u001b[0m in             \u001b[31m \u001b[0m\n",
            "\u001b[31m \u001b[0m \u001b[92mbuild_wrapper\u001b[0m                                                                        \u001b[31m \u001b[0m\n",
            "\u001b[31m \u001b[0m                                                                                      \u001b[31m \u001b[0m\n",
            "\u001b[31m \u001b[0m   \u001b[2m 225 \u001b[0m\u001b[2m│   │   \u001b[0m\u001b[94mdef\u001b[0m\u001b[90m \u001b[0m\u001b[92mbuild_wrapper\u001b[0m(*args, **kwargs):                                   \u001b[31m \u001b[0m\n",
            "\u001b[31m \u001b[0m   \u001b[2m 226 \u001b[0m\u001b[2m│   │   │   \u001b[0m\u001b[1;4;94mwith\u001b[0m\u001b[1;4m obj._open_name_scope():\u001b[0m                                      \u001b[31m \u001b[0m\n",
            "\u001b[31m \u001b[0m   \u001b[2m 227 \u001b[0m\u001b[1;2;4m│   │   │   │   \u001b[0m\u001b[1;4mobj._path = current_path()\u001b[0m                                    \u001b[31m \u001b[0m\n",
            "\u001b[31m \u001b[0m \u001b[31m❱ \u001b[0m 228 \u001b[1;2;4m│   │   │   │   \u001b[0m\u001b[1;4moriginal_build_method(*args, **kwargs)\u001b[0m                        \u001b[31m \u001b[0m\n",
            "\u001b[31m \u001b[0m   \u001b[2m 229 \u001b[0m\u001b[2m│   │   │   \u001b[0m\u001b[2m# Record build config.\u001b[0m                                            \u001b[31m \u001b[0m\n",
            "\u001b[31m \u001b[0m   \u001b[2m 230 \u001b[0m\u001b[2m│   │   │   \u001b[0msignature = inspect.signature(original_build_method)              \u001b[31m \u001b[0m\n",
            "\u001b[31m \u001b[0m   \u001b[2m 231 \u001b[0m\u001b[2m│   │   │   \u001b[0mobj._build_shapes_dict = signature.bind(*args, **kwargs).argument \u001b[31m \u001b[0m\n",
            "\u001b[31m \u001b[0m                                                                                      \u001b[31m \u001b[0m\n",
            "\u001b[31m \u001b[0m \u001b[2;33m/usr/local/lib/python3.11/dist-packages/keras/src/models/\u001b[0m\u001b[1;33msequential.py\u001b[0m:\u001b[94m187\u001b[0m in \u001b[92mbuild\u001b[0m  \u001b[31m \u001b[0m\n",
            "\u001b[31m \u001b[0m                                                                                      \u001b[31m \u001b[0m\n",
            "\u001b[31m \u001b[0m   \u001b[2m184 \u001b[0m\u001b[2m│   │   \u001b[0mx = inputs                                                             \u001b[31m \u001b[0m\n",
            "\u001b[31m \u001b[0m   \u001b[2m185 \u001b[0m\u001b[2m│   │   \u001b[0m\u001b[94mfor\u001b[0m layer \u001b[95min\u001b[0m \u001b[96mself\u001b[0m._layers[\u001b[94m1\u001b[0m:]:                                         \u001b[31m \u001b[0m\n",
            "\u001b[31m \u001b[0m   \u001b[2m186 \u001b[0m\u001b[2m│   │   │   \u001b[0m\u001b[94mtry\u001b[0m:                                                               \u001b[31m \u001b[0m\n",
            "\u001b[31m \u001b[0m \u001b[31m❱ \u001b[0m187 \u001b[2m│   │   │   │   \u001b[0mx = layer(x)                                                   \u001b[31m \u001b[0m\n",
            "\u001b[31m \u001b[0m   \u001b[2m188 \u001b[0m\u001b[2m│   │   │   \u001b[0m\u001b[94mexcept\u001b[0m \u001b[96mNotImplementedError\u001b[0m:                                        \u001b[31m \u001b[0m\n",
            "\u001b[31m \u001b[0m   \u001b[2m189 \u001b[0m\u001b[2m│   │   │   │   \u001b[0m\u001b[2m# Can happen if shape inference is not implemented.\u001b[0m            \u001b[31m \u001b[0m\n",
            "\u001b[31m \u001b[0m   \u001b[2m190 \u001b[0m\u001b[2m│   │   │   │   \u001b[0m\u001b[2m# TODO: consider reverting inbound nodes on layers processed.\u001b[0m  \u001b[31m \u001b[0m\n",
            "\u001b[31m \u001b[0m                                                                                      \u001b[31m \u001b[0m\n",
            "\u001b[31m \u001b[0m \u001b[2;33m/usr/local/lib/python3.11/dist-packages/keras/src/utils/\u001b[0m\u001b[1;33mtraceback_utils.py\u001b[0m:\u001b[94m122\u001b[0m in    \u001b[31m \u001b[0m\n",
            "\u001b[31m \u001b[0m \u001b[92merror_handler\u001b[0m                                                                        \u001b[31m \u001b[0m\n",
            "\u001b[31m \u001b[0m                                                                                      \u001b[31m \u001b[0m\n",
            "\u001b[31m \u001b[0m   \u001b[2m119 \u001b[0m\u001b[2m│   │   │   \u001b[0mfiltered_tb = _process_traceback_frames(e.__traceback__)           \u001b[31m \u001b[0m\n",
            "\u001b[31m \u001b[0m   \u001b[2m120 \u001b[0m\u001b[2m│   │   │   \u001b[0m\u001b[2m# To get the full stack trace, call:\u001b[0m                               \u001b[31m \u001b[0m\n",
            "\u001b[31m \u001b[0m   \u001b[2m121 \u001b[0m\u001b[2m│   │   │   \u001b[0m\u001b[2m# `keras.config.disable_traceback_filtering()`\u001b[0m                     \u001b[31m \u001b[0m\n",
            "\u001b[31m \u001b[0m \u001b[31m❱ \u001b[0m122 \u001b[2m│   │   │   \u001b[0m\u001b[94mraise\u001b[0m e.with_traceback(filtered_tb) \u001b[94mfrom\u001b[0m\u001b[90m \u001b[0m\u001b[94mNone\u001b[0m                      \u001b[31m \u001b[0m\n",
            "\u001b[31m \u001b[0m   \u001b[2m123 \u001b[0m\u001b[2m│   │   \u001b[0m\u001b[94mfinally\u001b[0m:                                                               \u001b[31m \u001b[0m\n",
            "\u001b[31m \u001b[0m   \u001b[2m124 \u001b[0m\u001b[2m│   │   │   \u001b[0m\u001b[1;4;94mdel\u001b[0m\u001b[1;4m filtered_tb\u001b[0m                                                    \u001b[31m \u001b[0m\n",
            "\u001b[31m \u001b[0m   \u001b[2m125 \u001b[0m                                                                               \u001b[31m \u001b[0m\n",
            "\u001b[31m \u001b[0m                                                                                      \u001b[31m \u001b[0m\n",
            "\u001b[31m \u001b[0m \u001b[2;33m/usr/local/lib/python3.11/dist-packages/keras/src/backend/common/\u001b[0m\u001b[1;33mname_scope.py\u001b[0m:\u001b[94m61\u001b[0m in \u001b[31m \u001b[0m\n",
            "\u001b[31m \u001b[0m \u001b[92m__exit__\u001b[0m                                                                             \u001b[31m \u001b[0m\n",
            "\u001b[31m \u001b[0m                                                                                      \u001b[31m \u001b[0m\n",
            "\u001b[31m \u001b[0m   \u001b[2m58 \u001b[0m\u001b[2m│   │   │   \u001b[0mname_scope_stack = global_state.get_global_attribute(               \u001b[31m \u001b[0m\n",
            "\u001b[31m \u001b[0m   \u001b[2m59 \u001b[0m\u001b[2m│   │   │   │   \u001b[0m\u001b[33m\"\u001b[0m\u001b[33mname_scope_stack\u001b[0m\u001b[33m\"\u001b[0m                                              \u001b[31m \u001b[0m\n",
            "\u001b[31m \u001b[0m   \u001b[2m60 \u001b[0m\u001b[2m│   │   │   \u001b[0m)                                                                   \u001b[31m \u001b[0m\n",
            "\u001b[31m \u001b[0m \u001b[31m❱ \u001b[0m61 \u001b[2m│   │   │   \u001b[0m\u001b[1;4mname_scope_stack.pop()\u001b[0m                                              \u001b[31m \u001b[0m\n",
            "\u001b[31m \u001b[0m   \u001b[2m62 \u001b[0m                                                                                \u001b[31m \u001b[0m\n",
            "\u001b[31m \u001b[0m   \u001b[2m63 \u001b[0m                                                                                \u001b[31m \u001b[0m\n",
            "\u001b[31m \u001b[0m   \u001b[2m64 \u001b[0m\u001b[94mdef\u001b[0m\u001b[90m \u001b[0m\u001b[92mcurrent_path\u001b[0m():                                                             \u001b[31m \u001b[0m\n",
            "\u001b[31m────────────────────────────────────────────────────────────────────────────────────────\u001b[0m\n",
            "\u001b[1;91mIndexError: \u001b[0mpop from empty list\n",
            "\n",
            "\u001b[3mDuring handling of the above exception, another exception occurred:\u001b[0m\n",
            "\n",
            "\u001b[31m──\u001b[0m\u001b[31m────────────────────────\u001b[0m\u001b[31m \u001b[0m\u001b[1;31mTraceback \u001b[0m\u001b[1;2;31m(most recent call last)\u001b[0m\u001b[31m \u001b[0m\u001b[31m─────────────────────────\u001b[0m\u001b[31m──\u001b[0m\n",
            "\u001b[31m \u001b[0m \u001b[2;33m/usr/local/lib/python3.11/dist-packages/streamlit/runtime/scriptrunner/\u001b[0m\u001b[1;33mexec_code.py\u001b[0m: \u001b[31m \u001b[0m\n",
            "\u001b[31m \u001b[0m \u001b[94m121\u001b[0m in \u001b[92mexec_func_with_error_handling\u001b[0m                                                 \u001b[31m \u001b[0m\n",
            "\u001b[31m \u001b[0m                                                                                      \u001b[31m \u001b[0m\n",
            "\u001b[31m \u001b[0m \u001b[2;33m/usr/local/lib/python3.11/dist-packages/streamlit/runtime/scriptrunner/\u001b[0m\u001b[1;33mscript_runner\u001b[0m \u001b[31m \u001b[0m\n",
            "\u001b[31m \u001b[0m \u001b[1;33m.py\u001b[0m:\u001b[94m645\u001b[0m in \u001b[92mcode_to_exec\u001b[0m                                                              \u001b[31m \u001b[0m\n",
            "\u001b[31m \u001b[0m                                                                                      \u001b[31m \u001b[0m\n",
            "\u001b[31m \u001b[0m \u001b[2;33m/content/\u001b[0m\u001b[1;33mplagiarism_app.py\u001b[0m:\u001b[94m8\u001b[0m in \u001b[92m<module>\u001b[0m                                             \u001b[31m \u001b[0m\n",
            "\u001b[31m \u001b[0m                                                                                      \u001b[31m \u001b[0m\n",
            "\u001b[31m \u001b[0m   \u001b[2m 5 \u001b[0m\u001b[94mimport\u001b[0m\u001b[90m \u001b[0m\u001b[4;96mre\u001b[0m                                                                       \u001b[31m \u001b[0m\n",
            "\u001b[31m \u001b[0m   \u001b[2m 6 \u001b[0m                                                                                \u001b[31m \u001b[0m\n",
            "\u001b[31m \u001b[0m   \u001b[2m 7 \u001b[0m\u001b[2m# Load model and tokenizer\u001b[0m                                                      \u001b[31m \u001b[0m\n",
            "\u001b[31m \u001b[0m \u001b[31m❱ \u001b[0m 8 model = \u001b[1;4mtf.keras.models.load_model(\u001b[0m\u001b[1;4;33m'\u001b[0m\u001b[1;4;33mbest_gru_model.h5\u001b[0m\u001b[1;4;33m'\u001b[0m\u001b[1;4m)\u001b[0m                         \u001b[31m \u001b[0m\n",
            "\u001b[31m \u001b[0m   \u001b[2m 9 \u001b[0mtokenizer = pickle.load(\u001b[96mopen\u001b[0m(\u001b[33m'\u001b[0m\u001b[33mtokenizer.pkl\u001b[0m\u001b[33m'\u001b[0m, \u001b[33m'\u001b[0m\u001b[33mrb\u001b[0m\u001b[33m'\u001b[0m))                            \u001b[31m \u001b[0m\n",
            "\u001b[31m \u001b[0m   \u001b[2m10 \u001b[0m                                                                                \u001b[31m \u001b[0m\n",
            "\u001b[31m \u001b[0m   \u001b[2m11 \u001b[0m\u001b[2m# Text preprocessing\u001b[0m                                                            \u001b[31m \u001b[0m\n",
            "\u001b[31m \u001b[0m                                                                                      \u001b[31m \u001b[0m\n",
            "\u001b[31m \u001b[0m \u001b[2;33m/usr/local/lib/python3.11/dist-packages/keras/src/saving/\u001b[0m\u001b[1;33msaving_api.py\u001b[0m:\u001b[94m196\u001b[0m in        \u001b[31m \u001b[0m\n",
            "\u001b[31m \u001b[0m \u001b[92mload_model\u001b[0m                                                                           \u001b[31m \u001b[0m\n",
            "\u001b[31m \u001b[0m                                                                                      \u001b[31m \u001b[0m\n",
            "\u001b[31m \u001b[0m   \u001b[2m193 \u001b[0m\u001b[2m│   │   │   \u001b[0msafe_mode=safe_mode,                                               \u001b[31m \u001b[0m\n",
            "\u001b[31m \u001b[0m   \u001b[2m194 \u001b[0m\u001b[2m│   │   \u001b[0m)                                                                      \u001b[31m \u001b[0m\n",
            "\u001b[31m \u001b[0m   \u001b[2m195 \u001b[0m\u001b[2m│   \u001b[0m\u001b[94mif\u001b[0m \u001b[96mstr\u001b[0m(filepath).endswith((\u001b[33m\"\u001b[0m\u001b[33m.h5\u001b[0m\u001b[33m\"\u001b[0m, \u001b[33m\"\u001b[0m\u001b[33m.hdf5\u001b[0m\u001b[33m\"\u001b[0m)):                               \u001b[31m \u001b[0m\n",
            "\u001b[31m \u001b[0m \u001b[31m❱ \u001b[0m196 \u001b[2m│   │   \u001b[0m\u001b[94mreturn\u001b[0m \u001b[1;4mlegacy_h5_format.load_model_from_hdf5(\u001b[0m                          \u001b[31m \u001b[0m\n",
            "\u001b[31m \u001b[0m   \u001b[2m197 \u001b[0m\u001b[1;2;4m│   │   │   \u001b[0m\u001b[1;4mfilepath, custom_objects=custom_objects, \u001b[0m\u001b[1;4;96mcompile\u001b[0m\u001b[1;4m=\u001b[0m\u001b[1;4;96mcompile\u001b[0m           \u001b[31m \u001b[0m\n",
            "\u001b[31m \u001b[0m   \u001b[2m198 \u001b[0m\u001b[1;2;4m│   │   \u001b[0m\u001b[1;4m)\u001b[0m                                                                      \u001b[31m \u001b[0m\n",
            "\u001b[31m \u001b[0m   \u001b[2m199 \u001b[0m\u001b[2m│   \u001b[0m\u001b[94melif\u001b[0m \u001b[96mstr\u001b[0m(filepath).endswith(\u001b[33m\"\u001b[0m\u001b[33m.keras\u001b[0m\u001b[33m\"\u001b[0m):                                     \u001b[31m \u001b[0m\n",
            "\u001b[31m \u001b[0m                                                                                      \u001b[31m \u001b[0m\n",
            "\u001b[31m \u001b[0m \u001b[2;33m/usr/local/lib/python3.11/dist-packages/keras/src/legacy/saving/\u001b[0m\u001b[1;33mlegacy_h5_format.py\u001b[0m: \u001b[31m \u001b[0m\n",
            "\u001b[31m \u001b[0m \u001b[94m133\u001b[0m in \u001b[92mload_model_from_hdf5\u001b[0m                                                          \u001b[31m \u001b[0m\n",
            "\u001b[31m \u001b[0m                                                                                      \u001b[31m \u001b[0m\n",
            "\u001b[31m \u001b[0m   \u001b[2m130 \u001b[0m\u001b[2m│   │   \u001b[0mmodel_config = json_utils.decode(model_config)                         \u001b[31m \u001b[0m\n",
            "\u001b[31m \u001b[0m   \u001b[2m131 \u001b[0m\u001b[2m│   │   \u001b[0m                                                                       \u001b[31m \u001b[0m\n",
            "\u001b[31m \u001b[0m   \u001b[2m132 \u001b[0m\u001b[2m│   │   \u001b[0m\u001b[94mwith\u001b[0m saving_options.keras_option_scope(use_legacy_config=\u001b[94mTrue\u001b[0m):        \u001b[31m \u001b[0m\n",
            "\u001b[31m \u001b[0m \u001b[31m❱ \u001b[0m133 \u001b[2m│   │   │   \u001b[0mmodel = saving_utils.model_from_config(                            \u001b[31m \u001b[0m\n",
            "\u001b[31m \u001b[0m   \u001b[2m134 \u001b[0m\u001b[2m│   │   │   │   \u001b[0mmodel_config, custom_objects=custom_objects                    \u001b[31m \u001b[0m\n",
            "\u001b[31m \u001b[0m   \u001b[2m135 \u001b[0m\u001b[2m│   │   │   \u001b[0m)                                                                  \u001b[31m \u001b[0m\n",
            "\u001b[31m \u001b[0m   \u001b[2m136 \u001b[0m                                                                               \u001b[31m \u001b[0m\n",
            "\u001b[31m \u001b[0m                                                                                      \u001b[31m \u001b[0m\n",
            "\u001b[31m \u001b[0m \u001b[2;33m/usr/local/lib/python3.11/dist-packages/keras/src/legacy/saving/\u001b[0m\u001b[1;33msaving_utils.py\u001b[0m:\u001b[94m85\u001b[0m   \u001b[31m \u001b[0m\n",
            "\u001b[31m \u001b[0m in \u001b[92mmodel_from_config\u001b[0m                                                                 \u001b[31m \u001b[0m\n",
            "\u001b[31m \u001b[0m                                                                                      \u001b[31m \u001b[0m\n",
            "\u001b[31m \u001b[0m   \u001b[2m 82 \u001b[0m\u001b[2m│   \u001b[0m\u001b[2m# Replace keras refs with keras\u001b[0m                                            \u001b[31m \u001b[0m\n",
            "\u001b[31m \u001b[0m   \u001b[2m 83 \u001b[0m\u001b[2m│   \u001b[0mconfig = _find_replace_nested_dict(config, \u001b[33m\"\u001b[0m\u001b[33mkeras.\u001b[0m\u001b[33m\"\u001b[0m, \u001b[33m\"\u001b[0m\u001b[33mkeras.\u001b[0m\u001b[33m\"\u001b[0m)             \u001b[31m \u001b[0m\n",
            "\u001b[31m \u001b[0m   \u001b[2m 84 \u001b[0m\u001b[2m│   \u001b[0m                                                                           \u001b[31m \u001b[0m\n",
            "\u001b[31m \u001b[0m \u001b[31m❱ \u001b[0m 85 \u001b[2m│   \u001b[0m\u001b[94mreturn\u001b[0m serialization.deserialize_keras_object(                             \u001b[31m \u001b[0m\n",
            "\u001b[31m \u001b[0m   \u001b[2m 86 \u001b[0m\u001b[2m│   │   \u001b[0mconfig,                                                                \u001b[31m \u001b[0m\n",
            "\u001b[31m \u001b[0m   \u001b[2m 87 \u001b[0m\u001b[2m│   │   \u001b[0mmodule_objects=MODULE_OBJECTS.ALL_OBJECTS,                             \u001b[31m \u001b[0m\n",
            "\u001b[31m \u001b[0m   \u001b[2m 88 \u001b[0m\u001b[2m│   │   \u001b[0mcustom_objects=custom_objects,                                         \u001b[31m \u001b[0m\n",
            "\u001b[31m \u001b[0m                                                                                      \u001b[31m \u001b[0m\n",
            "\u001b[31m \u001b[0m \u001b[2;33m/usr/local/lib/python3.11/dist-packages/keras/src/legacy/saving/\u001b[0m\u001b[1;33mserialization.py\u001b[0m:\u001b[94m495\u001b[0m \u001b[31m \u001b[0m\n",
            "\u001b[31m \u001b[0m in \u001b[92mdeserialize_keras_object\u001b[0m                                                          \u001b[31m \u001b[0m\n",
            "\u001b[31m \u001b[0m                                                                                      \u001b[31m \u001b[0m\n",
            "\u001b[31m \u001b[0m   \u001b[2m492 \u001b[0m\u001b[2m│   │   │   \u001b[0m)                                                                  \u001b[31m \u001b[0m\n",
            "\u001b[31m \u001b[0m   \u001b[2m493 \u001b[0m\u001b[2m│   │   │   \u001b[0m                                                                   \u001b[31m \u001b[0m\n",
            "\u001b[31m \u001b[0m   \u001b[2m494 \u001b[0m\u001b[2m│   │   │   \u001b[0m\u001b[94mif\u001b[0m \u001b[33m\"\u001b[0m\u001b[33mcustom_objects\u001b[0m\u001b[33m\"\u001b[0m \u001b[95min\u001b[0m arg_spec.args:                              \u001b[31m \u001b[0m\n",
            "\u001b[31m \u001b[0m \u001b[31m❱ \u001b[0m495 \u001b[2m│   │   │   │   \u001b[0mdeserialized_obj = \u001b[96mcls\u001b[0m.from_config(                            \u001b[31m \u001b[0m\n",
            "\u001b[31m \u001b[0m   \u001b[2m496 \u001b[0m\u001b[2m│   │   │   │   │   \u001b[0mcls_config,                                                \u001b[31m \u001b[0m\n",
            "\u001b[31m \u001b[0m   \u001b[2m497 \u001b[0m\u001b[2m│   │   │   │   │   \u001b[0mcustom_objects={                                           \u001b[31m \u001b[0m\n",
            "\u001b[31m \u001b[0m   \u001b[2m498 \u001b[0m\u001b[2m│   │   │   │   │   │   \u001b[0m**object_registration.GLOBAL_CUSTOM_OBJECTS,           \u001b[31m \u001b[0m\n",
            "\u001b[31m \u001b[0m                                                                                      \u001b[31m \u001b[0m\n",
            "\u001b[31m \u001b[0m \u001b[2;33m/usr/local/lib/python3.11/dist-packages/keras/src/models/\u001b[0m\u001b[1;33msequential.py\u001b[0m:\u001b[94m359\u001b[0m in        \u001b[31m \u001b[0m\n",
            "\u001b[31m \u001b[0m \u001b[92mfrom_config\u001b[0m                                                                          \u001b[31m \u001b[0m\n",
            "\u001b[31m \u001b[0m                                                                                      \u001b[31m \u001b[0m\n",
            "\u001b[31m \u001b[0m   \u001b[2m356 \u001b[0m\u001b[2m│   │   │   │   │   \u001b[0mlayer_config,                                              \u001b[31m \u001b[0m\n",
            "\u001b[31m \u001b[0m   \u001b[2m357 \u001b[0m\u001b[2m│   │   │   │   │   \u001b[0mcustom_objects=custom_objects,                             \u001b[31m \u001b[0m\n",
            "\u001b[31m \u001b[0m   \u001b[2m358 \u001b[0m\u001b[2m│   │   │   │   \u001b[0m)                                                              \u001b[31m \u001b[0m\n",
            "\u001b[31m \u001b[0m \u001b[31m❱ \u001b[0m359 \u001b[2m│   │   │   \u001b[0m\u001b[1;4mmodel.add(layer)\u001b[0m                                                   \u001b[31m \u001b[0m\n",
            "\u001b[31m \u001b[0m   \u001b[2m360 \u001b[0m\u001b[2m│   │   \u001b[0m\u001b[94mif\u001b[0m (                                                                   \u001b[31m \u001b[0m\n",
            "\u001b[31m \u001b[0m   \u001b[2m361 \u001b[0m\u001b[2m│   │   │   \u001b[0m\u001b[95mnot\u001b[0m model._functional                                              \u001b[31m \u001b[0m\n",
            "\u001b[31m \u001b[0m   \u001b[2m362 \u001b[0m\u001b[2m│   │   │   \u001b[0m\u001b[95mand\u001b[0m \u001b[33m\"\u001b[0m\u001b[33mbuild_input_shape\u001b[0m\u001b[33m\"\u001b[0m \u001b[95min\u001b[0m \u001b[96mlocals\u001b[0m()                                \u001b[31m \u001b[0m\n",
            "\u001b[31m \u001b[0m                                                                                      \u001b[31m \u001b[0m\n",
            "\u001b[31m \u001b[0m \u001b[2;33m/usr/local/lib/python3.11/dist-packages/keras/src/models/\u001b[0m\u001b[1;33msequential.py\u001b[0m:\u001b[94m122\u001b[0m in \u001b[92madd\u001b[0m    \u001b[31m \u001b[0m\n",
            "\u001b[31m \u001b[0m                                                                                      \u001b[31m \u001b[0m\n",
            "\u001b[31m \u001b[0m   \u001b[2m119 \u001b[0m\u001b[2m│   │   \u001b[0m                                                                       \u001b[31m \u001b[0m\n",
            "\u001b[31m \u001b[0m   \u001b[2m120 \u001b[0m\u001b[2m│   │   \u001b[0m\u001b[96mself\u001b[0m._layers.append(layer)                                             \u001b[31m \u001b[0m\n",
            "\u001b[31m \u001b[0m   \u001b[2m121 \u001b[0m\u001b[2m│   │   \u001b[0m\u001b[94mif\u001b[0m rebuild:                                                            \u001b[31m \u001b[0m\n",
            "\u001b[31m \u001b[0m \u001b[31m❱ \u001b[0m122 \u001b[2m│   │   │   \u001b[0m\u001b[1;4;96mself\u001b[0m\u001b[1;4m._maybe_rebuild()\u001b[0m                                              \u001b[31m \u001b[0m\n",
            "\u001b[31m \u001b[0m   \u001b[2m123 \u001b[0m\u001b[2m│   │   \u001b[0m\u001b[94melse\u001b[0m:                                                                  \u001b[31m \u001b[0m\n",
            "\u001b[31m \u001b[0m   \u001b[2m124 \u001b[0m\u001b[2m│   │   │   \u001b[0m\u001b[96mself\u001b[0m.built = \u001b[94mFalse\u001b[0m                                                 \u001b[31m \u001b[0m\n",
            "\u001b[31m \u001b[0m   \u001b[2m125 \u001b[0m\u001b[2m│   │   │   \u001b[0m\u001b[96mself\u001b[0m._functional = \u001b[94mNone\u001b[0m                                            \u001b[31m \u001b[0m\n",
            "\u001b[31m \u001b[0m                                                                                      \u001b[31m \u001b[0m\n",
            "\u001b[31m \u001b[0m \u001b[2;33m/usr/local/lib/python3.11/dist-packages/keras/src/models/\u001b[0m\u001b[1;33msequential.py\u001b[0m:\u001b[94m141\u001b[0m in        \u001b[31m \u001b[0m\n",
            "\u001b[31m \u001b[0m \u001b[92m_maybe_rebuild\u001b[0m                                                                       \u001b[31m \u001b[0m\n",
            "\u001b[31m \u001b[0m                                                                                      \u001b[31m \u001b[0m\n",
            "\u001b[31m \u001b[0m   \u001b[2m138 \u001b[0m\u001b[2m│   │   \u001b[0m\u001b[96mself\u001b[0m._functional = \u001b[94mNone\u001b[0m                                                \u001b[31m \u001b[0m\n",
            "\u001b[31m \u001b[0m   \u001b[2m139 \u001b[0m\u001b[2m│   │   \u001b[0m\u001b[94mif\u001b[0m \u001b[96misinstance\u001b[0m(\u001b[96mself\u001b[0m._layers[\u001b[94m0\u001b[0m], InputLayer) \u001b[95mand\u001b[0m \u001b[96mlen\u001b[0m(\u001b[96mself\u001b[0m._layers) > \u001b[94m1\u001b[0m:  \u001b[31m \u001b[0m\n",
            "\u001b[31m \u001b[0m   \u001b[2m140 \u001b[0m\u001b[2m│   │   │   \u001b[0minput_shape = \u001b[96mself\u001b[0m._layers[\u001b[94m0\u001b[0m].batch_shape                          \u001b[31m \u001b[0m\n",
            "\u001b[31m \u001b[0m \u001b[31m❱ \u001b[0m141 \u001b[2m│   │   │   \u001b[0m\u001b[1;4;96mself\u001b[0m\u001b[1;4m.build(input_shape)\u001b[0m                                            \u001b[31m \u001b[0m\n",
            "\u001b[31m \u001b[0m   \u001b[2m142 \u001b[0m\u001b[2m│   │   \u001b[0m\u001b[94melif\u001b[0m \u001b[96mhasattr\u001b[0m(\u001b[96mself\u001b[0m._layers[\u001b[94m0\u001b[0m], \u001b[33m\"\u001b[0m\u001b[33minput_shape\u001b[0m\u001b[33m\"\u001b[0m) \u001b[95mand\u001b[0m \u001b[96mlen\u001b[0m(\u001b[96mself\u001b[0m._layers) > \u001b[94m1\u001b[0m \u001b[31m \u001b[0m\n",
            "\u001b[31m \u001b[0m   \u001b[2m143 \u001b[0m\u001b[2m│   │   │   \u001b[0m\u001b[2m# We can build the Sequential model if the first layer has the\u001b[0m     \u001b[31m \u001b[0m\n",
            "\u001b[31m \u001b[0m   \u001b[2m144 \u001b[0m\u001b[2m│   │   │   \u001b[0m\u001b[2m# `input_shape` property. This is most commonly found in Functiona\u001b[0m \u001b[31m \u001b[0m\n",
            "\u001b[31m \u001b[0m                                                                                      \u001b[31m \u001b[0m\n",
            "\u001b[31m \u001b[0m \u001b[2;33m/usr/local/lib/python3.11/dist-packages/keras/src/layers/\u001b[0m\u001b[1;33mlayer.py\u001b[0m:\u001b[94m226\u001b[0m in             \u001b[31m \u001b[0m\n",
            "\u001b[31m \u001b[0m \u001b[92mbuild_wrapper\u001b[0m                                                                        \u001b[31m \u001b[0m\n",
            "\u001b[31m \u001b[0m                                                                                      \u001b[31m \u001b[0m\n",
            "\u001b[31m \u001b[0m   \u001b[2m 223 \u001b[0m\u001b[2m│   │   \u001b[0m                                                                      \u001b[31m \u001b[0m\n",
            "\u001b[31m \u001b[0m   \u001b[2m 224 \u001b[0m\u001b[2m│   │   \u001b[0m\u001b[1;95m@wraps\u001b[0m(original_build_method)                                         \u001b[31m \u001b[0m\n",
            "\u001b[31m \u001b[0m   \u001b[2m 225 \u001b[0m\u001b[2m│   │   \u001b[0m\u001b[94mdef\u001b[0m\u001b[90m \u001b[0m\u001b[92mbuild_wrapper\u001b[0m(*args, **kwargs):                                   \u001b[31m \u001b[0m\n",
            "\u001b[31m \u001b[0m \u001b[31m❱ \u001b[0m 226 \u001b[2m│   │   │   \u001b[0m\u001b[1;4;94mwith\u001b[0m\u001b[1;4m obj._open_name_scope():\u001b[0m                                      \u001b[31m \u001b[0m\n",
            "\u001b[31m \u001b[0m   \u001b[2m 227 \u001b[0m\u001b[1;2;4m│   │   │   │   \u001b[0m\u001b[1;4mobj._path = current_path()\u001b[0m                                    \u001b[31m \u001b[0m\n",
            "\u001b[31m \u001b[0m   \u001b[2m 228 \u001b[0m\u001b[1;2;4m│   │   │   │   \u001b[0m\u001b[1;4moriginal_build_method(*args, **kwargs)\u001b[0m                        \u001b[31m \u001b[0m\n",
            "\u001b[31m \u001b[0m   \u001b[2m 229 \u001b[0m\u001b[2m│   │   │   \u001b[0m\u001b[2m# Record build config.\u001b[0m                                            \u001b[31m \u001b[0m\n",
            "\u001b[31m \u001b[0m                                                                                      \u001b[31m \u001b[0m\n",
            "\u001b[31m \u001b[0m \u001b[2;33m/usr/local/lib/python3.11/dist-packages/keras/src/backend/tensorflow/\u001b[0m\u001b[1;33mcore.py\u001b[0m:\u001b[94m664\u001b[0m in  \u001b[31m \u001b[0m\n",
            "\u001b[31m \u001b[0m \u001b[92m__exit__\u001b[0m                                                                             \u001b[31m \u001b[0m\n",
            "\u001b[31m \u001b[0m                                                                                      \u001b[31m \u001b[0m\n",
            "\u001b[31m \u001b[0m   \u001b[2m661 \u001b[0m\u001b[2m│   │   \u001b[0m\u001b[94mreturn\u001b[0m \u001b[96mself\u001b[0m                                                            \u001b[31m \u001b[0m\n",
            "\u001b[31m \u001b[0m   \u001b[2m662 \u001b[0m\u001b[2m│   \u001b[0m                                                                           \u001b[31m \u001b[0m\n",
            "\u001b[31m \u001b[0m   \u001b[2m663 \u001b[0m\u001b[2m│   \u001b[0m\u001b[94mdef\u001b[0m\u001b[90m \u001b[0m\u001b[92m__exit__\u001b[0m(\u001b[96mself\u001b[0m, *args, **kwargs):                                       \u001b[31m \u001b[0m\n",
            "\u001b[31m \u001b[0m \u001b[31m❱ \u001b[0m664 \u001b[2m│   │   \u001b[0m\u001b[1;4;96msuper\u001b[0m\u001b[1;4m().\u001b[0m\u001b[1;4;92m__exit__\u001b[0m\u001b[1;4m(*args, **kwargs)\u001b[0m                                      \u001b[31m \u001b[0m\n",
            "\u001b[31m \u001b[0m   \u001b[2m665 \u001b[0m\u001b[2m│   │   \u001b[0m\u001b[94mif\u001b[0m \u001b[96mself\u001b[0m._pop_on_exit:                                                  \u001b[31m \u001b[0m\n",
            "\u001b[31m \u001b[0m   \u001b[2m666 \u001b[0m\u001b[2m│   │   │   \u001b[0m\u001b[96mself\u001b[0m._tf_name_scope.\u001b[92m__exit__\u001b[0m(*args, **kwargs)                      \u001b[31m \u001b[0m\n",
            "\u001b[31m \u001b[0m   \u001b[2m667 \u001b[0m                                                                               \u001b[31m \u001b[0m\n",
            "\u001b[31m \u001b[0m                                                                                      \u001b[31m \u001b[0m\n",
            "\u001b[31m \u001b[0m \u001b[2;33m/usr/local/lib/python3.11/dist-packages/keras/src/backend/common/\u001b[0m\u001b[1;33mname_scope.py\u001b[0m:\u001b[94m61\u001b[0m in \u001b[31m \u001b[0m\n",
            "\u001b[31m \u001b[0m \u001b[92m__exit__\u001b[0m                                                                             \u001b[31m \u001b[0m\n",
            "\u001b[31m \u001b[0m                                                                                      \u001b[31m \u001b[0m\n",
            "\u001b[31m \u001b[0m   \u001b[2m58 \u001b[0m\u001b[2m│   │   │   \u001b[0mname_scope_stack = global_state.get_global_attribute(               \u001b[31m \u001b[0m\n",
            "\u001b[31m \u001b[0m   \u001b[2m59 \u001b[0m\u001b[2m│   │   │   │   \u001b[0m\u001b[33m\"\u001b[0m\u001b[33mname_scope_stack\u001b[0m\u001b[33m\"\u001b[0m                                              \u001b[31m \u001b[0m\n",
            "\u001b[31m \u001b[0m   \u001b[2m60 \u001b[0m\u001b[2m│   │   │   \u001b[0m)                                                                   \u001b[31m \u001b[0m\n",
            "\u001b[31m \u001b[0m \u001b[31m❱ \u001b[0m61 \u001b[2m│   │   │   \u001b[0m\u001b[1;4mname_scope_stack.pop()\u001b[0m                                              \u001b[31m \u001b[0m\n",
            "\u001b[31m \u001b[0m   \u001b[2m62 \u001b[0m                                                                                \u001b[31m \u001b[0m\n",
            "\u001b[31m \u001b[0m   \u001b[2m63 \u001b[0m                                                                                \u001b[31m \u001b[0m\n",
            "\u001b[31m \u001b[0m   \u001b[2m64 \u001b[0m\u001b[94mdef\u001b[0m\u001b[90m \u001b[0m\u001b[92mcurrent_path\u001b[0m():                                                             \u001b[31m \u001b[0m\n",
            "\u001b[31m────────────────────────────────────────────────────────────────────────────────────────\u001b[0m\n",
            "\u001b[1;91mIndexError: \u001b[0mpop from empty list\n",
            "WARNING:absl:Compiled the loaded model, but the compiled metrics have yet to be built. `model.compile_metrics` will be empty until you train or evaluate the model.\n",
            "WARNING:absl:Compiled the loaded model, but the compiled metrics have yet to be built. `model.compile_metrics` will be empty until you train or evaluate the model.\n",
            "WARNING:absl:Compiled the loaded model, but the compiled metrics have yet to be built. `model.compile_metrics` will be empty until you train or evaluate the model.\n",
            "WARNING:absl:Compiled the loaded model, but the compiled metrics have yet to be built. `model.compile_metrics` will be empty until you train or evaluate the model.\n",
            "WARNING:tensorflow:5 out of the last 5 calls to <function TensorFlowTrainer.make_predict_function.<locals>.one_step_on_data_distributed at 0x10f4cad31300> triggered tf.function retracing. Tracing is expensive and the excessive number of tracings could be due to (1) creating @tf.function repeatedly in a loop, (2) passing tensors with different shapes, (3) passing Python objects instead of tensors. For (1), please define your @tf.function outside of the loop. For (2), @tf.function has reduce_retracing=True option that can avoid unnecessary retracing. For (3), please refer to https://www.tensorflow.org/guide/function#controlling_retracing and https://www.tensorflow.org/api_docs/python/tf/function for  more details.\n",
            "WARNING:tensorflow:5 out of the last 5 calls to <function TensorFlowTrainer.make_predict_function.<locals>.one_step_on_data_distributed at 0x10f4cad31300> triggered tf.function retracing. Tracing is expensive and the excessive number of tracings could be due to (1) creating @tf.function repeatedly in a loop, (2) passing tensors with different shapes, (3) passing Python objects instead of tensors. For (1), please define your @tf.function outside of the loop. For (2), @tf.function has reduce_retracing=True option that can avoid unnecessary retracing. For (3), please refer to https://www.tensorflow.org/guide/function#controlling_retracing and https://www.tensorflow.org/api_docs/python/tf/function for  more details.\n",
            "\u001b[1m1/1\u001b[0m \u001b[32m━━━━━━━━━━━━━━━━━━━━\u001b[0m\u001b[37m\u001b[0m \u001b[1m0s\u001b[0m 224ms/step\n",
            "WARNING:absl:Compiled the loaded model, but the compiled metrics have yet to be built. `model.compile_metrics` will be empty until you train or evaluate the model.\n",
            "WARNING:absl:Compiled the loaded model, but the compiled metrics have yet to be built. `model.compile_metrics` will be empty until you train or evaluate the model.\n",
            "WARNING:absl:Compiled the loaded model, but the compiled metrics have yet to be built. `model.compile_metrics` will be empty until you train or evaluate the model.\n",
            "WARNING:tensorflow:6 out of the last 6 calls to <function TensorFlowTrainer.make_predict_function.<locals>.one_step_on_data_distributed at 0x10f4cad32f20> triggered tf.function retracing. Tracing is expensive and the excessive number of tracings could be due to (1) creating @tf.function repeatedly in a loop, (2) passing tensors with different shapes, (3) passing Python objects instead of tensors. For (1), please define your @tf.function outside of the loop. For (2), @tf.function has reduce_retracing=True option that can avoid unnecessary retracing. For (3), please refer to https://www.tensorflow.org/guide/function#controlling_retracing and https://www.tensorflow.org/api_docs/python/tf/function for  more details.\n",
            "WARNING:tensorflow:6 out of the last 6 calls to <function TensorFlowTrainer.make_predict_function.<locals>.one_step_on_data_distributed at 0x10f4cad32f20> triggered tf.function retracing. Tracing is expensive and the excessive number of tracings could be due to (1) creating @tf.function repeatedly in a loop, (2) passing tensors with different shapes, (3) passing Python objects instead of tensors. For (1), please define your @tf.function outside of the loop. For (2), @tf.function has reduce_retracing=True option that can avoid unnecessary retracing. For (3), please refer to https://www.tensorflow.org/guide/function#controlling_retracing and https://www.tensorflow.org/api_docs/python/tf/function for  more details.\n",
            "\u001b[1m1/1\u001b[0m \u001b[32m━━━━━━━━━━━━━━━━━━━━\u001b[0m\u001b[37m\u001b[0m \u001b[1m0s\u001b[0m 222ms/step\n",
            "WARNING:absl:Compiled the loaded model, but the compiled metrics have yet to be built. `model.compile_metrics` will be empty until you train or evaluate the model.\n",
            "WARNING:absl:Compiled the loaded model, but the compiled metrics have yet to be built. `model.compile_metrics` will be empty until you train or evaluate the model.\n",
            "\u001b[1m1/1\u001b[0m \u001b[32m━━━━━━━━━━━━━━━━━━━━\u001b[0m\u001b[37m\u001b[0m \u001b[1m0s\u001b[0m 246ms/step\n",
            "WARNING:absl:Compiled the loaded model, but the compiled metrics have yet to be built. `model.compile_metrics` will be empty until you train or evaluate the model.\n",
            "WARNING:absl:Compiled the loaded model, but the compiled metrics have yet to be built. `model.compile_metrics` will be empty until you train or evaluate the model.\n",
            "WARNING:absl:Compiled the loaded model, but the compiled metrics have yet to be built. `model.compile_metrics` will be empty until you train or evaluate the model.\n",
            "\u001b[1m1/1\u001b[0m \u001b[32m━━━━━━━━━━━━━━━━━━━━\u001b[0m\u001b[37m\u001b[0m \u001b[1m0s\u001b[0m 227ms/step\n",
            "WARNING:absl:Compiled the loaded model, but the compiled metrics have yet to be built. `model.compile_metrics` will be empty until you train or evaluate the model.\n",
            "WARNING:absl:Compiled the loaded model, but the compiled metrics have yet to be built. `model.compile_metrics` will be empty until you train or evaluate the model.\n",
            "\u001b[1m1/1\u001b[0m \u001b[32m━━━━━━━━━━━━━━━━━━━━\u001b[0m\u001b[37m\u001b[0m \u001b[1m0s\u001b[0m 219ms/step\n",
            "\u001b[34m  Stopping...\u001b[0m\n",
            "^C\n"
          ]
        }
      ]
    }
  ]
}
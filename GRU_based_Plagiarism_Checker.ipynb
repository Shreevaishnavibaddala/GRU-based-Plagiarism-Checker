{
  "nbformat": 4,
  "nbformat_minor": 0,
  "metadata": {
    "colab": {
      "provenance": [],
      "gpuType": "T4"
    },
    "kernelspec": {
      "name": "python3",
      "display_name": "Python 3"
    },
    "language_info": {
      "name": "python"
    },
    "accelerator": "GPU"
  },
  "cells": [
    {
      "cell_type": "code",
      "source": [
        "!pip install contractions"
      ],
      "metadata": {
        "colab": {
          "base_uri": "https://localhost:8080/"
        },
        "id": "RcHFavJtiBxq",
        "outputId": "7e349151-3978-4e55-9772-6080bc69f44f"
      },
      "execution_count": null,
      "outputs": [
        {
          "output_type": "stream",
          "name": "stdout",
          "text": [
            "Collecting contractions\n",
            "  Downloading contractions-0.1.73-py2.py3-none-any.whl.metadata (1.2 kB)\n",
            "Collecting textsearch>=0.0.21 (from contractions)\n",
            "  Downloading textsearch-0.0.24-py2.py3-none-any.whl.metadata (1.2 kB)\n",
            "Collecting anyascii (from textsearch>=0.0.21->contractions)\n",
            "  Downloading anyascii-0.3.2-py3-none-any.whl.metadata (1.5 kB)\n",
            "Collecting pyahocorasick (from textsearch>=0.0.21->contractions)\n",
            "  Downloading pyahocorasick-2.1.0-cp311-cp311-manylinux_2_17_x86_64.manylinux2014_x86_64.whl.metadata (13 kB)\n",
            "Downloading contractions-0.1.73-py2.py3-none-any.whl (8.7 kB)\n",
            "Downloading textsearch-0.0.24-py2.py3-none-any.whl (7.6 kB)\n",
            "Downloading anyascii-0.3.2-py3-none-any.whl (289 kB)\n",
            "\u001b[2K   \u001b[90m\u2501\u2501\u2501\u2501\u2501\u2501\u2501\u2501\u2501\u2501\u2501\u2501\u2501\u2501\u2501\u2501\u2501\u2501\u2501\u2501\u2501\u2501\u2501\u2501\u2501\u2501\u2501\u2501\u2501\u2501\u2501\u2501\u2501\u2501\u2501\u2501\u2501\u2501\u2501\u2501\u001b[0m \u001b[32m289.9/289.9 kB\u001b[0m \u001b[31m11.8 MB/s\u001b[0m eta \u001b[36m0:00:00\u001b[0m\n",
            "\u001b[?25hDownloading pyahocorasick-2.1.0-cp311-cp311-manylinux_2_17_x86_64.manylinux2014_x86_64.whl (118 kB)\n",
            "\u001b[2K   \u001b[90m\u2501\u2501\u2501\u2501\u2501\u2501\u2501\u2501\u2501\u2501\u2501\u2501\u2501\u2501\u2501\u2501\u2501\u2501\u2501\u2501\u2501\u2501\u2501\u2501\u2501\u2501\u2501\u2501\u2501\u2501\u2501\u2501\u2501\u2501\u2501\u2501\u2501\u2501\u2501\u2501\u001b[0m \u001b[32m118.3/118.3 kB\u001b[0m \u001b[31m13.2 MB/s\u001b[0m eta \u001b[36m0:00:00\u001b[0m\n",
            "\u001b[?25hInstalling collected packages: pyahocorasick, anyascii, textsearch, contractions\n",
            "Successfully installed anyascii-0.3.2 contractions-0.1.73 pyahocorasick-2.1.0 textsearch-0.0.24\n"
          ]
        }
      ]
    },
    {
      "cell_type": "code",
      "source": [
        "import re\n",
        "import csv\n",
        "import numpy as np\n",
        "import pandas as pd\n",
        "import nltk\n",
        "import spacy\n",
        "import contractions\n",
        "from nltk.corpus import stopwords\n",
        "import seaborn as sns\n",
        "import matplotlib.pyplot as plt\n",
        "from tqdm import tqdm, notebook as tqdm_notebook\n",
        "from gensim.models import Word2Vec\n",
        "import tensorflow as tf\n",
        "from tensorflow.keras.models import Sequential, Model\n",
        "from tensorflow.keras.layers import Input, Embedding, GRU, Dense, Dropout\n",
        "from tensorflow.keras.preprocessing.text import Tokenizer\n",
        "from tensorflow.keras.preprocessing.sequence import pad_sequences\n",
        "from tensorflow.keras.callbacks import EarlyStopping\n",
        "from tensorflow.keras.optimizers import Adam\n",
        "from sklearn.model_selection import train_test_split\n",
        "from sklearn.metrics import classification_report\n"
      ],
      "metadata": {
        "id": "j7mISKgCGqdK"
      },
      "execution_count": null,
      "outputs": []
    },
    {
      "cell_type": "markdown",
      "source": [
        "Prepare csv file from the txt file for ease of access"
      ],
      "metadata": {
        "id": "mzNZFYRTi5iT"
      }
    },
    {
      "cell_type": "code",
      "source": [
        "with open('/content/train_snli.txt') as file:\n",
        "    data = file.readlines()\n",
        "\n",
        "with open('data.csv', 'w', newline= '') as csvfile:\n",
        "    filenames = ['source_txt', 'plagiarism_txt', 'label']\n",
        "    writer = csv.DictWriter(csvfile, fieldnames=filenames)\n",
        "\n",
        "    writer.writeheader()\n",
        "    for line in tqdm(data):\n",
        "        parts = line.strip().split('\\t')\n",
        "        source_txt = parts[0]\n",
        "        plagiarism_txt = parts[1]\n",
        "        label = int(parts[2])\n",
        "\n",
        "        writer.writerow({\n",
        "            'source_txt' : source_txt,\n",
        "            'plagiarism_txt' : plagiarism_txt,\n",
        "            'label' : label\n",
        "        })"
      ],
      "metadata": {
        "colab": {
          "base_uri": "https://localhost:8080/",
          "height": 49,
          "referenced_widgets": [
            "041c62aadbfe44b6a662a429de990123",
            "0b3b381ec76445aaa136adb8726222fc",
            "ceb1c9d1513c4ae8962e2245d29ffd45",
            "1de64da0bb4d40328d20c7ae1c5eb826",
            "689a5b2b0c1f43619275a2f6a2983c45",
            "c93478f2562841429cc6fcea95bb2b2a",
            "85250ea9778e4572867bf30c8a8ff3b9",
            "760717d215764da3a04c0509317715e0",
            "9d30cc1283e640bd94ee57511e2533ee",
            "43a99569023c44179bdd865c59506e32",
            "5112772526494b66a80d8a9bb856cef6"
          ]
        },
        "id": "qG3Y9gSwiH-o",
        "outputId": "5caaadeb-d4be-4b93-cb0d-7de149f9a585"
      },
      "execution_count": null,
      "outputs": [
        {
          "output_type": "display_data",
          "data": {
            "text/plain": [
              "  0%|          | 0/367373 [00:00<?, ?it/s]"
            ],
            "application/vnd.jupyter.widget-view+json": {
              "version_major": 2,
              "version_minor": 0,
              "model_id": "041c62aadbfe44b6a662a429de990123"
            }
          },
          "metadata": {}
        }
      ]
    },
    {
      "cell_type": "markdown",
      "source": [
        "Explore dataset to check any abnormalities"
      ],
      "metadata": {
        "id": "6By7y26gjYHU"
      }
    },
    {
      "cell_type": "code",
      "source": [
        "df = pd.read_csv(\"data.csv\")\n",
        "df.head()"
      ],
      "metadata": {
        "colab": {
          "base_uri": "https://localhost:8080/",
          "height": 206
        },
        "id": "7BCgk7tcjOAq",
        "outputId": "680c2c07-74ac-4e9c-d291-5232397c21a9"
      },
      "execution_count": null,
      "outputs": [
        {
          "output_type": "execute_result",
          "data": {
            "text/plain": [
              "                                          source_txt  \\\n",
              "0  A person on a horse jumps over a broken down a...   \n",
              "1  A person on a horse jumps over a broken down a...   \n",
              "2              Children smiling and waving at camera   \n",
              "3              Children smiling and waving at camera   \n",
              "4  A boy is jumping on skateboard in the middle o...   \n",
              "\n",
              "                                  plagiarism_txt  label  \n",
              "0  A person is at a diner, ordering an omelette.      0  \n",
              "1              A person is outdoors, on a horse.      1  \n",
              "2                     There are children present      1  \n",
              "3                          The kids are frowning      0  \n",
              "4              The boy skates down the sidewalk.      0  "
            ],
            "text/html": [
              "\n",
              "  <div id=\"df-88689bc4-b012-4a10-b106-bb120cabefe6\" class=\"colab-df-container\">\n",
              "    <div>\n",
              "<style scoped>\n",
              "    .dataframe tbody tr th:only-of-type {\n",
              "        vertical-align: middle;\n",
              "    }\n",
              "\n",
              "    .dataframe tbody tr th {\n",
              "        vertical-align: top;\n",
              "    }\n",
              "\n",
              "    .dataframe thead th {\n",
              "        text-align: right;\n",
              "    }\n",
              "</style>\n",
              "<table border=\"1\" class=\"dataframe\">\n",
              "  <thead>\n",
              "    <tr style=\"text-align: right;\">\n",
              "      <th></th>\n",
              "      <th>source_txt</th>\n",
              "      <th>plagiarism_txt</th>\n",
              "      <th>label</th>\n",
              "    </tr>\n",
              "  </thead>\n",
              "  <tbody>\n",
              "    <tr>\n",
              "      <th>0</th>\n",
              "      <td>A person on a horse jumps over a broken down a...</td>\n",
              "      <td>A person is at a diner, ordering an omelette.</td>\n",
              "      <td>0</td>\n",
              "    </tr>\n",
              "    <tr>\n",
              "      <th>1</th>\n",
              "      <td>A person on a horse jumps over a broken down a...</td>\n",
              "      <td>A person is outdoors, on a horse.</td>\n",
              "      <td>1</td>\n",
              "    </tr>\n",
              "    <tr>\n",
              "      <th>2</th>\n",
              "      <td>Children smiling and waving at camera</td>\n",
              "      <td>There are children present</td>\n",
              "      <td>1</td>\n",
              "    </tr>\n",
              "    <tr>\n",
              "      <th>3</th>\n",
              "      <td>Children smiling and waving at camera</td>\n",
              "      <td>The kids are frowning</td>\n",
              "      <td>0</td>\n",
              "    </tr>\n",
              "    <tr>\n",
              "      <th>4</th>\n",
              "      <td>A boy is jumping on skateboard in the middle o...</td>\n",
              "      <td>The boy skates down the sidewalk.</td>\n",
              "      <td>0</td>\n",
              "    </tr>\n",
              "  </tbody>\n",
              "</table>\n",
              "</div>\n",
              "    <div class=\"colab-df-buttons\">\n",
              "\n",
              "  <div class=\"colab-df-container\">\n",
              "    <button class=\"colab-df-convert\" onclick=\"convertToInteractive('df-88689bc4-b012-4a10-b106-bb120cabefe6')\"\n",
              "            title=\"Convert this dataframe to an interactive table.\"\n",
              "            style=\"display:none;\">\n",
              "\n",
              "  <svg xmlns=\"http://www.w3.org/2000/svg\" height=\"24px\" viewBox=\"0 -960 960 960\">\n",
              "    <path d=\"M120-120v-720h720v720H120Zm60-500h600v-160H180v160Zm220 220h160v-160H400v160Zm0 220h160v-160H400v160ZM180-400h160v-160H180v160Zm440 0h160v-160H620v160ZM180-180h160v-160H180v160Zm440 0h160v-160H620v160Z\"/>\n",
              "  </svg>\n",
              "    </button>\n",
              "\n",
              "  <style>\n",
              "    .colab-df-container {\n",
              "      display:flex;\n",
              "      gap: 12px;\n",
              "    }\n",
              "\n",
              "    .colab-df-convert {\n",
              "      background-color: #E8F0FE;\n",
              "      border: none;\n",
              "      border-radius: 50%;\n",
              "      cursor: pointer;\n",
              "      display: none;\n",
              "      fill: #1967D2;\n",
              "      height: 32px;\n",
              "      padding: 0 0 0 0;\n",
              "      width: 32px;\n",
              "    }\n",
              "\n",
              "    .colab-df-convert:hover {\n",
              "      background-color: #E2EBFA;\n",
              "      box-shadow: 0px 1px 2px rgba(60, 64, 67, 0.3), 0px 1px 3px 1px rgba(60, 64, 67, 0.15);\n",
              "      fill: #174EA6;\n",
              "    }\n",
              "\n",
              "    .colab-df-buttons div {\n",
              "      margin-bottom: 4px;\n",
              "    }\n",
              "\n",
              "    [theme=dark] .colab-df-convert {\n",
              "      background-color: #3B4455;\n",
              "      fill: #D2E3FC;\n",
              "    }\n",
              "\n",
              "    [theme=dark] .colab-df-convert:hover {\n",
              "      background-color: #434B5C;\n",
              "      box-shadow: 0px 1px 3px 1px rgba(0, 0, 0, 0.15);\n",
              "      filter: drop-shadow(0px 1px 2px rgba(0, 0, 0, 0.3));\n",
              "      fill: #FFFFFF;\n",
              "    }\n",
              "  </style>\n",
              "\n",
              "    <script>\n",
              "      const buttonEl =\n",
              "        document.querySelector('#df-88689bc4-b012-4a10-b106-bb120cabefe6 button.colab-df-convert');\n",
              "      buttonEl.style.display =\n",
              "        google.colab.kernel.accessAllowed ? 'block' : 'none';\n",
              "\n",
              "      async function convertToInteractive(key) {\n",
              "        const element = document.querySelector('#df-88689bc4-b012-4a10-b106-bb120cabefe6');\n",
              "        const dataTable =\n",
              "          await google.colab.kernel.invokeFunction('convertToInteractive',\n",
              "                                                    [key], {});\n",
              "        if (!dataTable) return;\n",
              "\n",
              "        const docLinkHtml = 'Like what you see? Visit the ' +\n",
              "          '<a target=\"_blank\" href=https://colab.research.google.com/notebooks/data_table.ipynb>data table notebook</a>'\n",
              "          + ' to learn more about interactive tables.';\n",
              "        element.innerHTML = '';\n",
              "        dataTable['output_type'] = 'display_data';\n",
              "        await google.colab.output.renderOutput(dataTable, element);\n",
              "        const docLink = document.createElement('div');\n",
              "        docLink.innerHTML = docLinkHtml;\n",
              "        element.appendChild(docLink);\n",
              "      }\n",
              "    </script>\n",
              "  </div>\n",
              "\n",
              "\n",
              "    <div id=\"df-a4bad580-5ae6-499e-bbe3-36301c086fbc\">\n",
              "      <button class=\"colab-df-quickchart\" onclick=\"quickchart('df-a4bad580-5ae6-499e-bbe3-36301c086fbc')\"\n",
              "                title=\"Suggest charts\"\n",
              "                style=\"display:none;\">\n",
              "\n",
              "<svg xmlns=\"http://www.w3.org/2000/svg\" height=\"24px\"viewBox=\"0 0 24 24\"\n",
              "     width=\"24px\">\n",
              "    <g>\n",
              "        <path d=\"M19 3H5c-1.1 0-2 .9-2 2v14c0 1.1.9 2 2 2h14c1.1 0 2-.9 2-2V5c0-1.1-.9-2-2-2zM9 17H7v-7h2v7zm4 0h-2V7h2v10zm4 0h-2v-4h2v4z\"/>\n",
              "    </g>\n",
              "</svg>\n",
              "      </button>\n",
              "\n",
              "<style>\n",
              "  .colab-df-quickchart {\n",
              "      --bg-color: #E8F0FE;\n",
              "      --fill-color: #1967D2;\n",
              "      --hover-bg-color: #E2EBFA;\n",
              "      --hover-fill-color: #174EA6;\n",
              "      --disabled-fill-color: #AAA;\n",
              "      --disabled-bg-color: #DDD;\n",
              "  }\n",
              "\n",
              "  [theme=dark] .colab-df-quickchart {\n",
              "      --bg-color: #3B4455;\n",
              "      --fill-color: #D2E3FC;\n",
              "      --hover-bg-color: #434B5C;\n",
              "      --hover-fill-color: #FFFFFF;\n",
              "      --disabled-bg-color: #3B4455;\n",
              "      --disabled-fill-color: #666;\n",
              "  }\n",
              "\n",
              "  .colab-df-quickchart {\n",
              "    background-color: var(--bg-color);\n",
              "    border: none;\n",
              "    border-radius: 50%;\n",
              "    cursor: pointer;\n",
              "    display: none;\n",
              "    fill: var(--fill-color);\n",
              "    height: 32px;\n",
              "    padding: 0;\n",
              "    width: 32px;\n",
              "  }\n",
              "\n",
              "  .colab-df-quickchart:hover {\n",
              "    background-color: var(--hover-bg-color);\n",
              "    box-shadow: 0 1px 2px rgba(60, 64, 67, 0.3), 0 1px 3px 1px rgba(60, 64, 67, 0.15);\n",
              "    fill: var(--button-hover-fill-color);\n",
              "  }\n",
              "\n",
              "  .colab-df-quickchart-complete:disabled,\n",
              "  .colab-df-quickchart-complete:disabled:hover {\n",
              "    background-color: var(--disabled-bg-color);\n",
              "    fill: var(--disabled-fill-color);\n",
              "    box-shadow: none;\n",
              "  }\n",
              "\n",
              "  .colab-df-spinner {\n",
              "    border: 2px solid var(--fill-color);\n",
              "    border-color: transparent;\n",
              "    border-bottom-color: var(--fill-color);\n",
              "    animation:\n",
              "      spin 1s steps(1) infinite;\n",
              "  }\n",
              "\n",
              "  @keyframes spin {\n",
              "    0% {\n",
              "      border-color: transparent;\n",
              "      border-bottom-color: var(--fill-color);\n",
              "      border-left-color: var(--fill-color);\n",
              "    }\n",
              "    20% {\n",
              "      border-color: transparent;\n",
              "      border-left-color: var(--fill-color);\n",
              "      border-top-color: var(--fill-color);\n",
              "    }\n",
              "    30% {\n",
              "      border-color: transparent;\n",
              "      border-left-color: var(--fill-color);\n",
              "      border-top-color: var(--fill-color);\n",
              "      border-right-color: var(--fill-color);\n",
              "    }\n",
              "    40% {\n",
              "      border-color: transparent;\n",
              "      border-right-color: var(--fill-color);\n",
              "      border-top-color: var(--fill-color);\n",
              "    }\n",
              "    60% {\n",
              "      border-color: transparent;\n",
              "      border-right-color: var(--fill-color);\n",
              "    }\n",
              "    80% {\n",
              "      border-color: transparent;\n",
              "      border-right-color: var(--fill-color);\n",
              "      border-bottom-color: var(--fill-color);\n",
              "    }\n",
              "    90% {\n",
              "      border-color: transparent;\n",
              "      border-bottom-color: var(--fill-color);\n",
              "    }\n",
              "  }\n",
              "</style>\n",
              "\n",
              "      <script>\n",
              "        async function quickchart(key) {\n",
              "          const quickchartButtonEl =\n",
              "            document.querySelector('#' + key + ' button');\n",
              "          quickchartButtonEl.disabled = true;  // To prevent multiple clicks.\n",
              "          quickchartButtonEl.classList.add('colab-df-spinner');\n",
              "          try {\n",
              "            const charts = await google.colab.kernel.invokeFunction(\n",
              "                'suggestCharts', [key], {});\n",
              "          } catch (error) {\n",
              "            console.error('Error during call to suggestCharts:', error);\n",
              "          }\n",
              "          quickchartButtonEl.classList.remove('colab-df-spinner');\n",
              "          quickchartButtonEl.classList.add('colab-df-quickchart-complete');\n",
              "        }\n",
              "        (() => {\n",
              "          let quickchartButtonEl =\n",
              "            document.querySelector('#df-a4bad580-5ae6-499e-bbe3-36301c086fbc button');\n",
              "          quickchartButtonEl.style.display =\n",
              "            google.colab.kernel.accessAllowed ? 'block' : 'none';\n",
              "        })();\n",
              "      </script>\n",
              "    </div>\n",
              "\n",
              "    </div>\n",
              "  </div>\n"
            ],
            "application/vnd.google.colaboratory.intrinsic+json": {
              "type": "dataframe",
              "variable_name": "df"
            }
          },
          "metadata": {},
          "execution_count": 14
        }
      ]
    },
    {
      "cell_type": "code",
      "source": [
        "df.shape"
      ],
      "metadata": {
        "colab": {
          "base_uri": "https://localhost:8080/"
        },
        "id": "KvbSZYPbjg94",
        "outputId": "49464be5-8615-487a-9cda-69711810fb4a"
      },
      "execution_count": null,
      "outputs": [
        {
          "output_type": "execute_result",
          "data": {
            "text/plain": [
              "(367373, 3)"
            ]
          },
          "metadata": {},
          "execution_count": 15
        }
      ]
    },
    {
      "cell_type": "markdown",
      "source": [
        "Remove missing values"
      ],
      "metadata": {
        "id": "iPLSQsRqjzJq"
      }
    },
    {
      "cell_type": "code",
      "source": [
        "print(\"Null values count\",df.isnull().sum())"
      ],
      "metadata": {
        "colab": {
          "base_uri": "https://localhost:8080/"
        },
        "id": "f19jw2kkjr1j",
        "outputId": "8299e4d8-3f6f-4876-c9f6-280cdb4ac82b"
      },
      "execution_count": null,
      "outputs": [
        {
          "output_type": "stream",
          "name": "stdout",
          "text": [
            "Null values count source_txt        0\n",
            "plagiarism_txt    4\n",
            "label             0\n",
            "dtype: int64\n"
          ]
        }
      ]
    },
    {
      "cell_type": "code",
      "source": [
        "null_rows = df[df.isnull().any(axis=1)]\n",
        "print(null_rows)"
      ],
      "metadata": {
        "colab": {
          "base_uri": "https://localhost:8080/"
        },
        "id": "2mdrZNTJlTmy",
        "outputId": "9a430e07-ca29-49b0-d2bd-f986cf838a3f"
      },
      "execution_count": null,
      "outputs": [
        {
          "output_type": "stream",
          "name": "stdout",
          "text": [
            "                                       source_txt plagiarism_txt  label\n",
            "61111             Cannot see picture to describe.            NaN      1\n",
            "61112             Cannot see picture to describe.            NaN      0\n",
            "207766  Jumping with purple balls is so much fun!            NaN      0\n",
            "207767  Jumping with purple balls is so much fun!            NaN      1\n"
          ]
        }
      ]
    },
    {
      "cell_type": "code",
      "source": [
        "df.dropna(inplace=True)\n",
        "print(\"Null values count:\",df.isnull().sum())"
      ],
      "metadata": {
        "colab": {
          "base_uri": "https://localhost:8080/"
        },
        "id": "uD5ul0i4jxfm",
        "outputId": "03c37f82-b166-41e9-b3d3-bece8e562274"
      },
      "execution_count": null,
      "outputs": [
        {
          "output_type": "stream",
          "name": "stdout",
          "text": [
            "Null values count: source_txt        0\n",
            "plagiarism_txt    0\n",
            "label             0\n",
            "dtype: int64\n"
          ]
        }
      ]
    },
    {
      "cell_type": "markdown",
      "source": [
        "Remove duplicates"
      ],
      "metadata": {
        "id": "C5sxqv6rk4e2"
      }
    },
    {
      "cell_type": "code",
      "source": [
        "print(\"Duplicates count:\", df.duplicated().sum())\n",
        "\n"
      ],
      "metadata": {
        "colab": {
          "base_uri": "https://localhost:8080/"
        },
        "id": "RSP9Oev9kyC6",
        "outputId": "52d96cd0-4503-4133-82fa-71a854878d0e"
      },
      "execution_count": null,
      "outputs": [
        {
          "output_type": "stream",
          "name": "stdout",
          "text": [
            "Duplicates count: 454\n"
          ]
        }
      ]
    },
    {
      "cell_type": "code",
      "source": [
        "duplicated_rows = df[df.duplicated(keep=False)]\n",
        "\n",
        "print(duplicated_rows.head())\n"
      ],
      "metadata": {
        "colab": {
          "base_uri": "https://localhost:8080/"
        },
        "id": "3gjTy32Sk7oE",
        "outputId": "b6909159-a64b-4b00-eed9-3d6717c324bb"
      },
      "execution_count": null,
      "outputs": [
        {
          "output_type": "stream",
          "name": "stdout",
          "text": [
            "                                           source_txt          plagiarism_txt  \\\n",
            "1275      Child in red and blue shirt painting a log.  The child is painting.   \n",
            "1279      Child in red and blue shirt painting a log.  The child is painting.   \n",
            "1724       Two small dogs run across the green grass.   Two dogs are outside.   \n",
            "1726       Two small dogs run across the green grass.   Two dogs are outside.   \n",
            "1951  A young woman is drawing with a Sharpie marker.     A woman is drawing.   \n",
            "\n",
            "      label  \n",
            "1275      1  \n",
            "1279      1  \n",
            "1724      1  \n",
            "1726      1  \n",
            "1951      1  \n"
          ]
        }
      ]
    },
    {
      "cell_type": "code",
      "source": [
        "df.drop_duplicates(inplace=True)\n",
        "print(\"Duplicates count:\",df.duplicated().sum())"
      ],
      "metadata": {
        "colab": {
          "base_uri": "https://localhost:8080/"
        },
        "id": "IdOKNTlumoal",
        "outputId": "85b3b96d-f0e2-4698-e822-2132ed5e66db"
      },
      "execution_count": null,
      "outputs": [
        {
          "output_type": "stream",
          "name": "stdout",
          "text": [
            "Duplicates count: 0\n"
          ]
        }
      ]
    },
    {
      "cell_type": "markdown",
      "source": [
        "Check data distribution"
      ],
      "metadata": {
        "id": "gMmOJeh2mznv"
      }
    },
    {
      "cell_type": "code",
      "source": [
        "print(df['label'].value_counts())\n",
        "\n",
        "df['label'].value_counts().plot.pie(labels=['No Plag', 'Plag'],\n",
        "                                    colors=['violet','green'],\n",
        "                                    autopct='%1.1f%%',\n",
        "                                    startangle=90,\n",
        "                                    textprops={'color':'black'})\n",
        "plt.title('Data Distribution')\n",
        "plt.ylabel('')\n",
        "plt.show()"
      ],
      "metadata": {
        "colab": {
          "base_uri": "https://localhost:8080/",
          "height": 497
        },
        "id": "Q_jIodwGmy8v",
        "outputId": "018a7c58-1ea5-43ac-b9ce-779ee8fb1e38"
      },
      "execution_count": null,
      "outputs": [
        {
          "output_type": "stream",
          "name": "stdout",
          "text": [
            "label\n",
            "0    183874\n",
            "1    183041\n",
            "Name: count, dtype: int64\n"
          ]
        },
        {
          "output_type": "display_data",
          "data": {
            "text/plain": [
              "<Figure size 640x480 with 1 Axes>"
            ],
            "image/png": "[encoded data removed]"
          },
          "metadata": {}
        }
      ]
    },
    {
      "cell_type": "markdown",
      "source": [
        "The data distribution is not skewed. Hence, no need to perform any data balancing."
      ],
      "metadata": {
        "id": "BDmiywN4pJQe"
      }
    },
    {
      "cell_type": "markdown",
      "source": [
        "**Preprocessing**"
      ],
      "metadata": {
        "id": "wgIMN3oYpelr"
      }
    },
    {
      "cell_type": "markdown",
      "source": [
        "Convert to lower case"
      ],
      "metadata": {
        "id": "Cj1Yj1Y6piJD"
      }
    },
    {
      "cell_type": "code",
      "source": [
        "df['source_txt'] = df['source_txt'].str.lower()\n",
        "df['plagiarism_txt'] = df['plagiarism_txt'].str.lower()\n"
      ],
      "metadata": {
        "id": "-l894WUWqUUv"
      },
      "execution_count": null,
      "outputs": []
    },
    {
      "cell_type": "markdown",
      "source": [
        "Expand shortforms"
      ],
      "metadata": {
        "id": "YO6ZVdPhqXaG"
      }
    },
    {
      "cell_type": "code",
      "source": [
        "df['source_txt'] = df['source_txt'].apply(lambda x: contractions.fix(x) if pd.notnull(x) else x)\n",
        "df['plagiarism_txt'] = df['plagiarism_txt'].apply(lambda x: contractions.fix(x) if pd.notnull(x) else x)\n"
      ],
      "metadata": {
        "id": "tTEF9KT8qaF6"
      },
      "execution_count": null,
      "outputs": []
    },
    {
      "cell_type": "markdown",
      "source": [
        "Remove punctuation marks"
      ],
      "metadata": {
        "id": "UYKF7xHVqbKY"
      }
    },
    {
      "cell_type": "code",
      "source": [
        "df['source_txt'] = df['source_txt'].str.replace(r'[^\\w\\s]', '', regex=True)\n",
        "df['plagiarism_txt'] = df['plagiarism_txt'].str.replace(r'[^\\w\\s]', '', regex=True)\n"
      ],
      "metadata": {
        "id": "l2KocoBHqfry"
      },
      "execution_count": null,
      "outputs": []
    },
    {
      "cell_type": "markdown",
      "source": [
        "Remove numbers and special characters"
      ],
      "metadata": {
        "id": "sfzGSawKqjHL"
      }
    },
    {
      "cell_type": "code",
      "source": [
        "df['source_txt'] = df['source_txt'].str.replace(r'[^A-Za-z\\s]', '', regex=True)\n",
        "df['plagiarism_txt'] = df['plagiarism_txt'].str.replace(r'[^A-Za-z\\s]', '', regex=True)\n"
      ],
      "metadata": {
        "id": "4ozEOw8oqmKi"
      },
      "execution_count": null,
      "outputs": []
    },
    {
      "cell_type": "markdown",
      "source": [
        "Remove extra spacings"
      ],
      "metadata": {
        "id": "yEi3Rx8Nqnlk"
      }
    },
    {
      "cell_type": "code",
      "source": [
        "df['source_txt'] = df['source_txt'].str.replace(r'\\s+', ' ', regex=True).str.strip()\n",
        "df['plagiarism_txt'] = df['plagiarism_txt'].str.replace(r'\\s+', ' ', regex=True).str.strip()\n"
      ],
      "metadata": {
        "id": "D9eAb2Reretf"
      },
      "execution_count": null,
      "outputs": []
    },
    {
      "cell_type": "markdown",
      "source": [
        "Remove stopwords"
      ],
      "metadata": {
        "id": "MQTMdy_lrh4X"
      }
    },
    {
      "cell_type": "code",
      "source": [
        "nltk.download('stopwords')\n",
        "\n",
        "nlp = spacy.load('en_core_web_sm')\n",
        "\n",
        "stop_words = set(stopwords.words('english'))"
      ],
      "metadata": {
        "colab": {
          "base_uri": "https://localhost:8080/"
        },
        "id": "2otSfINErn6L",
        "outputId": "b5158e77-795e-4f08-bc8f-29b9f7e24b55"
      },
      "execution_count": null,
      "outputs": [
        {
          "output_type": "stream",
          "name": "stderr",
          "text": [
            "[nltk_data] Downloading package stopwords to /root/nltk_data...\n",
            "[nltk_data]   Package stopwords is already up-to-date!\n"
          ]
        }
      ]
    },
    {
      "cell_type": "code",
      "source": [
        "df['source_txt'] = df['source_txt'].apply(lambda x: ' '.join([word for word in x.split() if word not in stop_words]) if pd.notnull(x) else x)\n",
        "df['plagiarism_txt'] = df['plagiarism_txt'].apply(lambda x: ' '.join([word for word in x.split() if word not in stop_words]) if pd.notnull(x) else x)\n"
      ],
      "metadata": {
        "id": "oLW_xtN1rkOw"
      },
      "execution_count": null,
      "outputs": []
    },
    {
      "cell_type": "markdown",
      "source": [
        "Apply Lemmatization"
      ],
      "metadata": {
        "id": "yPv3FBGer2ra"
      }
    },
    {
      "cell_type": "code",
      "source": [
        "tqdm.pandas()\n",
        "\n",
        "def lemmatize(text):\n",
        "    doc = nlp(text)\n",
        "    return ' '.join([token.lemma_ for token in doc])\n",
        "\n",
        "df['processed_source_txt'] = df['source_txt'].progress_apply(lambda x: lemmatize(x) if pd.notnull(x) else x)\n",
        "df['processed_plagiarism_txt'] = df['plagiarism_txt'].progress_apply(lambda x: lemmatize(x) if pd.notnull(x) else x)\n"
      ],
      "metadata": {
        "colab": {
          "base_uri": "https://localhost:8080/",
          "height": 81,
          "referenced_widgets": [
            "ad06a9a26bd743689a5f6eeade091fcc",
            "e91c6f7cac594826b14f2711169ca3e5",
            "0da4787da00f4c65ac58553cb0f1d155",
            "9e93a4e258714878b8760e66c802cb11",
            "282ce36706ff4a63aeff45bedaf0422f",
            "f3fc502a7be2454a9ff7beba94604d3c",
            "361ce5543f6a41caa86b9834c886b61e",
            "38feca7091e54a9bb0d5926ac4a0f477",
            "29e2cd295a194f748b4050c6d43bbf3b",
            "8ce15765eb3f4ee484ef383cc0711219",
            "2da523755de340b39d3ebb3c053c644e",
            "cdd7ad65e7554ef0b3c11669971e58b4",
            "63b223057fb245508fcaf00669a15768",
            "1dc1881c4cd94a9d87efe0d5bb4f59d6",
            "0b91698290144bc38623e37f0da117af",
            "9f82942db2a2473892eb97af1c351e9a",
            "84d3c3e7d5d04a71bf77b5938dc5766f",
            "fc603ff3467840f99b20ad2665aecc5a",
            "eb6a7cf0404e4369bb9cd7222ce09f79",
            "d28aa1a802cd4c85aff0989ab3ba6c7a",
            "793f784c512c4e9a8d31bae315fb3493",
            "e67192844391416885ddc20df0ff657a"
          ]
        },
        "id": "w-ZD_lJ3r5ON",
        "outputId": "a19369b5-0100-4e17-8173-5c6c917ef12c"
      },
      "execution_count": null,
      "outputs": [
        {
          "output_type": "display_data",
          "data": {
            "text/plain": [
              "  0%|          | 0/50000 [00:00<?, ?it/s]"
            ],
            "application/vnd.jupyter.widget-view+json": {
              "version_major": 2,
              "version_minor": 0,
              "model_id": "ad06a9a26bd743689a5f6eeade091fcc"
            }
          },
          "metadata": {}
        },
        {
          "output_type": "display_data",
          "data": {
            "text/plain": [
              "  0%|          | 0/50000 [00:00<?, ?it/s]"
            ],
            "application/vnd.jupyter.widget-view+json": {
              "version_major": 2,
              "version_minor": 0,
              "model_id": "cdd7ad65e7554ef0b3c11669971e58b4"
            }
          },
          "metadata": {}
        }
      ]
    },
    {
      "cell_type": "code",
      "source": [
        "df.head()"
      ],
      "metadata": {
        "colab": {
          "base_uri": "https://localhost:8080/",
          "height": 206
        },
        "id": "PGmD_tQrvl2y",
        "outputId": "7bca9d1c-d2fb-4b57-99f7-a826338f9d74"
      },
      "execution_count": null,
      "outputs": [
        {
          "output_type": "execute_result",
          "data": {
            "text/plain": [
              "                                 source_txt                  plagiarism_txt  \\\n",
              "0        person horse jumps broken airplane  person diner ordering omelette   \n",
              "1        person horse jumps broken airplane           person outdoors horse   \n",
              "2            children smiling waving camera                children present   \n",
              "3            children smiling waving camera                   kids frowning   \n",
              "4  boy jumping skateboard middle red bridge             boy skates sidewalk   \n",
              "\n",
              "   label                   processed_source_txt     processed_plagiarism_txt  \n",
              "0      0       person horse jump break airplane  person diner order omelette  \n",
              "1      1       person horse jump break airplane        person outdoors horse  \n",
              "2      1                child smile wave camera                child present  \n",
              "3      0                child smile wave camera                    kid frown  \n",
              "4      0  boy jump skateboard middle red bridge           boy skate sidewalk  "
            ],
            "text/html": [
              "\n",
              "  <div id=\"df-6177f9aa-f4f7-42f7-ac64-42c0d9c69499\" class=\"colab-df-container\">\n",
              "    <div>\n",
              "<style scoped>\n",
              "    .dataframe tbody tr th:only-of-type {\n",
              "        vertical-align: middle;\n",
              "    }\n",
              "\n",
              "    .dataframe tbody tr th {\n",
              "        vertical-align: top;\n",
              "    }\n",
              "\n",
              "    .dataframe thead th {\n",
              "        text-align: right;\n",
              "    }\n",
              "</style>\n",
              "<table border=\"1\" class=\"dataframe\">\n",
              "  <thead>\n",
              "    <tr style=\"text-align: right;\">\n",
              "      <th></th>\n",
              "      <th>source_txt</th>\n",
              "      <th>plagiarism_txt</th>\n",
              "      <th>label</th>\n",
              "      <th>processed_source_txt</th>\n",
              "      <th>processed_plagiarism_txt</th>\n",
              "    </tr>\n",
              "  </thead>\n",
              "  <tbody>\n",
              "    <tr>\n",
              "      <th>0</th>\n",
              "      <td>person horse jumps broken airplane</td>\n",
              "      <td>person diner ordering omelette</td>\n",
              "      <td>0</td>\n",
              "      <td>person horse jump break airplane</td>\n",
              "      <td>person diner order omelette</td>\n",
              "    </tr>\n",
              "    <tr>\n",
              "      <th>1</th>\n",
              "      <td>person horse jumps broken airplane</td>\n",
              "      <td>person outdoors horse</td>\n",
              "      <td>1</td>\n",
              "      <td>person horse jump break airplane</td>\n",
              "      <td>person outdoors horse</td>\n",
              "    </tr>\n",
              "    <tr>\n",
              "      <th>2</th>\n",
              "      <td>children smiling waving camera</td>\n",
              "      <td>children present</td>\n",
              "      <td>1</td>\n",
              "      <td>child smile wave camera</td>\n",
              "      <td>child present</td>\n",
              "    </tr>\n",
              "    <tr>\n",
              "      <th>3</th>\n",
              "      <td>children smiling waving camera</td>\n",
              "      <td>kids frowning</td>\n",
              "      <td>0</td>\n",
              "      <td>child smile wave camera</td>\n",
              "      <td>kid frown</td>\n",
              "    </tr>\n",
              "    <tr>\n",
              "      <th>4</th>\n",
              "      <td>boy jumping skateboard middle red bridge</td>\n",
              "      <td>boy skates sidewalk</td>\n",
              "      <td>0</td>\n",
              "      <td>boy jump skateboard middle red bridge</td>\n",
              "      <td>boy skate sidewalk</td>\n",
              "    </tr>\n",
              "  </tbody>\n",
              "</table>\n",
              "</div>\n",
              "    <div class=\"colab-df-buttons\">\n",
              "\n",
              "  <div class=\"colab-df-container\">\n",
              "    <button class=\"colab-df-convert\" onclick=\"convertToInteractive('df-6177f9aa-f4f7-42f7-ac64-42c0d9c69499')\"\n",
              "            title=\"Convert this dataframe to an interactive table.\"\n",
              "            style=\"display:none;\">\n",
              "\n",
              "  <svg xmlns=\"http://www.w3.org/2000/svg\" height=\"24px\" viewBox=\"0 -960 960 960\">\n",
              "    <path d=\"M120-120v-720h720v720H120Zm60-500h600v-160H180v160Zm220 220h160v-160H400v160Zm0 220h160v-160H400v160ZM180-400h160v-160H180v160Zm440 0h160v-160H620v160ZM180-180h160v-160H180v160Zm440 0h160v-160H620v160Z\"/>\n",
              "  </svg>\n",
              "    </button>\n",
              "\n",
              "  <style>\n",
              "    .colab-df-container {\n",
              "      display:flex;\n",
              "      gap: 12px;\n",
              "    }\n",
              "\n",
              "    .colab-df-convert {\n",
              "      background-color: #E8F0FE;\n",
              "      border: none;\n",
              "      border-radius: 50%;\n",
              "      cursor: pointer;\n",
              "      display: none;\n",
              "      fill: #1967D2;\n",
              "      height: 32px;\n",
              "      padding: 0 0 0 0;\n",
              "      width: 32px;\n",
              "    }\n",
              "\n",
              "    .colab-df-convert:hover {\n",
              "      background-color: #E2EBFA;\n",
              "      box-shadow: 0px 1px 2px rgba(60, 64, 67, 0.3), 0px 1px 3px 1px rgba(60, 64, 67, 0.15);\n",
              "      fill: #174EA6;\n",
              "    }\n",
              "\n",
              "    .colab-df-buttons div {\n",
              "      margin-bottom: 4px;\n",
              "    }\n",
              "\n",
              "    [theme=dark] .colab-df-convert {\n",
              "      background-color: #3B4455;\n",
              "      fill: #D2E3FC;\n",
              "    }\n",
              "\n",
              "    [theme=dark] .colab-df-convert:hover {\n",
              "      background-color: #434B5C;\n",
              "      box-shadow: 0px 1px 3px 1px rgba(0, 0, 0, 0.15);\n",
              "      filter: drop-shadow(0px 1px 2px rgba(0, 0, 0, 0.3));\n",
              "      fill: #FFFFFF;\n",
              "    }\n",
              "  </style>\n",
              "\n",
              "    <script>\n",
              "      const buttonEl =\n",
              "        document.querySelector('#df-6177f9aa-f4f7-42f7-ac64-42c0d9c69499 button.colab-df-convert');\n",
              "      buttonEl.style.display =\n",
              "        google.colab.kernel.accessAllowed ? 'block' : 'none';\n",
              "\n",
              "      async function convertToInteractive(key) {\n",
              "        const element = document.querySelector('#df-6177f9aa-f4f7-42f7-ac64-42c0d9c69499');\n",
              "        const dataTable =\n",
              "          await google.colab.kernel.invokeFunction('convertToInteractive',\n",
              "                                                    [key], {});\n",
              "        if (!dataTable) return;\n",
              "\n",
              "        const docLinkHtml = 'Like what you see? Visit the ' +\n",
              "          '<a target=\"_blank\" href=https://colab.research.google.com/notebooks/data_table.ipynb>data table notebook</a>'\n",
              "          + ' to learn more about interactive tables.';\n",
              "        element.innerHTML = '';\n",
              "        dataTable['output_type'] = 'display_data';\n",
              "        await google.colab.output.renderOutput(dataTable, element);\n",
              "        const docLink = document.createElement('div');\n",
              "        docLink.innerHTML = docLinkHtml;\n",
              "        element.appendChild(docLink);\n",
              "      }\n",
              "    </script>\n",
              "  </div>\n",
              "\n",
              "\n",
              "    <div id=\"df-c51b6852-c14e-4b07-8bc6-3117fd6cb571\">\n",
              "      <button class=\"colab-df-quickchart\" onclick=\"quickchart('df-c51b6852-c14e-4b07-8bc6-3117fd6cb571')\"\n",
              "                title=\"Suggest charts\"\n",
              "                style=\"display:none;\">\n",
              "\n",
              "<svg xmlns=\"http://www.w3.org/2000/svg\" height=\"24px\"viewBox=\"0 0 24 24\"\n",
              "     width=\"24px\">\n",
              "    <g>\n",
              "        <path d=\"M19 3H5c-1.1 0-2 .9-2 2v14c0 1.1.9 2 2 2h14c1.1 0 2-.9 2-2V5c0-1.1-.9-2-2-2zM9 17H7v-7h2v7zm4 0h-2V7h2v10zm4 0h-2v-4h2v4z\"/>\n",
              "    </g>\n",
              "</svg>\n",
              "      </button>\n",
              "\n",
              "<style>\n",
              "  .colab-df-quickchart {\n",
              "      --bg-color: #E8F0FE;\n",
              "      --fill-color: #1967D2;\n",
              "      --hover-bg-color: #E2EBFA;\n",
              "      --hover-fill-color: #174EA6;\n",
              "      --disabled-fill-color: #AAA;\n",
              "      --disabled-bg-color: #DDD;\n",
              "  }\n",
              "\n",
              "  [theme=dark] .colab-df-quickchart {\n",
              "      --bg-color: #3B4455;\n",
              "      --fill-color: #D2E3FC;\n",
              "      --hover-bg-color: #434B5C;\n",
              "      --hover-fill-color: #FFFFFF;\n",
              "      --disabled-bg-color: #3B4455;\n",
              "      --disabled-fill-color: #666;\n",
              "  }\n",
              "\n",
              "  .colab-df-quickchart {\n",
              "    background-color: var(--bg-color);\n",
              "    border: none;\n",
              "    border-radius: 50%;\n",
              "    cursor: pointer;\n",
              "    display: none;\n",
              "    fill: var(--fill-color);\n",
              "    height: 32px;\n",
              "    padding: 0;\n",
              "    width: 32px;\n",
              "  }\n",
              "\n",
              "  .colab-df-quickchart:hover {\n",
              "    background-color: var(--hover-bg-color);\n",
              "    box-shadow: 0 1px 2px rgba(60, 64, 67, 0.3), 0 1px 3px 1px rgba(60, 64, 67, 0.15);\n",
              "    fill: var(--button-hover-fill-color);\n",
              "  }\n",
              "\n",
              "  .colab-df-quickchart-complete:disabled,\n",
              "  .colab-df-quickchart-complete:disabled:hover {\n",
              "    background-color: var(--disabled-bg-color);\n",
              "    fill: var(--disabled-fill-color);\n",
              "    box-shadow: none;\n",
              "  }\n",
              "\n",
              "  .colab-df-spinner {\n",
              "    border: 2px solid var(--fill-color);\n",
              "    border-color: transparent;\n",
              "    border-bottom-color: var(--fill-color);\n",
              "    animation:\n",
              "      spin 1s steps(1) infinite;\n",
              "  }\n",
              "\n",
              "  @keyframes spin {\n",
              "    0% {\n",
              "      border-color: transparent;\n",
              "      border-bottom-color: var(--fill-color);\n",
              "      border-left-color: var(--fill-color);\n",
              "    }\n",
              "    20% {\n",
              "      border-color: transparent;\n",
              "      border-left-color: var(--fill-color);\n",
              "      border-top-color: var(--fill-color);\n",
              "    }\n",
              "    30% {\n",
              "      border-color: transparent;\n",
              "      border-left-color: var(--fill-color);\n",
              "      border-top-color: var(--fill-color);\n",
              "      border-right-color: var(--fill-color);\n",
              "    }\n",
              "    40% {\n",
              "      border-color: transparent;\n",
              "      border-right-color: var(--fill-color);\n",
              "      border-top-color: var(--fill-color);\n",
              "    }\n",
              "    60% {\n",
              "      border-color: transparent;\n",
              "      border-right-color: var(--fill-color);\n",
              "    }\n",
              "    80% {\n",
              "      border-color: transparent;\n",
              "      border-right-color: var(--fill-color);\n",
              "      border-bottom-color: var(--fill-color);\n",
              "    }\n",
              "    90% {\n",
              "      border-color: transparent;\n",
              "      border-bottom-color: var(--fill-color);\n",
              "    }\n",
              "  }\n",
              "</style>\n",
              "\n",
              "      <script>\n",
              "        async function quickchart(key) {\n",
              "          const quickchartButtonEl =\n",
              "            document.querySelector('#' + key + ' button');\n",
              "          quickchartButtonEl.disabled = true;  // To prevent multiple clicks.\n",
              "          quickchartButtonEl.classList.add('colab-df-spinner');\n",
              "          try {\n",
              "            const charts = await google.colab.kernel.invokeFunction(\n",
              "                'suggestCharts', [key], {});\n",
              "          } catch (error) {\n",
              "            console.error('Error during call to suggestCharts:', error);\n",
              "          }\n",
              "          quickchartButtonEl.classList.remove('colab-df-spinner');\n",
              "          quickchartButtonEl.classList.add('colab-df-quickchart-complete');\n",
              "        }\n",
              "        (() => {\n",
              "          let quickchartButtonEl =\n",
              "            document.querySelector('#df-c51b6852-c14e-4b07-8bc6-3117fd6cb571 button');\n",
              "          quickchartButtonEl.style.display =\n",
              "            google.colab.kernel.accessAllowed ? 'block' : 'none';\n",
              "        })();\n",
              "      </script>\n",
              "    </div>\n",
              "\n",
              "    </div>\n",
              "  </div>\n"
            ],
            "application/vnd.google.colaboratory.intrinsic+json": {
              "type": "dataframe",
              "variable_name": "df",
              "summary": "{\n  \"name\": \"df\",\n  \"rows\": 50000,\n  \"fields\": [\n    {\n      \"column\": \"source_txt\",\n      \"properties\": {\n        \"dtype\": \"category\",\n        \"num_unique_values\": 20418,\n        \"samples\": [\n          \"picture hotdog vendor street\",\n          \"three people gathering stuff putting black bag dirt setting\",\n          \"guy walking sidewalk\"\n        ],\n        \"semantic_type\": \"\",\n        \"description\": \"\"\n      }\n    },\n    {\n      \"column\": \"plagiarism_txt\",\n      \"properties\": {\n        \"dtype\": \"string\",\n        \"num_unique_values\": 42567,\n        \"samples\": [\n          \"two people wearing scarfs heads jogging beach bath\",\n          \"man theatre watching avatar\",\n          \"woman putting clothes laundry\"\n        ],\n        \"semantic_type\": \"\",\n        \"description\": \"\"\n      }\n    },\n    {\n      \"column\": \"label\",\n      \"properties\": {\n        \"dtype\": \"number\",\n        \"std\": 0,\n        \"min\": 0,\n        \"max\": 1,\n        \"num_unique_values\": 2,\n        \"samples\": [\n          1,\n          0\n        ],\n        \"semantic_type\": \"\",\n        \"description\": \"\"\n      }\n    },\n    {\n      \"column\": \"processed_source_txt\",\n      \"properties\": {\n        \"dtype\": \"category\",\n        \"num_unique_values\": 20381,\n        \"samples\": [\n          \"rollerblader skating flow many rollerblader\",\n          \"young woman blue hollister shirt blue jean\"\n        ],\n        \"semantic_type\": \"\",\n        \"description\": \"\"\n      }\n    },\n    {\n      \"column\": \"processed_plagiarism_txt\",\n      \"properties\": {\n        \"dtype\": \"string\",\n        \"num_unique_values\": 41078,\n        \"samples\": [\n          \"child carry food\",\n          \"man weave rug\"\n        ],\n        \"semantic_type\": \"\",\n        \"description\": \"\"\n      }\n    }\n  ]\n}"
            }
          },
          "metadata": {},
          "execution_count": 58
        }
      ]
    },
    {
      "cell_type": "code",
      "source": [],
      "metadata": {
        "id": "_AO9q5_9wHW_"
      },
      "execution_count": null,
      "outputs": []
    },
    {
      "cell_type": "markdown",
      "source": [
        "Compute Embeddings using Word2Vec"
      ],
      "metadata": {
        "id": "4nEOv89YxHgt"
      }
    },
    {
      "cell_type": "code",
      "source": [
        "def tokenize(text):\n",
        "    return text.split()\n",
        "\n",
        "df['processed_plagiarism_txt'] = df['processed_plagiarism_txt'].fillna('')\n",
        "df['processed_source_txt'] = df['processed_source_txt'].fillna('')\n",
        "\n",
        "source_sentences = df['processed_source_txt'].apply(lambda x: x.split()).tolist()\n",
        "plagiarism_sentences = df['processed_plagiarism_txt'].apply(lambda x: x.split()).tolist()\n",
        "\n",
        "all_sentences = source_sentences + plagiarism_sentences\n",
        "\n",
        "w2v_model = Word2Vec(sentences=all_sentences, vector_size=100, window=5, min_count=1, workers=4)\n",
        "\n",
        "def sentence_to_vec(sentence, model):\n",
        "    word_vectors = [model.wv[word] for word in sentence if word in model.wv]\n",
        "    if len(word_vectors) > 0:\n",
        "        return np.mean(word_vectors, axis=0)\n",
        "    else:\n",
        "        return np.zeros(model.vector_size)\n",
        "\n",
        "df['source_vec'] = df['processed_source_txt'].apply(lambda x: sentence_to_vec(tokenize(x), w2v_model))\n",
        "df['plagiarism_vec'] = df['processed_plagiarism_txt'].apply(lambda x: sentence_to_vec(tokenize(x), w2v_model))\n",
        "\n"
      ],
      "metadata": {
        "colab": {
          "base_uri": "https://localhost:8080/"
        },
        "id": "pjSaeS31wHag",
        "outputId": "cc73a508-cd38-4d53-a37d-71392695df7f"
      },
      "execution_count": null,
      "outputs": [
        {
          "output_type": "stream",
          "name": "stdout",
          "text": [
            "\u001b[1m1563/1563\u001b[0m \u001b[32m\u2501\u2501\u2501\u2501\u2501\u2501\u2501\u2501\u2501\u2501\u2501\u2501\u2501\u2501\u2501\u2501\u2501\u2501\u2501\u2501\u001b[0m\u001b[37m\u001b[0m \u001b[1m12s\u001b[0m 7ms/step\n",
            "\u001b[1m1563/1563\u001b[0m \u001b[32m\u2501\u2501\u2501\u2501\u2501\u2501\u2501\u2501\u2501\u2501\u2501\u2501\u2501\u2501\u2501\u2501\u2501\u2501\u2501\u2501\u001b[0m\u001b[37m\u001b[0m \u001b[1m11s\u001b[0m 7ms/step\n"
          ]
        }
      ]
    },
    {
      "cell_type": "code",
      "source": [
        "df.head()"
      ],
      "metadata": {
        "colab": {
          "base_uri": "https://localhost:8080/",
          "height": 467
        },
        "id": "SGYfWqJ0NRlf",
        "outputId": "4b1de43a-054a-4f09-f616-47b748001405"
      },
      "execution_count": null,
      "outputs": [
        {
          "output_type": "execute_result",
          "data": {
            "text/plain": [
              "                                 source_txt                  plagiarism_txt  \\\n",
              "0        person horse jumps broken airplane  person diner ordering omelette   \n",
              "1        person horse jumps broken airplane           person outdoors horse   \n",
              "2            children smiling waving camera                children present   \n",
              "3            children smiling waving camera                   kids frowning   \n",
              "4  boy jumping skateboard middle red bridge             boy skates sidewalk   \n",
              "\n",
              "   label                   processed_source_txt     processed_plagiarism_txt  \\\n",
              "0      0       person horse jump break airplane  person diner order omelette   \n",
              "1      1       person horse jump break airplane        person outdoors horse   \n",
              "2      1                child smile wave camera                child present   \n",
              "3      0                child smile wave camera                    kid frown   \n",
              "4      0  boy jump skateboard middle red bridge           boy skate sidewalk   \n",
              "\n",
              "                                          source_vec  \\\n",
              "0  [-0.45704693, -0.1896902, -0.032550335, 0.4288...   \n",
              "1  [-0.45704693, -0.1896902, -0.032550335, 0.4288...   \n",
              "2  [-0.5925161, -0.5582761, -0.949546, 1.4925321,...   \n",
              "3  [-0.5925161, -0.5582761, -0.949546, 1.4925321,...   \n",
              "4  [-1.0007385, -0.2342198, -0.18485545, -0.37523...   \n",
              "\n",
              "                                      plagiarism_vec  \n",
              "0  [0.24938227, 0.6712075, 0.48709977, 0.14496142...  \n",
              "1  [0.16390352, -0.44991037, 0.98897177, 1.074600...  \n",
              "2  [0.50024724, 0.7793225, -0.39913756, 0.8936729...  \n",
              "3  [-0.22474952, 0.8491028, -0.2458137, 1.2898006...  \n",
              "4  [-0.93835884, -0.04240777, 0.59849364, -0.0859...  "
            ],
            "text/html": [
              "\n",
              "  <div id=\"df-c0b59e84-93f6-415a-9280-29f43875c067\" class=\"colab-df-container\">\n",
              "    <div>\n",
              "<style scoped>\n",
              "    .dataframe tbody tr th:only-of-type {\n",
              "        vertical-align: middle;\n",
              "    }\n",
              "\n",
              "    .dataframe tbody tr th {\n",
              "        vertical-align: top;\n",
              "    }\n",
              "\n",
              "    .dataframe thead th {\n",
              "        text-align: right;\n",
              "    }\n",
              "</style>\n",
              "<table border=\"1\" class=\"dataframe\">\n",
              "  <thead>\n",
              "    <tr style=\"text-align: right;\">\n",
              "      <th></th>\n",
              "      <th>source_txt</th>\n",
              "      <th>plagiarism_txt</th>\n",
              "      <th>label</th>\n",
              "      <th>processed_source_txt</th>\n",
              "      <th>processed_plagiarism_txt</th>\n",
              "      <th>source_vec</th>\n",
              "      <th>plagiarism_vec</th>\n",
              "    </tr>\n",
              "  </thead>\n",
              "  <tbody>\n",
              "    <tr>\n",
              "      <th>0</th>\n",
              "      <td>person horse jumps broken airplane</td>\n",
              "      <td>person diner ordering omelette</td>\n",
              "      <td>0</td>\n",
              "      <td>person horse jump break airplane</td>\n",
              "      <td>person diner order omelette</td>\n",
              "      <td>[-0.45704693, -0.1896902, -0.032550335, 0.4288...</td>\n",
              "      <td>[0.24938227, 0.6712075, 0.48709977, 0.14496142...</td>\n",
              "    </tr>\n",
              "    <tr>\n",
              "      <th>1</th>\n",
              "      <td>person horse jumps broken airplane</td>\n",
              "      <td>person outdoors horse</td>\n",
              "      <td>1</td>\n",
              "      <td>person horse jump break airplane</td>\n",
              "      <td>person outdoors horse</td>\n",
              "      <td>[-0.45704693, -0.1896902, -0.032550335, 0.4288...</td>\n",
              "      <td>[0.16390352, -0.44991037, 0.98897177, 1.074600...</td>\n",
              "    </tr>\n",
              "    <tr>\n",
              "      <th>2</th>\n",
              "      <td>children smiling waving camera</td>\n",
              "      <td>children present</td>\n",
              "      <td>1</td>\n",
              "      <td>child smile wave camera</td>\n",
              "      <td>child present</td>\n",
              "      <td>[-0.5925161, -0.5582761, -0.949546, 1.4925321,...</td>\n",
              "      <td>[0.50024724, 0.7793225, -0.39913756, 0.8936729...</td>\n",
              "    </tr>\n",
              "    <tr>\n",
              "      <th>3</th>\n",
              "      <td>children smiling waving camera</td>\n",
              "      <td>kids frowning</td>\n",
              "      <td>0</td>\n",
              "      <td>child smile wave camera</td>\n",
              "      <td>kid frown</td>\n",
              "      <td>[-0.5925161, -0.5582761, -0.949546, 1.4925321,...</td>\n",
              "      <td>[-0.22474952, 0.8491028, -0.2458137, 1.2898006...</td>\n",
              "    </tr>\n",
              "    <tr>\n",
              "      <th>4</th>\n",
              "      <td>boy jumping skateboard middle red bridge</td>\n",
              "      <td>boy skates sidewalk</td>\n",
              "      <td>0</td>\n",
              "      <td>boy jump skateboard middle red bridge</td>\n",
              "      <td>boy skate sidewalk</td>\n",
              "      <td>[-1.0007385, -0.2342198, -0.18485545, -0.37523...</td>\n",
              "      <td>[-0.93835884, -0.04240777, 0.59849364, -0.0859...</td>\n",
              "    </tr>\n",
              "  </tbody>\n",
              "</table>\n",
              "</div>\n",
              "    <div class=\"colab-df-buttons\">\n",
              "\n",
              "  <div class=\"colab-df-container\">\n",
              "    <button class=\"colab-df-convert\" onclick=\"convertToInteractive('df-c0b59e84-93f6-415a-9280-29f43875c067')\"\n",
              "            title=\"Convert this dataframe to an interactive table.\"\n",
              "            style=\"display:none;\">\n",
              "\n",
              "  <svg xmlns=\"http://www.w3.org/2000/svg\" height=\"24px\" viewBox=\"0 -960 960 960\">\n",
              "    <path d=\"M120-120v-720h720v720H120Zm60-500h600v-160H180v160Zm220 220h160v-160H400v160Zm0 220h160v-160H400v160ZM180-400h160v-160H180v160Zm440 0h160v-160H620v160ZM180-180h160v-160H180v160Zm440 0h160v-160H620v160Z\"/>\n",
              "  </svg>\n",
              "    </button>\n",
              "\n",
              "  <style>\n",
              "    .colab-df-container {\n",
              "      display:flex;\n",
              "      gap: 12px;\n",
              "    }\n",
              "\n",
              "    .colab-df-convert {\n",
              "      background-color: #E8F0FE;\n",
              "      border: none;\n",
              "      border-radius: 50%;\n",
              "      cursor: pointer;\n",
              "      display: none;\n",
              "      fill: #1967D2;\n",
              "      height: 32px;\n",
              "      padding: 0 0 0 0;\n",
              "      width: 32px;\n",
              "    }\n",
              "\n",
              "    .colab-df-convert:hover {\n",
              "      background-color: #E2EBFA;\n",
              "      box-shadow: 0px 1px 2px rgba(60, 64, 67, 0.3), 0px 1px 3px 1px rgba(60, 64, 67, 0.15);\n",
              "      fill: #174EA6;\n",
              "    }\n",
              "\n",
              "    .colab-df-buttons div {\n",
              "      margin-bottom: 4px;\n",
              "    }\n",
              "\n",
              "    [theme=dark] .colab-df-convert {\n",
              "      background-color: #3B4455;\n",
              "      fill: #D2E3FC;\n",
              "    }\n",
              "\n",
              "    [theme=dark] .colab-df-convert:hover {\n",
              "      background-color: #434B5C;\n",
              "      box-shadow: 0px 1px 3px 1px rgba(0, 0, 0, 0.15);\n",
              "      filter: drop-shadow(0px 1px 2px rgba(0, 0, 0, 0.3));\n",
              "      fill: #FFFFFF;\n",
              "    }\n",
              "  </style>\n",
              "\n",
              "    <script>\n",
              "      const buttonEl =\n",
              "        document.querySelector('#df-c0b59e84-93f6-415a-9280-29f43875c067 button.colab-df-convert');\n",
              "      buttonEl.style.display =\n",
              "        google.colab.kernel.accessAllowed ? 'block' : 'none';\n",
              "\n",
              "      async function convertToInteractive(key) {\n",
              "        const element = document.querySelector('#df-c0b59e84-93f6-415a-9280-29f43875c067');\n",
              "        const dataTable =\n",
              "          await google.colab.kernel.invokeFunction('convertToInteractive',\n",
              "                                                    [key], {});\n",
              "        if (!dataTable) return;\n",
              "\n",
              "        const docLinkHtml = 'Like what you see? Visit the ' +\n",
              "          '<a target=\"_blank\" href=https://colab.research.google.com/notebooks/data_table.ipynb>data table notebook</a>'\n",
              "          + ' to learn more about interactive tables.';\n",
              "        element.innerHTML = '';\n",
              "        dataTable['output_type'] = 'display_data';\n",
              "        await google.colab.output.renderOutput(dataTable, element);\n",
              "        const docLink = document.createElement('div');\n",
              "        docLink.innerHTML = docLinkHtml;\n",
              "        element.appendChild(docLink);\n",
              "      }\n",
              "    </script>\n",
              "  </div>\n",
              "\n",
              "\n",
              "    <div id=\"df-7e75ed2b-ebd8-4650-a55a-83d6cf9dbdf6\">\n",
              "      <button class=\"colab-df-quickchart\" onclick=\"quickchart('df-7e75ed2b-ebd8-4650-a55a-83d6cf9dbdf6')\"\n",
              "                title=\"Suggest charts\"\n",
              "                style=\"display:none;\">\n",
              "\n",
              "<svg xmlns=\"http://www.w3.org/2000/svg\" height=\"24px\"viewBox=\"0 0 24 24\"\n",
              "     width=\"24px\">\n",
              "    <g>\n",
              "        <path d=\"M19 3H5c-1.1 0-2 .9-2 2v14c0 1.1.9 2 2 2h14c1.1 0 2-.9 2-2V5c0-1.1-.9-2-2-2zM9 17H7v-7h2v7zm4 0h-2V7h2v10zm4 0h-2v-4h2v4z\"/>\n",
              "    </g>\n",
              "</svg>\n",
              "      </button>\n",
              "\n",
              "<style>\n",
              "  .colab-df-quickchart {\n",
              "      --bg-color: #E8F0FE;\n",
              "      --fill-color: #1967D2;\n",
              "      --hover-bg-color: #E2EBFA;\n",
              "      --hover-fill-color: #174EA6;\n",
              "      --disabled-fill-color: #AAA;\n",
              "      --disabled-bg-color: #DDD;\n",
              "  }\n",
              "\n",
              "  [theme=dark] .colab-df-quickchart {\n",
              "      --bg-color: #3B4455;\n",
              "      --fill-color: #D2E3FC;\n",
              "      --hover-bg-color: #434B5C;\n",
              "      --hover-fill-color: #FFFFFF;\n",
              "      --disabled-bg-color: #3B4455;\n",
              "      --disabled-fill-color: #666;\n",
              "  }\n",
              "\n",
              "  .colab-df-quickchart {\n",
              "    background-color: var(--bg-color);\n",
              "    border: none;\n",
              "    border-radius: 50%;\n",
              "    cursor: pointer;\n",
              "    display: none;\n",
              "    fill: var(--fill-color);\n",
              "    height: 32px;\n",
              "    padding: 0;\n",
              "    width: 32px;\n",
              "  }\n",
              "\n",
              "  .colab-df-quickchart:hover {\n",
              "    background-color: var(--hover-bg-color);\n",
              "    box-shadow: 0 1px 2px rgba(60, 64, 67, 0.3), 0 1px 3px 1px rgba(60, 64, 67, 0.15);\n",
              "    fill: var(--button-hover-fill-color);\n",
              "  }\n",
              "\n",
              "  .colab-df-quickchart-complete:disabled,\n",
              "  .colab-df-quickchart-complete:disabled:hover {\n",
              "    background-color: var(--disabled-bg-color);\n",
              "    fill: var(--disabled-fill-color);\n",
              "    box-shadow: none;\n",
              "  }\n",
              "\n",
              "  .colab-df-spinner {\n",
              "    border: 2px solid var(--fill-color);\n",
              "    border-color: transparent;\n",
              "    border-bottom-color: var(--fill-color);\n",
              "    animation:\n",
              "      spin 1s steps(1) infinite;\n",
              "  }\n",
              "\n",
              "  @keyframes spin {\n",
              "    0% {\n",
              "      border-color: transparent;\n",
              "      border-bottom-color: var(--fill-color);\n",
              "      border-left-color: var(--fill-color);\n",
              "    }\n",
              "    20% {\n",
              "      border-color: transparent;\n",
              "      border-left-color: var(--fill-color);\n",
              "      border-top-color: var(--fill-color);\n",
              "    }\n",
              "    30% {\n",
              "      border-color: transparent;\n",
              "      border-left-color: var(--fill-color);\n",
              "      border-top-color: var(--fill-color);\n",
              "      border-right-color: var(--fill-color);\n",
              "    }\n",
              "    40% {\n",
              "      border-color: transparent;\n",
              "      border-right-color: var(--fill-color);\n",
              "      border-top-color: var(--fill-color);\n",
              "    }\n",
              "    60% {\n",
              "      border-color: transparent;\n",
              "      border-right-color: var(--fill-color);\n",
              "    }\n",
              "    80% {\n",
              "      border-color: transparent;\n",
              "      border-right-color: var(--fill-color);\n",
              "      border-bottom-color: var(--fill-color);\n",
              "    }\n",
              "    90% {\n",
              "      border-color: transparent;\n",
              "      border-bottom-color: var(--fill-color);\n",
              "    }\n",
              "  }\n",
              "</style>\n",
              "\n",
              "      <script>\n",
              "        async function quickchart(key) {\n",
              "          const quickchartButtonEl =\n",
              "            document.querySelector('#' + key + ' button');\n",
              "          quickchartButtonEl.disabled = true;  // To prevent multiple clicks.\n",
              "          quickchartButtonEl.classList.add('colab-df-spinner');\n",
              "          try {\n",
              "            const charts = await google.colab.kernel.invokeFunction(\n",
              "                'suggestCharts', [key], {});\n",
              "          } catch (error) {\n",
              "            console.error('Error during call to suggestCharts:', error);\n",
              "          }\n",
              "          quickchartButtonEl.classList.remove('colab-df-spinner');\n",
              "          quickchartButtonEl.classList.add('colab-df-quickchart-complete');\n",
              "        }\n",
              "        (() => {\n",
              "          let quickchartButtonEl =\n",
              "            document.querySelector('#df-7e75ed2b-ebd8-4650-a55a-83d6cf9dbdf6 button');\n",
              "          quickchartButtonEl.style.display =\n",
              "            google.colab.kernel.accessAllowed ? 'block' : 'none';\n",
              "        })();\n",
              "      </script>\n",
              "    </div>\n",
              "\n",
              "    </div>\n",
              "  </div>\n"
            ],
            "application/vnd.google.colaboratory.intrinsic+json": {
              "type": "dataframe",
              "variable_name": "df"
            }
          },
          "metadata": {},
          "execution_count": 14
        }
      ]
    },
    {
      "cell_type": "markdown",
      "source": [
        "Saving this df as a csv file for later use"
      ],
      "metadata": {
        "id": "cP8dV505RShh"
      }
    },
    {
      "cell_type": "code",
      "source": [
        "from google.colab import files\n",
        "df.to_csv('final_data.csv', index=False)\n",
        "files.download('final_data.csv')\n"
      ],
      "metadata": {
        "colab": {
          "base_uri": "https://localhost:8080/",
          "height": 34
        },
        "id": "BBV7MFE6zgR9",
        "outputId": "b6cfd1ac-c638-4220-c227-124067d3f9ed"
      },
      "execution_count": null,
      "outputs": [
        {
          "output_type": "display_data",
          "data": {
            "text/plain": [
              "<IPython.core.display.Javascript object>"
            ],
            "application/javascript": [
              "\n",
              "    async function download(id, filename, size) {\n",
              "      if (!google.colab.kernel.accessAllowed) {\n",
              "        return;\n",
              "      }\n",
              "      const div = document.createElement('div');\n",
              "      const label = document.createElement('label');\n",
              "      label.textContent = `Downloading \"${filename}\": `;\n",
              "      div.appendChild(label);\n",
              "      const progress = document.createElement('progress');\n",
              "      progress.max = size;\n",
              "      div.appendChild(progress);\n",
              "      document.body.appendChild(div);\n",
              "\n",
              "      const buffers = [];\n",
              "      let downloaded = 0;\n",
              "\n",
              "      const channel = await google.colab.kernel.comms.open(id);\n",
              "      // Send a message to notify the kernel that we're ready.\n",
              "      channel.send({})\n",
              "\n",
              "      for await (const message of channel.messages) {\n",
              "        // Send a message to notify the kernel that we're ready.\n",
              "        channel.send({})\n",
              "        if (message.buffers) {\n",
              "          for (const buffer of message.buffers) {\n",
              "            buffers.push(buffer);\n",
              "            downloaded += buffer.byteLength;\n",
              "            progress.value = downloaded;\n",
              "          }\n",
              "        }\n",
              "      }\n",
              "      const blob = new Blob(buffers, {type: 'application/binary'});\n",
              "      const a = document.createElement('a');\n",
              "      a.href = window.URL.createObjectURL(blob);\n",
              "      a.download = filename;\n",
              "      div.appendChild(a);\n",
              "      a.click();\n",
              "      div.remove();\n",
              "    }\n",
              "  "
            ]
          },
          "metadata": {}
        },
        {
          "output_type": "display_data",
          "data": {
            "text/plain": [
              "<IPython.core.display.Javascript object>"
            ],
            "application/javascript": [
              "download(\"download_b7ed0255-45de-4c2f-80ba-666d3f6eee97\", \"final_data.csv\", 147594321)"
            ]
          },
          "metadata": {}
        }
      ]
    },
    {
      "cell_type": "markdown",
      "source": [
        "GRU Model"
      ],
      "metadata": {
        "id": "8VclKUTJRaLG"
      }
    },
    {
      "cell_type": "code",
      "source": [
        "X = np.array([np.hstack([src_vec, plag_vec]) for src_vec, plag_vec in zip(df['source_vec'], df['plagiarism_vec'])])\n",
        "y = np.array(df['label'].values)\n",
        "\n",
        "# GRU/LSTM expects 3D input: (samples, timesteps, features)\n",
        "X = X.reshape((X.shape[0], 1, X.shape[1]))\n",
        "\n",
        "X_train, X_test, y_train, y_test = train_test_split(X, y, test_size=0.2, random_state=42)\n"
      ],
      "metadata": {
        "id": "r8OaCXAKzgVb"
      },
      "execution_count": null,
      "outputs": []
    },
    {
      "cell_type": "code",
      "source": [
        "num_gru_layers = 2\n",
        "gru_units = [64, 32]\n",
        "dropout_rates = [0.3, 0.2]\n",
        "dense_units = 64\n",
        "dense_activation = 'relu'\n",
        "learning_rate = 0.001\n",
        "optimizer_choice = 'adam'\n",
        "batch_size = 32\n",
        "epochs = 30"
      ],
      "metadata": {
        "id": "5uRlt0xe0VSG"
      },
      "execution_count": null,
      "outputs": []
    },
    {
      "cell_type": "code",
      "source": [
        "model = Sequential()\n",
        "\n",
        "for i in range(num_gru_layers):\n",
        "    # For first layer, specify input_shape, others no need\n",
        "    if i == 0:\n",
        "        model.add(GRU(units=gru_units[i], return_sequences=(i < num_gru_layers - 1), input_shape=(X_train.shape[1], X_train.shape[2])))\n",
        "    else:\n",
        "        model.add(GRU(units=gru_units[i], return_sequences=(i < num_gru_layers - 1)))\n",
        "    model.add(Dropout(dropout_rates[i]))\n",
        "\n",
        "model.add(Dense(units=dense_units, activation=dense_activation))\n",
        "\n",
        "model.add(Dense(1, activation='sigmoid'))\n",
        "\n",
        "optimizer = Adam(learning_rate=learning_rate)\n",
        "\n",
        "model.compile(optimizer=optimizer, loss='binary_crossentropy', metrics=['accuracy'])\n"
      ],
      "metadata": {
        "id": "BIv9YLzM0XsC"
      },
      "execution_count": null,
      "outputs": []
    },
    {
      "cell_type": "code",
      "source": [
        "early_stopping = EarlyStopping(monitor='val_loss', patience=3, restore_best_weights=True)"
      ],
      "metadata": {
        "id": "JZWwJmgy0nrh"
      },
      "execution_count": null,
      "outputs": []
    },
    {
      "cell_type": "code",
      "source": [
        "history = model.fit(X_train, y_train, epochs=epochs, batch_size=batch_size,\n",
        "                    validation_data=(X_test, y_test), callbacks=[early_stopping])\n"
      ],
      "metadata": {
        "colab": {
          "base_uri": "https://localhost:8080/"
        },
        "outputId": "e696dd55-8e1e-42f3-8810-bec9bf14339e",
        "id": "PJDZbGa5M2uq"
      },
      "execution_count": null,
      "outputs": [
        {
          "output_type": "stream",
          "name": "stdout",
          "text": [
            "Epoch 1/30\n",
            "9173/9173 [==============================] - 55s 6ms/step - loss: 0.4832 - accuracy: 0.7583 - val_loss: 0.4248 - val_accuracy: 0.7992\n",
            "Epoch 2/30\n",
            "9173/9173 [==============================] - 43s 5ms/step - loss: 0.4229 - accuracy: 0.8007 - val_loss: 0.3994 - val_accuracy: 0.8164\n",
            "Epoch 3/30\n",
            "9173/9173 [==============================] - 45s 5ms/step - loss: 0.4017 - accuracy: 0.8134 - val_loss: 0.3897 - val_accuracy: 0.8198\n",
            "Epoch 4/30\n",
            "9173/9173 [==============================] - 45s 5ms/step - loss: 0.3896 - accuracy: 0.8202 - val_loss: 0.3785 - val_accuracy: 0.8279\n",
            "Epoch 5/30\n",
            "9173/9173 [==============================] - 46s 5ms/step - loss: 0.3811 - accuracy: 0.8255 - val_loss: 0.3680 - val_accuracy: 0.8311\n",
            "Epoch 6/30\n",
            "9173/9173 [==============================] - 45s 5ms/step - loss: 0.3740 - accuracy: 0.8299 - val_loss: 0.3698 - val_accuracy: 0.8318\n",
            "Epoch 7/30\n",
            "9173/9173 [==============================] - 45s 5ms/step - loss: 0.3682 - accuracy: 0.8328 - val_loss: 0.3662 - val_accuracy: 0.8333\n",
            "Epoch 8/30\n",
            "9173/9173 [==============================] - 44s 5ms/step - loss: 0.3638 - accuracy: 0.8352 - val_loss: 0.3649 - val_accuracy: 0.8344\n",
            "Epoch 9/30\n",
            "9173/9173 [==============================] - 44s 5ms/step - loss: 0.3586 - accuracy: 0.8379 - val_loss: 0.3622 - val_accuracy: 0.8358\n",
            "Epoch 10/30\n",
            "9173/9173 [==============================] - 43s 5ms/step - loss: 0.3548 - accuracy: 0.8400 - val_loss: 0.3596 - val_accuracy: 0.8359\n",
            "Epoch 11/30\n",
            "9173/9173 [==============================] - 44s 5ms/step - loss: 0.3528 - accuracy: 0.8419 - val_loss: 0.3605 - val_accuracy: 0.8364\n",
            "Epoch 12/30\n",
            "9173/9173 [==============================] - 44s 5ms/step - loss: 0.3497 - accuracy: 0.8432 - val_loss: 0.3594 - val_accuracy: 0.8376\n",
            "Epoch 13/30\n",
            "9173/9173 [==============================] - 44s 5ms/step - loss: 0.3466 - accuracy: 0.8455 - val_loss: 0.3570 - val_accuracy: 0.8392\n",
            "Epoch 14/30\n",
            "9173/9173 [==============================] - 45s 5ms/step - loss: 0.3456 - accuracy: 0.8451 - val_loss: 0.3560 - val_accuracy: 0.8385\n",
            "Epoch 15/30\n",
            "9173/9173 [==============================] - 44s 5ms/step - loss: 0.3425 - accuracy: 0.8467 - val_loss: 0.3570 - val_accuracy: 0.8389\n",
            "Epoch 16/30\n",
            "9173/9173 [==============================] - 47s 5ms/step - loss: 0.3397 - accuracy: 0.8482 - val_loss: 0.3568 - val_accuracy: 0.8399\n",
            "Epoch 17/30\n",
            "9173/9173 [==============================] - 46s 5ms/step - loss: 0.3376 - accuracy: 0.8502 - val_loss: 0.3541 - val_accuracy: 0.8414\n",
            "Epoch 18/30\n",
            "9173/9173 [==============================] - 46s 5ms/step - loss: 0.3352 - accuracy: 0.8516 - val_loss: 0.3610 - val_accuracy: 0.8377\n",
            "Epoch 19/30\n",
            "9173/9173 [==============================] - 43s 5ms/step - loss: 0.3343 - accuracy: 0.8517 - val_loss: 0.3581 - val_accuracy: 0.8387\n",
            "Epoch 20/30\n",
            "9173/9173 [==============================] - 44s 5ms/step - loss: 0.3329 - accuracy: 0.8530 - val_loss: 0.3559 - val_accuracy: 0.8414\n"
          ]
        }
      ]
    },
    {
      "cell_type": "code",
      "source": [
        "plt.figure(figsize=(8, 5))\n",
        "plt.plot(history.history['accuracy'], label='Training Accuracy')\n",
        "plt.plot(history.history['val_accuracy'], label='Validation Accuracy')\n",
        "plt.title('Model Accuracy')\n",
        "plt.xlabel('Epochs')\n",
        "plt.ylabel('Accuracy')\n",
        "plt.legend()\n",
        "plt.show()\n"
      ],
      "metadata": {
        "colab": {
          "base_uri": "https://localhost:8080/",
          "height": 487
        },
        "outputId": "d4208d68-d021-4bc8-f1a1-ddc7dd0c3d8b",
        "id": "Pr6wBfUKM2uw"
      },
      "execution_count": null,
      "outputs": [
        {
          "output_type": "display_data",
          "data": {
            "text/plain": [
              "<Figure size 800x500 with 1 Axes>"
            ],
            "image/png": "[encoded data removed]"
          },
          "metadata": {}
        }
      ]
    },
    {
      "cell_type": "code",
      "source": [
        "plt.figure(figsize=(8, 5))\n",
        "plt.plot(history.history['loss'], label='Training Loss')\n",
        "plt.plot(history.history['val_loss'], label='Validation Loss')\n",
        "plt.title('Model Loss')\n",
        "plt.xlabel('Epochs')\n",
        "plt.ylabel('Loss')\n",
        "plt.legend()\n",
        "plt.show()\n"
      ],
      "metadata": {
        "colab": {
          "base_uri": "https://localhost:8080/",
          "height": 487
        },
        "id": "kadSQcK-K6Gw",
        "outputId": "785aa8eb-3695-4332-af43-4f2d5fbd06d8"
      },
      "execution_count": null,
      "outputs": [
        {
          "output_type": "display_data",
          "data": {
            "text/plain": [
              "<Figure size 800x500 with 1 Axes>"
            ],
            "image/png": "[encoded data removed]"
          },
          "metadata": {}
        }
      ]
    },
    {
      "cell_type": "markdown",
      "source": [
        "Testing"
      ],
      "metadata": {
        "id": "Tmu8PVktSRzp"
      }
    },
    {
      "cell_type": "code",
      "source": [
        "loss, accuracy = model.evaluate(X_test, y_test)\n",
        "print(f\"\\nTest Accuracy: {accuracy * 100:.2f}%\")"
      ],
      "metadata": {
        "colab": {
          "base_uri": "https://localhost:8080/"
        },
        "id": "s9TtjDbHF1LI",
        "outputId": "1fd51fb0-4358-4fe6-c9ac-b101c9c6b71c"
      },
      "execution_count": null,
      "outputs": [
        {
          "output_type": "stream",
          "name": "stdout",
          "text": [
            "2294/2294 [==============================] - 6s 2ms/step - loss: 0.3541 - accuracy: 0.8414\n",
            "\n",
            "Test Accuracy: 84.14%\n"
          ]
        }
      ]
    },
    {
      "cell_type": "code",
      "source": [
        "y_pred = (model.predict(X_test) > 0.5).astype(\"int32\")\n",
        "print(\"\\nClassification Report:\\n\", classification_report(y_test, y_pred))"
      ],
      "metadata": {
        "colab": {
          "base_uri": "https://localhost:8080/"
        },
        "id": "0ezMFIhvKxqA",
        "outputId": "cfb82c13-1593-4b8b-e978-a31c02da8754"
      },
      "execution_count": null,
      "outputs": [
        {
          "output_type": "stream",
          "name": "stdout",
          "text": [
            "2294/2294 [==============================] - 7s 2ms/step\n",
            "\n",
            "Classification Report:\n",
            "               precision    recall  f1-score   support\n",
            "\n",
            "           0       0.86      0.82      0.84     36869\n",
            "           1       0.82      0.87      0.84     36514\n",
            "\n",
            "    accuracy                           0.84     73383\n",
            "   macro avg       0.84      0.84      0.84     73383\n",
            "weighted avg       0.84      0.84      0.84     73383\n",
            "\n"
          ]
        }
      ]
    },
    {
      "cell_type": "markdown",
      "source": [
        "Save models to deploy app"
      ],
      "metadata": {
        "id": "g34weqasSUOd"
      }
    },
    {
      "cell_type": "code",
      "source": [
        "model.save('best_gru_model.h5')\n",
        "model.save(\"best_gru_model.keras\")\n",
        "\n",
        "import pickle\n",
        "pickle.dump(w2v_model, open('word2vec_model.pkl', 'wb'))"
      ],
      "metadata": {
        "colab": {
          "base_uri": "https://localhost:8080/"
        },
        "id": "6f2IJ8JL2YLS",
        "outputId": "994bd2b8-fa82-4ab7-9740-528b7f174566"
      },
      "execution_count": null,
      "outputs": [
        {
          "output_type": "stream",
          "name": "stderr",
          "text": [
            "WARNING:absl:You are saving your model as an HDF5 file via `model.save()` or `keras.saving.save_model(model)`. This file format is considered legacy. We recommend using instead the native Keras format, e.g. `model.save('my_model.keras')` or `keras.saving.save_model(model, 'my_model.keras')`. \n"
          ]
        }
      ]
    }
  ]
}